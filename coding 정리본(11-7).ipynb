{
 "cells": [
  {
   "cell_type": "code",
   "execution_count": 1,
   "metadata": {},
   "outputs": [],
   "source": [
    "a=[1,2,3,4]"
   ]
  },
  {
   "cell_type": "code",
   "execution_count": 2,
   "metadata": {
    "scrolled": true
   },
   "outputs": [
    {
     "data": {
      "text/plain": [
       "list"
      ]
     },
     "execution_count": 2,
     "metadata": {},
     "output_type": "execute_result"
    }
   ],
   "source": [
    "type(a)"
   ]
  },
  {
   "cell_type": "code",
   "execution_count": 3,
   "metadata": {},
   "outputs": [],
   "source": [
    "a=1"
   ]
  },
  {
   "cell_type": "code",
   "execution_count": 4,
   "metadata": {},
   "outputs": [
    {
     "data": {
      "text/plain": [
       "int"
      ]
     },
     "execution_count": 4,
     "metadata": {},
     "output_type": "execute_result"
    }
   ],
   "source": [
    "type(a)"
   ]
  },
  {
   "cell_type": "code",
   "execution_count": 5,
   "metadata": {},
   "outputs": [],
   "source": [
    "a=1.35"
   ]
  },
  {
   "cell_type": "code",
   "execution_count": 6,
   "metadata": {},
   "outputs": [
    {
     "data": {
      "text/plain": [
       "float"
      ]
     },
     "execution_count": 6,
     "metadata": {},
     "output_type": "execute_result"
    }
   ],
   "source": [
    "type(a)"
   ]
  },
  {
   "cell_type": "code",
   "execution_count": 16,
   "metadata": {},
   "outputs": [],
   "source": [
    "a='13579'"
   ]
  },
  {
   "cell_type": "code",
   "execution_count": 17,
   "metadata": {},
   "outputs": [
    {
     "data": {
      "text/plain": [
       "str"
      ]
     },
     "execution_count": 17,
     "metadata": {},
     "output_type": "execute_result"
    }
   ],
   "source": [
    "type(a)"
   ]
  },
  {
   "cell_type": "code",
   "execution_count": 9,
   "metadata": {},
   "outputs": [],
   "source": [
    "a={\"a\":\"apple\",\"b\":\"banana\"}"
   ]
  },
  {
   "cell_type": "code",
   "execution_count": 10,
   "metadata": {
    "scrolled": true
   },
   "outputs": [
    {
     "data": {
      "text/plain": [
       "dict"
      ]
     },
     "execution_count": 10,
     "metadata": {},
     "output_type": "execute_result"
    }
   ],
   "source": [
    "type(a)"
   ]
  },
  {
   "cell_type": "code",
   "execution_count": 20,
   "metadata": {
    "scrolled": true
   },
   "outputs": [
    {
     "data": {
      "text/plain": [
       "tuple"
      ]
     },
     "execution_count": 20,
     "metadata": {},
     "output_type": "execute_result"
    }
   ],
   "source": [
    "a=1,2,3,4\n",
    "type(a)"
   ]
  },
  {
   "cell_type": "code",
   "execution_count": 21,
   "metadata": {},
   "outputs": [
    {
     "data": {
      "text/plain": [
       "tuple"
      ]
     },
     "execution_count": 21,
     "metadata": {},
     "output_type": "execute_result"
    }
   ],
   "source": [
    "a=(1,2,3,4)\n",
    "type(a)"
   ]
  },
  {
   "cell_type": "markdown",
   "metadata": {},
   "source": [
    "type의 종류 -> list, int(정수), float(소수), str('문자','숫자'), tuple, dict"
   ]
  },
  {
   "cell_type": "code",
   "execution_count": 11,
   "metadata": {},
   "outputs": [],
   "source": [
    "a=1"
   ]
  },
  {
   "cell_type": "code",
   "execution_count": 12,
   "metadata": {},
   "outputs": [
    {
     "name": "stdout",
     "output_type": "stream",
     "text": [
      "<class 'int'>\n"
     ]
    }
   ],
   "source": [
    "print(type(a))"
   ]
  },
  {
   "cell_type": "code",
   "execution_count": 13,
   "metadata": {},
   "outputs": [],
   "source": [
    "a={\"a\":\"apple\",\"b\":\"banana\"}"
   ]
  },
  {
   "cell_type": "code",
   "execution_count": 14,
   "metadata": {},
   "outputs": [
    {
     "name": "stdout",
     "output_type": "stream",
     "text": [
      "<class 'dict'>\n"
     ]
    }
   ],
   "source": [
    "print(type(a))"
   ]
  },
  {
   "cell_type": "code",
   "execution_count": 23,
   "metadata": {},
   "outputs": [],
   "source": [
    "a=['love', 'hate']"
   ]
  },
  {
   "cell_type": "code",
   "execution_count": 24,
   "metadata": {},
   "outputs": [
    {
     "name": "stdout",
     "output_type": "stream",
     "text": [
      "<class 'list'>\n"
     ]
    }
   ],
   "source": [
    "print(type(a))"
   ]
  },
  {
   "cell_type": "code",
   "execution_count": 28,
   "metadata": {},
   "outputs": [
    {
     "name": "stdout",
     "output_type": "stream",
     "text": [
      "hate\n"
     ]
    }
   ],
   "source": [
    "print(a[1])"
   ]
  },
  {
   "cell_type": "code",
   "execution_count": 30,
   "metadata": {},
   "outputs": [],
   "source": [
    "a=['love', 'hate', 'like', 'win']"
   ]
  },
  {
   "cell_type": "code",
   "execution_count": 31,
   "metadata": {},
   "outputs": [
    {
     "name": "stdout",
     "output_type": "stream",
     "text": [
      "win\n"
     ]
    }
   ],
   "source": [
    "print(a[3])"
   ]
  },
  {
   "cell_type": "code",
   "execution_count": 32,
   "metadata": {},
   "outputs": [],
   "source": [
    "a=[7,8,9]\n",
    "b=[2,5,10]"
   ]
  },
  {
   "cell_type": "code",
   "execution_count": 33,
   "metadata": {},
   "outputs": [
    {
     "data": {
      "text/plain": [
       "14"
      ]
     },
     "execution_count": 33,
     "metadata": {},
     "output_type": "execute_result"
    }
   ],
   "source": [
    "a[2]+b[1]"
   ]
  },
  {
   "cell_type": "code",
   "execution_count": 36,
   "metadata": {},
   "outputs": [
    {
     "name": "stdout",
     "output_type": "stream",
     "text": [
      "<class 'list'>\n"
     ]
    }
   ],
   "source": [
    "a='12'\n",
    "a=list(a)\n",
    "print(type(a))"
   ]
  },
  {
   "cell_type": "code",
   "execution_count": 37,
   "metadata": {},
   "outputs": [
    {
     "name": "stdout",
     "output_type": "stream",
     "text": [
      "['1', '2']\n"
     ]
    }
   ],
   "source": [
    "a='12'\n",
    "a=list(a)\n",
    "print(a)"
   ]
  },
  {
   "cell_type": "code",
   "execution_count": 39,
   "metadata": {},
   "outputs": [
    {
     "name": "stdout",
     "output_type": "stream",
     "text": [
      "['l', 'o', 'v', 'e']\n"
     ]
    }
   ],
   "source": [
    "a='love'\n",
    "a=list(a)\n",
    "print(a)"
   ]
  },
  {
   "cell_type": "code",
   "execution_count": 40,
   "metadata": {},
   "outputs": [
    {
     "name": "stdout",
     "output_type": "stream",
     "text": [
      "12\n"
     ]
    }
   ],
   "source": [
    "a=12.35\n",
    "a=int(a)\n",
    "print(a)"
   ]
  },
  {
   "cell_type": "markdown",
   "metadata": {},
   "source": [
    "type을 임의로 변경 가능함 (39,40번)"
   ]
  },
  {
   "cell_type": "code",
   "execution_count": 50,
   "metadata": {},
   "outputs": [
    {
     "name": "stdout",
     "output_type": "stream",
     "text": [
      "[4]\n"
     ]
    }
   ],
   "source": [
    "a=[3,4,5,6]\n",
    "print(a[1:2])"
   ]
  },
  {
   "cell_type": "markdown",
   "metadata": {},
   "source": [
    "list의 범위를 지정해주는 것 ':'"
   ]
  },
  {
   "cell_type": "code",
   "execution_count": 1,
   "metadata": {},
   "outputs": [
    {
     "name": "stdout",
     "output_type": "stream",
     "text": [
      "<class 'list'>\n"
     ]
    },
    {
     "data": {
      "text/plain": [
       "[(1, 2, 3), (3, 8, 0)]"
      ]
     },
     "execution_count": 1,
     "metadata": {},
     "output_type": "execute_result"
    }
   ],
   "source": [
    "a=[(1,2,3), (3,8,0)]\n",
    "print(type(a))\n",
    "a"
   ]
  },
  {
   "cell_type": "code",
   "execution_count": 53,
   "metadata": {},
   "outputs": [
    {
     "data": {
      "text/plain": [
       "7"
      ]
     },
     "execution_count": 53,
     "metadata": {},
     "output_type": "execute_result"
    }
   ],
   "source": [
    "a='abcdefg'\n",
    "len(a)"
   ]
  },
  {
   "cell_type": "markdown",
   "metadata": {},
   "source": [
    "len(a) -> a의 길이"
   ]
  },
  {
   "cell_type": "code",
   "execution_count": 55,
   "metadata": {
    "scrolled": true
   },
   "outputs": [
    {
     "data": {
      "text/plain": [
       "7"
      ]
     },
     "execution_count": 55,
     "metadata": {},
     "output_type": "execute_result"
    }
   ],
   "source": [
    "a='I am a student'\n",
    "b=a.find('student')\n",
    "b"
   ]
  },
  {
   "cell_type": "markdown",
   "metadata": {},
   "source": [
    "a.find(' ') -> 단어가 시작하는 곳의 순서"
   ]
  },
  {
   "cell_type": "code",
   "execution_count": 56,
   "metadata": {},
   "outputs": [
    {
     "data": {
      "text/plain": [
       "26"
      ]
     },
     "execution_count": 56,
     "metadata": {},
     "output_type": "execute_result"
    }
   ],
   "source": [
    "a='Student is a student is a student'\n",
    "b=a.rindex('student')\n",
    "b"
   ]
  },
  {
   "cell_type": "markdown",
   "metadata": {},
   "source": [
    "a.rindex(' ') -> 제일 오른쪽의 단어가 시작하는 곳의 순서"
   ]
  },
  {
   "cell_type": "code",
   "execution_count": 62,
   "metadata": {},
   "outputs": [
    {
     "data": {
      "text/plain": [
       "'ABCDEFG'"
      ]
     },
     "execution_count": 62,
     "metadata": {},
     "output_type": "execute_result"
    }
   ],
   "source": [
    "a='abcdefg'\n",
    "a.upper()"
   ]
  },
  {
   "cell_type": "markdown",
   "metadata": {},
   "source": [
    "a.upper() -> 대문자화"
   ]
  },
  {
   "cell_type": "code",
   "execution_count": 73,
   "metadata": {},
   "outputs": [
    {
     "data": {
      "text/plain": [
       "'He is a student'"
      ]
     },
     "execution_count": 73,
     "metadata": {},
     "output_type": "execute_result"
    }
   ],
   "source": [
    "a=' He is a student \\n '\n",
    "b=a.strip()\n",
    "b"
   ]
  },
  {
   "cell_type": "markdown",
   "metadata": {},
   "source": [
    "a.strip() -> 양끝의 공백 / \\n제거"
   ]
  },
  {
   "cell_type": "code",
   "execution_count": 74,
   "metadata": {},
   "outputs": [
    {
     "data": {
      "text/plain": [
       "['He', 'is', 'a', 'student']"
      ]
     },
     "execution_count": 74,
     "metadata": {},
     "output_type": "execute_result"
    }
   ],
   "source": [
    "a='He is a student'\n",
    "b=a.split()\n",
    "b"
   ]
  },
  {
   "cell_type": "markdown",
   "metadata": {},
   "source": [
    "a.split() -> 문장을 list화"
   ]
  },
  {
   "cell_type": "code",
   "execution_count": 79,
   "metadata": {},
   "outputs": [
    {
     "data": {
      "text/plain": [
       "'He  is  a  student'"
      ]
     },
     "execution_count": 79,
     "metadata": {},
     "output_type": "execute_result"
    }
   ],
   "source": [
    "c='  '.join(b)\n",
    "c"
   ]
  },
  {
   "cell_type": "code",
   "execution_count": null,
   "metadata": {},
   "outputs": [],
   "source": [
    "' '.join(b) -> split된 것을 다시 문장화"
   ]
  },
  {
   "cell_type": "code",
   "execution_count": 82,
   "metadata": {},
   "outputs": [
    {
     "data": {
      "text/plain": [
       "'She is a student'"
      ]
     },
     "execution_count": 82,
     "metadata": {},
     "output_type": "execute_result"
    }
   ],
   "source": [
    "a='He is a student'\n",
    "b=a.replace('He','She')\n",
    "b"
   ]
  },
  {
   "cell_type": "markdown",
   "metadata": {},
   "source": [
    "a.replace('x','y') -> x를 y로 대체"
   ]
  },
  {
   "cell_type": "code",
   "execution_count": 88,
   "metadata": {},
   "outputs": [
    {
     "name": "stdout",
     "output_type": "stream",
     "text": [
      "5\n",
      "6\n",
      "7\n",
      "8\n"
     ]
    }
   ],
   "source": [
    "a=[5,6,7,8]\n",
    "for b in a:\n",
    "    print(b)"
   ]
  },
  {
   "cell_type": "code",
   "execution_count": 89,
   "metadata": {},
   "outputs": [
    {
     "name": "stdout",
     "output_type": "stream",
     "text": [
      "0\n",
      "1\n"
     ]
    }
   ],
   "source": [
    "for b in range(2):\n",
    "    print(b)"
   ]
  },
  {
   "cell_type": "code",
   "execution_count": 90,
   "metadata": {},
   "outputs": [
    {
     "name": "stdout",
     "output_type": "stream",
     "text": [
      "5\n",
      "6\n"
     ]
    }
   ],
   "source": [
    "for b in range(2):\n",
    "    print(a[b])"
   ]
  },
  {
   "cell_type": "code",
   "execution_count": 91,
   "metadata": {},
   "outputs": [
    {
     "name": "stdout",
     "output_type": "stream",
     "text": [
      "0\n",
      "1\n"
     ]
    }
   ],
   "source": [
    "a=['x','y','z','w']\n",
    "for b in range(2):\n",
    "    print(b)"
   ]
  },
  {
   "cell_type": "code",
   "execution_count": 93,
   "metadata": {},
   "outputs": [
    {
     "name": "stdout",
     "output_type": "stream",
     "text": [
      "x\n",
      "y\n",
      "z\n"
     ]
    }
   ],
   "source": [
    "a=['x','y','z','w']\n",
    "for b in range(3):\n",
    "    print(a[b])"
   ]
  },
  {
   "cell_type": "markdown",
   "metadata": {},
   "source": [
    "range -> 순서값(0,1,2....)"
   ]
  },
  {
   "cell_type": "code",
   "execution_count": 102,
   "metadata": {},
   "outputs": [
    {
     "name": "stdout",
     "output_type": "stream",
     "text": [
      "['red', 'green', 'blue', 'purple']\n",
      "['red', 'green', 'blue', 'purple']\n",
      "['red', 'green', 'blue', 'purple']\n",
      "['red', 'green', 'blue', 'purple']\n"
     ]
    }
   ],
   "source": [
    "a = ['red', 'green', 'blue', 'purple']\n",
    "b = [0.1, 0.2, 0.3, 0.4]\n",
    "for x,y in enumerate(a):\n",
    "    print(a)"
   ]
  },
  {
   "cell_type": "code",
   "execution_count": 101,
   "metadata": {},
   "outputs": [
    {
     "name": "stdout",
     "output_type": "stream",
     "text": [
      "red\n",
      "green\n",
      "blue\n",
      "purple\n"
     ]
    }
   ],
   "source": [
    "a = ['red', 'green', 'blue', 'purple']\n",
    "b = [0.1, 0.2, 0.3, 0.4]\n",
    "for x,y in enumerate(a):\n",
    "    print(a[x])"
   ]
  },
  {
   "cell_type": "code",
   "execution_count": 96,
   "metadata": {
    "scrolled": true
   },
   "outputs": [
    {
     "ename": "TypeError",
     "evalue": "list indices must be integers or slices, not str",
     "output_type": "error",
     "traceback": [
      "\u001b[1;31m---------------------------------------------------------------------------\u001b[0m",
      "\u001b[1;31mTypeError\u001b[0m                                 Traceback (most recent call last)",
      "\u001b[1;32m<ipython-input-96-6894fdbc1263>\u001b[0m in \u001b[0;36m<module>\u001b[1;34m\u001b[0m\n\u001b[0;32m      2\u001b[0m \u001b[0mb\u001b[0m \u001b[1;33m=\u001b[0m \u001b[1;33m[\u001b[0m\u001b[1;36m0.1\u001b[0m\u001b[1;33m,\u001b[0m \u001b[1;36m0.2\u001b[0m\u001b[1;33m,\u001b[0m \u001b[1;36m0.3\u001b[0m\u001b[1;33m,\u001b[0m \u001b[1;36m0.4\u001b[0m\u001b[1;33m]\u001b[0m\u001b[1;33m\u001b[0m\u001b[1;33m\u001b[0m\u001b[0m\n\u001b[0;32m      3\u001b[0m \u001b[1;32mfor\u001b[0m \u001b[0mx\u001b[0m\u001b[1;33m,\u001b[0m\u001b[0my\u001b[0m \u001b[1;32min\u001b[0m \u001b[0menumerate\u001b[0m\u001b[1;33m(\u001b[0m\u001b[0ma\u001b[0m\u001b[1;33m)\u001b[0m\u001b[1;33m:\u001b[0m\u001b[1;33m\u001b[0m\u001b[1;33m\u001b[0m\u001b[0m\n\u001b[1;32m----> 4\u001b[1;33m     \u001b[0mprint\u001b[0m\u001b[1;33m(\u001b[0m\u001b[0ma\u001b[0m\u001b[1;33m[\u001b[0m\u001b[0my\u001b[0m\u001b[1;33m]\u001b[0m\u001b[1;33m)\u001b[0m\u001b[1;33m\u001b[0m\u001b[1;33m\u001b[0m\u001b[0m\n\u001b[0m",
      "\u001b[1;31mTypeError\u001b[0m: list indices must be integers or slices, not str"
     ]
    }
   ],
   "source": [
    "a = ['red', 'green', 'blue', 'purple']\n",
    "b = [0.1, 0.2, 0.3, 0.4]\n",
    "for x,y in enumerate(a):\n",
    "    print(a[y])"
   ]
  },
  {
   "cell_type": "code",
   "execution_count": 105,
   "metadata": {},
   "outputs": [
    {
     "name": "stdout",
     "output_type": "stream",
     "text": [
      "red:0.1\n",
      "green:0.2\n",
      "blue:0.3\n",
      "purple:0.4\n"
     ]
    }
   ],
   "source": [
    "a = ['red', 'green', 'blue', 'purple']\n",
    "b = [0.1, 0.2, 0.3, 0.4]\n",
    "for x,y in enumerate(a):\n",
    "    print(\"{}:{}\". format(y,b[x]))"
   ]
  },
  {
   "cell_type": "code",
   "execution_count": 106,
   "metadata": {
    "scrolled": true
   },
   "outputs": [
    {
     "name": "stdout",
     "output_type": "stream",
     "text": [
      "red:10.0%\n",
      "green:20.0%\n",
      "blue:30.0%\n",
      "purple:40.0%\n"
     ]
    }
   ],
   "source": [
    "a = ['red', 'green', 'blue', 'purple']\n",
    "b = [0.1, 0.2, 0.3, 0.4]\n",
    "for x,y in enumerate(a):\n",
    "    print(\"{}:{}%\". format(y,b[x]*100))"
   ]
  },
  {
   "cell_type": "markdown",
   "metadata": {},
   "source": [
    "enumerate \n",
    "x -> range값(0,1,2...)\n",
    "y -> 문자 값 (여기선 'red','green'....)"
   ]
  },
  {
   "cell_type": "code",
   "execution_count": 1,
   "metadata": {
    "scrolled": true
   },
   "outputs": [
    {
     "name": "stdout",
     "output_type": "stream",
     "text": [
      "red:0.1\n",
      "green:0.2\n",
      "blue:0.3\n",
      "purple:0.4\n"
     ]
    }
   ],
   "source": [
    "a = ['red', 'green', 'blue', 'purple']\n",
    "b = [0.1, 0.2, 0.3, 0.4]\n",
    "for x,y in zip(a,b):\n",
    "    print('{}:{}'.format(x,y))"
   ]
  },
  {
   "cell_type": "markdown",
   "metadata": {},
   "source": [
    "zip\n",
    "-> 자료를 대응시켜주는 역할 (a의 n번째 - b의 n번째)"
   ]
  },
  {
   "cell_type": "code",
   "execution_count": 8,
   "metadata": {},
   "outputs": [
    {
     "name": "stdout",
     "output_type": "stream",
     "text": [
      "b\n"
     ]
    }
   ],
   "source": [
    "a=0\n",
    "if a==0:\n",
    "    print('b')"
   ]
  },
  {
   "cell_type": "code",
   "execution_count": 6,
   "metadata": {},
   "outputs": [
    {
     "name": "stdout",
     "output_type": "stream",
     "text": [
      "b\n"
     ]
    }
   ],
   "source": [
    "a=0\n",
    "if a!=1:\n",
    "    print('b')"
   ]
  },
  {
   "cell_type": "markdown",
   "metadata": {},
   "source": [
    "부정형 -> !사용"
   ]
  },
  {
   "cell_type": "code",
   "execution_count": 10,
   "metadata": {},
   "outputs": [
    {
     "name": "stdout",
     "output_type": "stream",
     "text": [
      "b\n",
      "c\n"
     ]
    }
   ],
   "source": [
    "a=0\n",
    "if a==0:\n",
    "    print('b')\n",
    "    print('c')"
   ]
  },
  {
   "cell_type": "code",
   "execution_count": 12,
   "metadata": {},
   "outputs": [
    {
     "name": "stdout",
     "output_type": "stream",
     "text": [
      "c\n"
     ]
    }
   ],
   "source": [
    "a=0\n",
    "if a!=0:\n",
    "    print('b')\n",
    "else:\n",
    "    print('c')"
   ]
  },
  {
   "cell_type": "markdown",
   "metadata": {},
   "source": [
    "else -> 'if not'의 의미"
   ]
  },
  {
   "cell_type": "code",
   "execution_count": 13,
   "metadata": {},
   "outputs": [
    {
     "name": "stdout",
     "output_type": "stream",
     "text": [
      "1\n",
      "2\n",
      "3\n"
     ]
    }
   ],
   "source": [
    "for a in range(1,4):\n",
    "    print(a)"
   ]
  },
  {
   "cell_type": "code",
   "execution_count": 16,
   "metadata": {},
   "outputs": [
    {
     "name": "stdout",
     "output_type": "stream",
     "text": [
      "1\n",
      "3\n"
     ]
    }
   ],
   "source": [
    "for a in range(1, 2):\n",
    "    print(a)\n",
    "    for b in range(3, 4):\n",
    "        print(a*b)"
   ]
  },
  {
   "cell_type": "code",
   "execution_count": 18,
   "metadata": {},
   "outputs": [
    {
     "name": "stdout",
     "output_type": "stream",
     "text": [
      "2\n",
      "6\n",
      "8\n",
      "3\n",
      "9\n",
      "12\n",
      "4\n",
      "12\n",
      "16\n"
     ]
    }
   ],
   "source": [
    "for a in range (2,5):\n",
    "    print(a)\n",
    "    for b in range(3,5):\n",
    "        print(a*b)"
   ]
  },
  {
   "cell_type": "code",
   "execution_count": 19,
   "metadata": {},
   "outputs": [
    {
     "name": "stdout",
     "output_type": "stream",
     "text": [
      "4\n",
      "8\n",
      "12\n"
     ]
    }
   ],
   "source": [
    "for a in range(1,4):\n",
    "    for b in range(3,5):\n",
    "        if b>=4:\n",
    "            print(a*b)"
   ]
  },
  {
   "cell_type": "markdown",
   "metadata": {},
   "source": [
    "-------------------------------------------------------------------\n",
    "Data -> ‘숫자화’ 될 수 있는 것\n",
    "1. 소리 데이터\n",
    "2. 이미지, 영상 데이터\n",
    "3. 텍스트 데이터\n",
    "4. 숫자 데이터\n"
   ]
  },
  {
   "cell_type": "markdown",
   "metadata": {},
   "source": [
    "이미지 데이터\n",
    " -> 0:흰색 / 10:검정색 이라 했을 때 한 픽셀(사각형)마다 숫자값으로 표현 가능\n",
    "    (직사각형의 형태로 구현 –> ‘행렬’구조)\n",
    "행렬 -> ‘벡터’는 아님\n",
    "‘벡터’의 구조로 바꿔줘야함 (행렬의 숫자를 한 줄로 길게 나열해야함)\n",
    "2차원 – 흑백\n",
    "3차원 – 칼라\n",
    "4차원 – 칼라 동영상"
   ]
  },
  {
   "cell_type": "markdown",
   "metadata": {},
   "source": [
    "<ex> 소리 데이터\n",
    "소리의 wave를 점들의 이음으로 표현 -> 각각 그 점의 좌표를 숫자로 표현 가능 (벡터로 나열)"
   ]
  },
  {
   "cell_type": "markdown",
   "metadata": {},
   "source": [
    "<ex> 텍스트 데이터\n",
    "50000개의 단어가 있을 때 -> 첫번째 단어 : 10000…..0\n",
    "                             50000번째 단어 : 0000…..0001"
   ]
  },
  {
   "cell_type": "markdown",
   "metadata": {},
   "source": [
    "‘library’ -> 함수를 모아놓은 것\n",
    "그 일종인 ‘numpy’"
   ]
  },
  {
   "cell_type": "code",
   "execution_count": 2,
   "metadata": {},
   "outputs": [
    {
     "data": {
      "text/plain": [
       "[1, 3, 5, 2, 4, 6]"
      ]
     },
     "execution_count": 2,
     "metadata": {},
     "output_type": "execute_result"
    }
   ],
   "source": [
    "a=[1,3,5]\n",
    "b=[2,4,6]\n",
    "c=a+b\n",
    "c"
   ]
  },
  {
   "cell_type": "code",
   "execution_count": 3,
   "metadata": {},
   "outputs": [],
   "source": [
    "import numpy"
   ]
  },
  {
   "cell_type": "code",
   "execution_count": 4,
   "metadata": {},
   "outputs": [],
   "source": [
    "A=numpy.array(a)\n",
    "B=numpy.array(b)"
   ]
  },
  {
   "cell_type": "code",
   "execution_count": 5,
   "metadata": {},
   "outputs": [
    {
     "data": {
      "text/plain": [
       "array([ 3,  7, 11])"
      ]
     },
     "execution_count": 5,
     "metadata": {},
     "output_type": "execute_result"
    }
   ],
   "source": [
    "A+B"
   ]
  },
  {
   "cell_type": "markdown",
   "metadata": {},
   "source": [
    "‘array’ -> list 상태(계산 불가능한 상태) 에서 계산이 가능한 상태로 바꿔주는 것"
   ]
  },
  {
   "cell_type": "code",
   "execution_count": 6,
   "metadata": {},
   "outputs": [
    {
     "data": {
      "text/plain": [
       "numpy.ndarray"
      ]
     },
     "execution_count": 6,
     "metadata": {},
     "output_type": "execute_result"
    }
   ],
   "source": [
    "type(A)"
   ]
  },
  {
   "cell_type": "code",
   "execution_count": 7,
   "metadata": {},
   "outputs": [],
   "source": [
    "import numpy as np"
   ]
  },
  {
   "cell_type": "markdown",
   "metadata": {},
   "source": [
    "numpy 를 np로 줄여서 쓰겠다"
   ]
  },
  {
   "cell_type": "code",
   "execution_count": 8,
   "metadata": {},
   "outputs": [],
   "source": [
    "X = np.array([[1,2,3],[4,5,6]])"
   ]
  },
  {
   "cell_type": "code",
   "execution_count": 9,
   "metadata": {},
   "outputs": [
    {
     "data": {
      "text/plain": [
       "array([[1, 2, 3],\n",
       "       [4, 5, 6]])"
      ]
     },
     "execution_count": 9,
     "metadata": {},
     "output_type": "execute_result"
    }
   ],
   "source": [
    "X"
   ]
  },
  {
   "cell_type": "code",
   "execution_count": 10,
   "metadata": {},
   "outputs": [
    {
     "data": {
      "text/plain": [
       "(2, 3)"
      ]
     },
     "execution_count": 10,
     "metadata": {},
     "output_type": "execute_result"
    }
   ],
   "source": [
    "X.shape"
   ]
  },
  {
   "cell_type": "markdown",
   "metadata": {},
   "source": [
    "‘shape’ -> 행렬의 차원을 보여주는 것 (2행 3열 구조의 행렬이다)"
   ]
  },
  {
   "cell_type": "code",
   "execution_count": 11,
   "metadata": {},
   "outputs": [],
   "source": [
    "import numpy as np\n",
    "import matplotlib.pyplot as plt"
   ]
  },
  {
   "cell_type": "code",
   "execution_count": 12,
   "metadata": {},
   "outputs": [],
   "source": [
    "from matplotlib import pyplot as plt"
   ]
  },
  {
   "cell_type": "markdown",
   "metadata": {},
   "source": [
    "‘numpy’라는 library 에도 (A, B…) 등 다양한 library 가 속해 있을 수 있음\n",
    "이럴 때 함수를 불러오는 법 -> numpy.A.D.(함수명) -> numpy 안에 A 안에 D안에 있는 함수\n",
    "                             (from numpy import A.D 로도 가능)"
   ]
  },
  {
   "cell_type": "code",
   "execution_count": 13,
   "metadata": {},
   "outputs": [
    {
     "data": {
      "text/plain": [
       "array([[         0, 1072168960,          0],\n",
       "       [1072168960,          0,          0]])"
      ]
     },
     "execution_count": 13,
     "metadata": {},
     "output_type": "execute_result"
    }
   ],
   "source": [
    "np.empty([2,3], dtype='int')"
   ]
  },
  {
   "cell_type": "markdown",
   "metadata": {},
   "source": [
    "np.empty 함수 (numpy 라는 library에 있는 empty 라는 함수)"
   ]
  },
  {
   "cell_type": "code",
   "execution_count": 15,
   "metadata": {},
   "outputs": [
    {
     "data": {
      "text/plain": [
       "array([[0., 0., 0.],\n",
       "       [0., 0., 0.]])"
      ]
     },
     "execution_count": 15,
     "metadata": {},
     "output_type": "execute_result"
    }
   ],
   "source": [
    "np.zeros([2,3])"
   ]
  },
  {
   "cell_type": "markdown",
   "metadata": {},
   "source": [
    "np.zeros([m,n]) -> m행 n열, 모두가 0이 들어가있는 행렬"
   ]
  },
  {
   "cell_type": "code",
   "execution_count": 17,
   "metadata": {},
   "outputs": [
    {
     "data": {
      "text/plain": [
       "array([[0, 0, 0],\n",
       "       [0, 0, 0]])"
      ]
     },
     "execution_count": 17,
     "metadata": {},
     "output_type": "execute_result"
    }
   ],
   "source": [
    "np.array([[0,0,0],[0,0,0]])"
   ]
  },
  {
   "cell_type": "markdown",
   "metadata": {},
   "source": [
    "np.array -> list 를 array 로 바꿔주는 함수"
   ]
  },
  {
   "cell_type": "code",
   "execution_count": 18,
   "metadata": {},
   "outputs": [
    {
     "data": {
      "text/plain": [
       "array([[1., 1., 1.],\n",
       "       [1., 1., 1.]])"
      ]
     },
     "execution_count": 18,
     "metadata": {},
     "output_type": "execute_result"
    }
   ],
   "source": [
    "np.ones([2,3])"
   ]
  },
  {
   "cell_type": "markdown",
   "metadata": {},
   "source": [
    "np.ones -> 0대신 1이 들어감 \n",
    "              근데 1뒤에 점이 들어가 있음\n",
    "              이때 dtype 을 ‘int’로 바꿔주면 해결"
   ]
  },
  {
   "cell_type": "code",
   "execution_count": 19,
   "metadata": {},
   "outputs": [
    {
     "data": {
      "text/plain": [
       "array([0, 1, 2, 3, 4])"
      ]
     },
     "execution_count": 19,
     "metadata": {},
     "output_type": "execute_result"
    }
   ],
   "source": [
    "np.arange(5)"
   ]
  },
  {
   "cell_type": "code",
   "execution_count": 20,
   "metadata": {},
   "outputs": [
    {
     "data": {
      "text/plain": [
       "array([0., 2., 4., 6., 8.])"
      ]
     },
     "execution_count": 20,
     "metadata": {},
     "output_type": "execute_result"
    }
   ],
   "source": [
    "np.arange(0,10,2, dtype='float64')"
   ]
  },
  {
   "cell_type": "markdown",
   "metadata": {},
   "source": [
    "n 개 범위의 array 를 만들어줌\n",
    "                 Np.arange(0,10,2) -> 0부터 10직전까지 2만큼의 간격"
   ]
  },
  {
   "cell_type": "code",
   "execution_count": 22,
   "metadata": {},
   "outputs": [
    {
     "data": {
      "text/plain": [
       "array([ 0.,  2.,  4.,  6.,  8., 10.])"
      ]
     },
     "execution_count": 22,
     "metadata": {},
     "output_type": "execute_result"
    }
   ],
   "source": [
    "np.linspace(0,10,6, dtype=float)"
   ]
  },
  {
   "cell_type": "markdown",
   "metadata": {},
   "source": [
    "np.linspace -> np.linspace(0.10.6) -> 0부터 10까지 6개의 값으로 나눠준다"
   ]
  },
  {
   "cell_type": "code",
   "execution_count": 23,
   "metadata": {},
   "outputs": [
    {
     "data": {
      "text/plain": [
       "array([[1, 2],\n",
       "       [4, 5],\n",
       "       [8, 9]])"
      ]
     },
     "execution_count": 23,
     "metadata": {},
     "output_type": "execute_result"
    }
   ],
   "source": [
    "X = np.array([[1,2],[4,5],[8,9]])\n",
    "X"
   ]
  },
  {
   "cell_type": "markdown",
   "metadata": {},
   "source": [
    "양쪽 제일 끝에 있는 중괄호 [] -> 2차원"
   ]
  },
  {
   "cell_type": "code",
   "execution_count": 24,
   "metadata": {},
   "outputs": [
    {
     "data": {
      "text/plain": [
       "array([[[1, 2],\n",
       "        [4, 5],\n",
       "        [8, 9]],\n",
       "\n",
       "       [[1, 2],\n",
       "        [4, 5],\n",
       "        [8, 9]]])"
      ]
     },
     "execution_count": 24,
     "metadata": {},
     "output_type": "execute_result"
    }
   ],
   "source": [
    "X = np.array([[[1,2],[4,5],[8,9]],[[1,2],[4,5],[8,9]]])\n",
    "X"
   ]
  },
  {
   "cell_type": "markdown",
   "metadata": {},
   "source": [
    "-> 3차원"
   ]
  },
  {
   "cell_type": "code",
   "execution_count": 25,
   "metadata": {},
   "outputs": [
    {
     "data": {
      "text/plain": [
       "3"
      ]
     },
     "execution_count": 25,
     "metadata": {},
     "output_type": "execute_result"
    }
   ],
   "source": [
    "X.ndim"
   ]
  },
  {
   "cell_type": "markdown",
   "metadata": {},
   "source": [
    "x.ndim -> x가 몇차원인지 보여주는 함수"
   ]
  },
  {
   "cell_type": "code",
   "execution_count": 26,
   "metadata": {},
   "outputs": [
    {
     "data": {
      "text/plain": [
       "(2, 3, 2)"
      ]
     },
     "execution_count": 26,
     "metadata": {},
     "output_type": "execute_result"
    }
   ],
   "source": [
    "X.shape"
   ]
  },
  {
   "cell_type": "markdown",
   "metadata": {},
   "source": [
    "-> 2*3행렬이 2개 있다"
   ]
  },
  {
   "cell_type": "code",
   "execution_count": 27,
   "metadata": {},
   "outputs": [
    {
     "data": {
      "text/plain": [
       "dtype('int32')"
      ]
     },
     "execution_count": 27,
     "metadata": {},
     "output_type": "execute_result"
    }
   ],
   "source": [
    "X.dtype"
   ]
  },
  {
   "cell_type": "markdown",
   "metadata": {},
   "source": [
    "x.dtype -> x에 들어있는 숫자들의 type 을 보여줌"
   ]
  },
  {
   "cell_type": "code",
   "execution_count": 29,
   "metadata": {},
   "outputs": [
    {
     "data": {
      "text/plain": [
       "array([[[1., 2.],\n",
       "        [4., 5.],\n",
       "        [8., 9.]],\n",
       "\n",
       "       [[1., 2.],\n",
       "        [4., 5.],\n",
       "        [8., 9.]]])"
      ]
     },
     "execution_count": 29,
     "metadata": {},
     "output_type": "execute_result"
    }
   ],
   "source": [
    "X.astype(np.float64)"
   ]
  },
  {
   "cell_type": "code",
   "execution_count": 30,
   "metadata": {},
   "outputs": [
    {
     "data": {
      "text/plain": [
       "array([[[0, 0],\n",
       "        [0, 0],\n",
       "        [0, 0]],\n",
       "\n",
       "       [[0, 0],\n",
       "        [0, 0],\n",
       "        [0, 0]]])"
      ]
     },
     "execution_count": 30,
     "metadata": {},
     "output_type": "execute_result"
    }
   ],
   "source": [
    "np.zeros_like(X)"
   ]
  },
  {
   "cell_type": "markdown",
   "metadata": {},
   "source": [
    "형태는 유지한 채 값을 0으로 바꿔라"
   ]
  },
  {
   "cell_type": "code",
   "execution_count": 32,
   "metadata": {},
   "outputs": [
    {
     "name": "stdout",
     "output_type": "stream",
     "text": [
      "[-0.20564639  0.93370543  0.88488422  2.42685828  2.46277426  0.05639195\n",
      "  0.67484524 -0.9871329  -1.37574265 -0.94416952 -0.96974179 -0.03600067\n",
      "  0.99376223  0.20325349 -0.12674314 -0.98176824  0.14076049  0.67572399\n",
      "  0.06314253 -1.04024481  0.72678181 -0.00693264  1.38862018  0.96670773\n",
      "  0.69145158  1.98906462  0.65903056 -0.01847039  0.73709862 -1.07311395\n",
      " -0.56938659 -0.47290668  0.48129976 -0.13325916  1.35982224  0.30892195\n",
      " -1.00863504  0.99749229 -0.79467384  0.21805918 -0.54512747 -2.35518599\n",
      "  0.05156089 -1.23951789 -0.3578946  -0.32552289 -0.43127606 -0.28481636\n",
      " -0.29277698  1.31922919 -0.32315012  0.11847613 -2.48263505 -0.42597775\n",
      " -0.5953375  -0.57970456  0.31154423  0.11330377  0.79558433  1.24221912\n",
      " -0.42387335 -1.07570802 -0.42563544  1.12974437 -2.17729052 -0.29155326\n",
      " -0.29075978 -1.76538766 -0.89601072  0.2880273   0.90105682  0.06309977\n",
      " -0.55868494 -0.18148685  0.4415087   1.37696146  0.63291096  1.07117775\n",
      " -1.43470183 -0.370816    0.01024398  0.62777299  0.92723526 -0.84133215\n",
      " -0.02149475 -2.33302808 -0.40334801  1.57820111  0.39950607  2.15110187\n",
      " -1.22773347 -0.00548359  0.51492083 -0.23380951 -2.18116946 -0.4706725\n",
      " -1.29652355  0.12207981 -0.15404105 -1.50913277]\n"
     ]
    },
    {
     "data": {
      "image/png": "[encoded data removed]",
      "text/plain": [
       "<Figure size 432x288 with 1 Axes>"
      ]
     },
     "metadata": {
      "needs_background": "light"
     },
     "output_type": "display_data"
    }
   ],
   "source": [
    "data = np.random.normal(0,1, 100)\n",
    "print(data)\n",
    "plt.hist(data, bins=10)\n",
    "plt.show()"
   ]
  },
  {
   "cell_type": "markdown",
   "metadata": {},
   "source": [
    "np안에있는 random 안에있는 normal 이라는 함수\n",
    " -> normal distribution(정규분포)를 만드는 함수   (mean, distribution , 데이터의 개수)\n",
    "     -> 현재 1차원, 100개의 숫자\n",
    "   Plt 안에있는 hist (=histogram)이라는 함수 (bins -> x축의 값의 개수(여기선 10개))\n",
    "-> 이 값들의 개수의 총합은 100개\n"
   ]
  },
  {
   "cell_type": "code",
   "execution_count": 33,
   "metadata": {},
   "outputs": [
    {
     "data": {
      "text/plain": [
       "1"
      ]
     },
     "execution_count": 33,
     "metadata": {},
     "output_type": "execute_result"
    }
   ],
   "source": [
    "data.ndim"
   ]
  },
  {
   "cell_type": "code",
   "execution_count": 34,
   "metadata": {},
   "outputs": [
    {
     "data": {
      "text/plain": [
       "array([[[1, 2],\n",
       "        [4, 5],\n",
       "        [8, 9]],\n",
       "\n",
       "       [[1, 2],\n",
       "        [4, 5],\n",
       "        [8, 9]]])"
      ]
     },
     "execution_count": 34,
     "metadata": {},
     "output_type": "execute_result"
    }
   ],
   "source": [
    "Y = X.reshape(-1, 3, 2)\n",
    "Y"
   ]
  },
  {
   "cell_type": "markdown",
   "metadata": {},
   "source": [
    "reshape -> 값들의 형태를 바꿈\n",
    "               남은 값을 알아서 해라 -> (-1)을 넣으면 됨 (실제로는 4로 계산되어서 값이 출력)\n"
   ]
  },
  {
   "cell_type": "code",
   "execution_count": 36,
   "metadata": {},
   "outputs": [
    {
     "data": {
      "text/plain": [
       "True"
      ]
     },
     "execution_count": 36,
     "metadata": {},
     "output_type": "execute_result"
    }
   ],
   "source": [
    "np.allclose(X.reshape(-1, 3, 2), Y)"
   ]
  },
  {
   "cell_type": "markdown",
   "metadata": {},
   "source": [
    "똑같은지 여부"
   ]
  },
  {
   "cell_type": "code",
   "execution_count": 37,
   "metadata": {},
   "outputs": [],
   "source": [
    "a = np.random.randint(0, 10, [2, 3])\n",
    "b = np.random.random([2, 3])\n",
    "np.savez(\"test\", a, b)"
   ]
  },
  {
   "cell_type": "markdown",
   "metadata": {},
   "source": [
    "randint -> 정수값으로 random\n",
    "Random -> 그야말로 랜덤\n",
    "Savez -> 파일로 저장하게 해주는 함수 (‘test’라는 파일명으로 저장)"
   ]
  },
  {
   "cell_type": "code",
   "execution_count": 38,
   "metadata": {},
   "outputs": [
    {
     "name": "stdout",
     "output_type": "stream",
     "text": [
      "No variables match your requested type.\n"
     ]
    }
   ],
   "source": [
    "del a, b\n",
    "%who  # Print all interactive variables"
   ]
  },
  {
   "cell_type": "markdown",
   "metadata": {},
   "source": [
    "del -> 그동안 썼던 variable을 없앰\n",
    "    Who -> 지금 available한 variable 을 보여줌"
   ]
  },
  {
   "cell_type": "code",
   "execution_count": 39,
   "metadata": {},
   "outputs": [
    {
     "data": {
      "text/plain": [
       "['arr_0', 'arr_1']"
      ]
     },
     "execution_count": 39,
     "metadata": {},
     "output_type": "execute_result"
    }
   ],
   "source": [
    "npzfiles = np.load(\"test.npz\")\n",
    "npzfiles.files"
   ]
  },
  {
   "cell_type": "code",
   "execution_count": 40,
   "metadata": {},
   "outputs": [
    {
     "data": {
      "text/plain": [
       "array([[7, 2, 9],\n",
       "       [5, 8, 5]])"
      ]
     },
     "execution_count": 40,
     "metadata": {},
     "output_type": "execute_result"
    }
   ],
   "source": [
    "npzfiles['arr_0']"
   ]
  },
  {
   "cell_type": "markdown",
   "metadata": {},
   "source": [
    "파일을 저장하고 그 파일을 불러오는 과정"
   ]
  },
  {
   "cell_type": "code",
   "execution_count": 41,
   "metadata": {},
   "outputs": [
    {
     "ename": "OSError",
     "evalue": "regression.csv not found.",
     "output_type": "error",
     "traceback": [
      "\u001b[1;31m---------------------------------------------------------------------------\u001b[0m",
      "\u001b[1;31mOSError\u001b[0m                                   Traceback (most recent call last)",
      "\u001b[1;32m<ipython-input-41-85581bfd3e6b>\u001b[0m in \u001b[0;36m<module>\u001b[1;34m\u001b[0m\n\u001b[1;32m----> 1\u001b[1;33m \u001b[0mdata\u001b[0m \u001b[1;33m=\u001b[0m \u001b[0mnp\u001b[0m\u001b[1;33m.\u001b[0m\u001b[0mloadtxt\u001b[0m\u001b[1;33m(\u001b[0m\u001b[1;34m\"regression.csv\"\u001b[0m\u001b[1;33m,\u001b[0m \u001b[0mdelimiter\u001b[0m\u001b[1;33m=\u001b[0m\u001b[1;34m\",\"\u001b[0m\u001b[1;33m,\u001b[0m \u001b[0mskiprows\u001b[0m\u001b[1;33m=\u001b[0m\u001b[1;36m1\u001b[0m\u001b[1;33m,\u001b[0m \u001b[0mdtype\u001b[0m\u001b[1;33m=\u001b[0m\u001b[1;33m{\u001b[0m\u001b[1;34m'names'\u001b[0m\u001b[1;33m:\u001b[0m\u001b[1;33m(\u001b[0m\u001b[1;34m\"X\"\u001b[0m\u001b[1;33m,\u001b[0m \u001b[1;34m\"Y\"\u001b[0m\u001b[1;33m)\u001b[0m\u001b[1;33m,\u001b[0m \u001b[1;34m'formats'\u001b[0m\u001b[1;33m:\u001b[0m\u001b[1;33m(\u001b[0m\u001b[1;34m'f'\u001b[0m\u001b[1;33m,\u001b[0m \u001b[1;34m'f'\u001b[0m\u001b[1;33m)\u001b[0m\u001b[1;33m}\u001b[0m\u001b[1;33m)\u001b[0m\u001b[1;33m\u001b[0m\u001b[1;33m\u001b[0m\u001b[0m\n\u001b[0m\u001b[0;32m      2\u001b[0m \u001b[0mdata\u001b[0m\u001b[1;33m\u001b[0m\u001b[1;33m\u001b[0m\u001b[0m\n",
      "\u001b[1;32m~\\Anaconda3\\lib\\site-packages\\numpy\\lib\\npyio.py\u001b[0m in \u001b[0;36mloadtxt\u001b[1;34m(fname, dtype, comments, delimiter, converters, skiprows, usecols, unpack, ndmin, encoding, max_rows)\u001b[0m\n\u001b[0;32m    960\u001b[0m             \u001b[0mfname\u001b[0m \u001b[1;33m=\u001b[0m \u001b[0mos_fspath\u001b[0m\u001b[1;33m(\u001b[0m\u001b[0mfname\u001b[0m\u001b[1;33m)\u001b[0m\u001b[1;33m\u001b[0m\u001b[1;33m\u001b[0m\u001b[0m\n\u001b[0;32m    961\u001b[0m         \u001b[1;32mif\u001b[0m \u001b[0m_is_string_like\u001b[0m\u001b[1;33m(\u001b[0m\u001b[0mfname\u001b[0m\u001b[1;33m)\u001b[0m\u001b[1;33m:\u001b[0m\u001b[1;33m\u001b[0m\u001b[1;33m\u001b[0m\u001b[0m\n\u001b[1;32m--> 962\u001b[1;33m             \u001b[0mfh\u001b[0m \u001b[1;33m=\u001b[0m \u001b[0mnp\u001b[0m\u001b[1;33m.\u001b[0m\u001b[0mlib\u001b[0m\u001b[1;33m.\u001b[0m\u001b[0m_datasource\u001b[0m\u001b[1;33m.\u001b[0m\u001b[0mopen\u001b[0m\u001b[1;33m(\u001b[0m\u001b[0mfname\u001b[0m\u001b[1;33m,\u001b[0m \u001b[1;34m'rt'\u001b[0m\u001b[1;33m,\u001b[0m \u001b[0mencoding\u001b[0m\u001b[1;33m=\u001b[0m\u001b[0mencoding\u001b[0m\u001b[1;33m)\u001b[0m\u001b[1;33m\u001b[0m\u001b[1;33m\u001b[0m\u001b[0m\n\u001b[0m\u001b[0;32m    963\u001b[0m             \u001b[0mfencoding\u001b[0m \u001b[1;33m=\u001b[0m \u001b[0mgetattr\u001b[0m\u001b[1;33m(\u001b[0m\u001b[0mfh\u001b[0m\u001b[1;33m,\u001b[0m \u001b[1;34m'encoding'\u001b[0m\u001b[1;33m,\u001b[0m \u001b[1;34m'latin1'\u001b[0m\u001b[1;33m)\u001b[0m\u001b[1;33m\u001b[0m\u001b[1;33m\u001b[0m\u001b[0m\n\u001b[0;32m    964\u001b[0m             \u001b[0mfh\u001b[0m \u001b[1;33m=\u001b[0m \u001b[0miter\u001b[0m\u001b[1;33m(\u001b[0m\u001b[0mfh\u001b[0m\u001b[1;33m)\u001b[0m\u001b[1;33m\u001b[0m\u001b[1;33m\u001b[0m\u001b[0m\n",
      "\u001b[1;32m~\\Anaconda3\\lib\\site-packages\\numpy\\lib\\_datasource.py\u001b[0m in \u001b[0;36mopen\u001b[1;34m(path, mode, destpath, encoding, newline)\u001b[0m\n\u001b[0;32m    264\u001b[0m \u001b[1;33m\u001b[0m\u001b[0m\n\u001b[0;32m    265\u001b[0m     \u001b[0mds\u001b[0m \u001b[1;33m=\u001b[0m \u001b[0mDataSource\u001b[0m\u001b[1;33m(\u001b[0m\u001b[0mdestpath\u001b[0m\u001b[1;33m)\u001b[0m\u001b[1;33m\u001b[0m\u001b[1;33m\u001b[0m\u001b[0m\n\u001b[1;32m--> 266\u001b[1;33m     \u001b[1;32mreturn\u001b[0m \u001b[0mds\u001b[0m\u001b[1;33m.\u001b[0m\u001b[0mopen\u001b[0m\u001b[1;33m(\u001b[0m\u001b[0mpath\u001b[0m\u001b[1;33m,\u001b[0m \u001b[0mmode\u001b[0m\u001b[1;33m,\u001b[0m \u001b[0mencoding\u001b[0m\u001b[1;33m=\u001b[0m\u001b[0mencoding\u001b[0m\u001b[1;33m,\u001b[0m \u001b[0mnewline\u001b[0m\u001b[1;33m=\u001b[0m\u001b[0mnewline\u001b[0m\u001b[1;33m)\u001b[0m\u001b[1;33m\u001b[0m\u001b[1;33m\u001b[0m\u001b[0m\n\u001b[0m\u001b[0;32m    267\u001b[0m \u001b[1;33m\u001b[0m\u001b[0m\n\u001b[0;32m    268\u001b[0m \u001b[1;33m\u001b[0m\u001b[0m\n",
      "\u001b[1;32m~\\Anaconda3\\lib\\site-packages\\numpy\\lib\\_datasource.py\u001b[0m in \u001b[0;36mopen\u001b[1;34m(self, path, mode, encoding, newline)\u001b[0m\n\u001b[0;32m    622\u001b[0m                                       encoding=encoding, newline=newline)\n\u001b[0;32m    623\u001b[0m         \u001b[1;32melse\u001b[0m\u001b[1;33m:\u001b[0m\u001b[1;33m\u001b[0m\u001b[1;33m\u001b[0m\u001b[0m\n\u001b[1;32m--> 624\u001b[1;33m             \u001b[1;32mraise\u001b[0m \u001b[0mIOError\u001b[0m\u001b[1;33m(\u001b[0m\u001b[1;34m\"%s not found.\"\u001b[0m \u001b[1;33m%\u001b[0m \u001b[0mpath\u001b[0m\u001b[1;33m)\u001b[0m\u001b[1;33m\u001b[0m\u001b[1;33m\u001b[0m\u001b[0m\n\u001b[0m\u001b[0;32m    625\u001b[0m \u001b[1;33m\u001b[0m\u001b[0m\n\u001b[0;32m    626\u001b[0m \u001b[1;33m\u001b[0m\u001b[0m\n",
      "\u001b[1;31mOSError\u001b[0m: regression.csv not found."
     ]
    }
   ],
   "source": [
    "data = np.loadtxt(\"regression.csv\", delimiter=\",\", skiprows=1, dtype={'names':(\"X\", \"Y\"), 'formats':('f', 'f')})\n",
    "data"
   ]
  },
  {
   "cell_type": "code",
   "execution_count": 42,
   "metadata": {},
   "outputs": [],
   "source": [
    "arr = np.random.random([5,2,3])"
   ]
  },
  {
   "cell_type": "code",
   "execution_count": 43,
   "metadata": {},
   "outputs": [
    {
     "name": "stdout",
     "output_type": "stream",
     "text": [
      "<class 'numpy.ndarray'>\n",
      "5\n",
      "(5, 2, 3)\n",
      "3\n",
      "30\n",
      "float64\n"
     ]
    }
   ],
   "source": [
    "print(type(arr))\n",
    "print(len(arr))\n",
    "print(arr.shape)\n",
    "print(arr.ndim)\n",
    "print(arr.size)\n",
    "print(arr.dtype)"
   ]
  },
  {
   "cell_type": "markdown",
   "metadata": {},
   "source": [
    "복습"
   ]
  },
  {
   "cell_type": "code",
   "execution_count": 44,
   "metadata": {},
   "outputs": [],
   "source": [
    "a = np.arange(1, 5)\n",
    "b = np.arange(9, 5, -1)"
   ]
  },
  {
   "cell_type": "code",
   "execution_count": 45,
   "metadata": {},
   "outputs": [
    {
     "name": "stdout",
     "output_type": "stream",
     "text": [
      "[-8 -6 -4 -2]\n",
      "[ 9 16 21 24]\n"
     ]
    }
   ],
   "source": [
    "print(a - b)\n",
    "print(a * b)"
   ]
  },
  {
   "cell_type": "code",
   "execution_count": 46,
   "metadata": {},
   "outputs": [
    {
     "data": {
      "text/plain": [
       "array([False, False, False, False])"
      ]
     },
     "execution_count": 46,
     "metadata": {},
     "output_type": "execute_result"
    }
   ],
   "source": [
    "a == b"
   ]
  },
  {
   "cell_type": "markdown",
   "metadata": {},
   "source": [
    "a 와 b의 값 비교"
   ]
  },
  {
   "cell_type": "code",
   "execution_count": 47,
   "metadata": {},
   "outputs": [
    {
     "data": {
      "text/plain": [
       "10"
      ]
     },
     "execution_count": 47,
     "metadata": {},
     "output_type": "execute_result"
    }
   ],
   "source": [
    "a.sum()"
   ]
  },
  {
   "cell_type": "markdown",
   "metadata": {},
   "source": [
    "a.sum -> a의 모든 값을 더한다"
   ]
  },
  {
   "cell_type": "code",
   "execution_count": 48,
   "metadata": {},
   "outputs": [
    {
     "data": {
      "text/plain": [
       "10"
      ]
     },
     "execution_count": 48,
     "metadata": {},
     "output_type": "execute_result"
    }
   ],
   "source": [
    "np.sum(a)"
   ]
  },
  {
   "cell_type": "markdown",
   "metadata": {},
   "source": [
    "np.sum(a) -> a의 모든 값을 더한다"
   ]
  },
  {
   "cell_type": "code",
   "execution_count": 49,
   "metadata": {},
   "outputs": [
    {
     "data": {
      "text/plain": [
       "(10, 10)"
      ]
     },
     "execution_count": 49,
     "metadata": {},
     "output_type": "execute_result"
    }
   ],
   "source": [
    "a.sum(axis=0), np.sum(a, axis=0)"
   ]
  },
  {
   "cell_type": "markdown",
   "metadata": {},
   "source": [
    "세로줄들의 합"
   ]
  },
  {
   "cell_type": "code",
   "execution_count": 52,
   "metadata": {},
   "outputs": [
    {
     "data": {
      "text/plain": [
       "array([[ 1,  2,  3,  4,  5,  6],\n",
       "       [ 7,  8,  9, 10, 11, 12],\n",
       "       [13, 14, 15, 16, 17, 18],\n",
       "       [19, 20, 21, 22, 23, 24]])"
      ]
     },
     "execution_count": 52,
     "metadata": {},
     "output_type": "execute_result"
    }
   ],
   "source": [
    "a = np.arange(1, 25).reshape(4, 6)\n",
    "a"
   ]
  },
  {
   "cell_type": "code",
   "execution_count": 53,
   "metadata": {},
   "outputs": [
    {
     "data": {
      "text/plain": [
       "array([0, 1, 2, 3, 4, 5])"
      ]
     },
     "execution_count": 53,
     "metadata": {},
     "output_type": "execute_result"
    }
   ],
   "source": [
    "b = np.arange(6)\n",
    "b"
   ]
  },
  {
   "cell_type": "code",
   "execution_count": 54,
   "metadata": {},
   "outputs": [
    {
     "data": {
      "text/plain": [
       "array([[ 1,  3,  5,  7,  9, 11],\n",
       "       [ 7,  9, 11, 13, 15, 17],\n",
       "       [13, 15, 17, 19, 21, 23],\n",
       "       [19, 21, 23, 25, 27, 29]])"
      ]
     },
     "execution_count": 54,
     "metadata": {},
     "output_type": "execute_result"
    }
   ],
   "source": [
    "a + b"
   ]
  },
  {
   "cell_type": "code",
   "execution_count": 13,
   "metadata": {},
   "outputs": [],
   "source": [
    "from matplotlib import pyplot as plt\n",
    "from mpl_toolkits.mplot3d import Axes3D\n",
    "from mpl_toolkits.axes_grid1 import make_axes_locatable\n",
    "import IPython.display as ipd\n",
    "import numpy as np\n",
    "%matplotlib notebook\n",
    "from scipy.signal import lfilter"
   ]
  },
  {
   "cell_type": "code",
   "execution_count": 14,
   "metadata": {},
   "outputs": [],
   "source": [
    "# parameter setting\n",
    "amp = 1          # range [0.0, 1.0]\n",
    "sr = 10000       # sampling rate, Hz\n",
    "dur = 0.5        # in seconds\n",
    "freq = 100.0     # sine frequency, Hz"
   ]
  },
  {
   "cell_type": "code",
   "execution_count": 1,
   "metadata": {},
   "outputs": [],
   "source": [
    "#Sin( )\n",
    "#\t0도 에서 360도 까지 : degree\n",
    "#\t0에서 2π 까지 : radian\n",
    "#Sin( ) 에서 ‘괄호’안에 들어가는 것 -> radian\n",
    "#Sin, cos 같은 함수들 -> phasor"
   ]
  },
  {
   "cell_type": "code",
   "execution_count": 2,
   "metadata": {},
   "outputs": [],
   "source": [
    "#오일러(Euler)공식 \n",
    "#-> e= 상수(2.7…) / i = imaginary (허수)\n",
    "#X의 값(radian 값) 이 결정되면 결국 특정 숫자 값이 나옴"
   ]
  },
  {
   "cell_type": "code",
   "execution_count": 3,
   "metadata": {},
   "outputs": [],
   "source": [
    "#복소평면 (복소수 평면)\n",
    "#X축 -> a(실수의 계수) / y축 -> b(허수의 계수)\n",
    "#3시방향 (1,0) 부터 반 시계방향으로 돈다.\n",
    "#그때의 각도 -> radian값\n"
   ]
  },
  {
   "cell_type": "code",
   "execution_count": 4,
   "metadata": {},
   "outputs": [],
   "source": [
    "#복소평면 (복소수 평면)\n",
    "#X축 -> a(실수의 계수) / y축 -> b(허수의 계수)\n",
    "#3시방향 (1,0) 부터 반 시계방향으로 돈다.\n",
    "#그때의 각도 -> radian값"
   ]
  },
  {
   "cell_type": "code",
   "execution_count": 15,
   "metadata": {},
   "outputs": [
    {
     "data": {
      "text/plain": [
       "array([1.000e-04, 2.000e-04, 3.000e-04, ..., 4.998e-01, 4.999e-01,\n",
       "       5.000e-01])"
      ]
     },
     "execution_count": 15,
     "metadata": {},
     "output_type": "execute_result"
    }
   ],
   "source": [
    "t 0.0001 0.0002 0.0003 ... 0.5000\n",
    "t = np.arange(1, sr*dur+1)/sr\n",
    "t"
   ]
  },
  {
   "cell_type": "code",
   "execution_count": 16,
   "metadata": {},
   "outputs": [],
   "source": [
    "#앞선 과정으로 만들어진 t(시간)의 값\n",
    " # 1.000e-04 -> 1의 (-4)승 (만분의 일)"
   ]
  },
  {
   "cell_type": "code",
   "execution_count": 17,
   "metadata": {},
   "outputs": [
    {
     "data": {
      "text/plain": [
       "array([ 0. ,  0.1,  0.2,  0.3,  0.4,  0.5,  0.6,  0.7,  0.8,  0.9,  1. ,\n",
       "        1.1,  1.2,  1.3,  1.4,  1.5,  1.6,  1.7,  1.8,  1.9,  2. ,  2.1,\n",
       "        2.2,  2.3,  2.4,  2.5,  2.6,  2.7,  2.8,  2.9,  3. ,  3.1,  3.2,\n",
       "        3.3,  3.4,  3.5,  3.6,  3.7,  3.8,  3.9,  4. ,  4.1,  4.2,  4.3,\n",
       "        4.4,  4.5,  4.6,  4.7,  4.8,  4.9,  5. ,  5.1,  5.2,  5.3,  5.4,\n",
       "        5.5,  5.6,  5.7,  5.8,  5.9,  6. ,  6.1,  6.2,  6.3,  6.4,  6.5,\n",
       "        6.6,  6.7,  6.8,  6.9,  7. ,  7.1,  7.2,  7.3,  7.4,  7.5,  7.6,\n",
       "        7.7,  7.8,  7.9,  8. ,  8.1,  8.2,  8.3,  8.4,  8.5,  8.6,  8.7,\n",
       "        8.8,  8.9,  9. ,  9.1,  9.2,  9.3,  9.4,  9.5,  9.6,  9.7,  9.8,\n",
       "        9.9, 10. , 10.1, 10.2, 10.3, 10.4, 10.5, 10.6, 10.7, 10.8, 10.9,\n",
       "       11. , 11.1, 11.2, 11.3, 11.4, 11.5, 11.6, 11.7, 11.8, 11.9, 12. ,\n",
       "       12.1, 12.2, 12.3, 12.4, 12.5, 12.6, 12.7, 12.8, 12.9, 13. , 13.1,\n",
       "       13.2, 13.3, 13.4, 13.5, 13.6, 13.7, 13.8, 13.9, 14. , 14.1, 14.2,\n",
       "       14.3, 14.4, 14.5, 14.6, 14.7, 14.8, 14.9, 15. , 15.1, 15.2, 15.3,\n",
       "       15.4, 15.5, 15.6, 15.7, 15.8, 15.9, 16. , 16.1, 16.2, 16.3, 16.4,\n",
       "       16.5, 16.6, 16.7, 16.8, 16.9, 17. , 17.1, 17.2, 17.3, 17.4, 17.5,\n",
       "       17.6, 17.7, 17.8, 17.9, 18. , 18.1, 18.2, 18.3, 18.4, 18.5, 18.6,\n",
       "       18.7, 18.8, 18.9, 19. , 19.1, 19.2, 19.3, 19.4, 19.5, 19.6, 19.7,\n",
       "       19.8, 19.9, 20. , 20.1, 20.2, 20.3, 20.4, 20.5, 20.6, 20.7, 20.8,\n",
       "       20.9, 21. , 21.1, 21.2, 21.3, 21.4, 21.5, 21.6, 21.7, 21.8, 21.9,\n",
       "       22. , 22.1, 22.2, 22.3, 22.4, 22.5, 22.6, 22.7, 22.8, 22.9, 23. ,\n",
       "       23.1, 23.2, 23.3, 23.4, 23.5, 23.6, 23.7, 23.8, 23.9, 24. , 24.1,\n",
       "       24.2, 24.3, 24.4, 24.5, 24.6, 24.7, 24.8, 24.9, 25. , 25.1, 25.2,\n",
       "       25.3, 25.4, 25.5, 25.6, 25.7, 25.8, 25.9, 26. , 26.1, 26.2, 26.3,\n",
       "       26.4, 26.5, 26.6, 26.7, 26.8, 26.9, 27. , 27.1, 27.2, 27.3, 27.4,\n",
       "       27.5, 27.6, 27.7, 27.8, 27.9, 28. , 28.1, 28.2, 28.3, 28.4, 28.5,\n",
       "       28.6, 28.7, 28.8, 28.9, 29. , 29.1, 29.2, 29.3, 29.4, 29.5, 29.6,\n",
       "       29.7, 29.8, 29.9, 30. , 30.1, 30.2, 30.3, 30.4, 30.5, 30.6, 30.7,\n",
       "       30.8, 30.9, 31. , 31.1, 31.2, 31.3, 31.4])"
      ]
     },
     "execution_count": 17,
     "metadata": {},
     "output_type": "execute_result"
    }
   ],
   "source": [
    "theta = np.arange(0, 2*np.pi*5,0.1)\n",
    "theta"
   ]
  },
  {
   "cell_type": "code",
   "execution_count": 18,
   "metadata": {},
   "outputs": [
    {
     "data": {
      "text/plain": [
       "array([ 0.        ,  0.09983342,  0.19866933,  0.29552021,  0.38941834,\n",
       "        0.47942554,  0.56464247,  0.64421769,  0.71735609,  0.78332691,\n",
       "        0.84147098,  0.89120736,  0.93203909,  0.96355819,  0.98544973,\n",
       "        0.99749499,  0.9995736 ,  0.99166481,  0.97384763,  0.94630009,\n",
       "        0.90929743,  0.86320937,  0.8084964 ,  0.74570521,  0.67546318,\n",
       "        0.59847214,  0.51550137,  0.42737988,  0.33498815,  0.23924933,\n",
       "        0.14112001,  0.04158066, -0.05837414, -0.15774569, -0.2555411 ,\n",
       "       -0.35078323, -0.44252044, -0.52983614, -0.61185789, -0.68776616,\n",
       "       -0.7568025 , -0.81827711, -0.87157577, -0.91616594, -0.95160207,\n",
       "       -0.97753012, -0.993691  , -0.99992326, -0.99616461, -0.98245261,\n",
       "       -0.95892427, -0.92581468, -0.88345466, -0.83226744, -0.77276449,\n",
       "       -0.70554033, -0.63126664, -0.55068554, -0.46460218, -0.37387666,\n",
       "       -0.2794155 , -0.1821625 , -0.0830894 ,  0.0168139 ,  0.1165492 ,\n",
       "        0.21511999,  0.31154136,  0.40484992,  0.49411335,  0.57843976,\n",
       "        0.6569866 ,  0.72896904,  0.79366786,  0.85043662,  0.8987081 ,\n",
       "        0.93799998,  0.96791967,  0.98816823,  0.99854335,  0.99894134,\n",
       "        0.98935825,  0.96988981,  0.94073056,  0.90217183,  0.85459891,\n",
       "        0.79848711,  0.7343971 ,  0.66296923,  0.58491719,  0.50102086,\n",
       "        0.41211849,  0.31909836,  0.22288991,  0.12445442,  0.02477543,\n",
       "       -0.07515112, -0.17432678, -0.27176063, -0.36647913, -0.45753589,\n",
       "       -0.54402111, -0.62507065, -0.69987469, -0.76768581, -0.82782647,\n",
       "       -0.87969576, -0.92277542, -0.95663502, -0.98093623, -0.99543625,\n",
       "       -0.99999021, -0.99455259, -0.97917773, -0.95401925, -0.91932853,\n",
       "       -0.87545217, -0.82282859, -0.76198358, -0.69352508, -0.61813711,\n",
       "       -0.53657292, -0.44964746, -0.35822928, -0.26323179, -0.16560418,\n",
       "       -0.0663219 ,  0.03362305,  0.13323204,  0.23150983,  0.32747444,\n",
       "        0.42016704,  0.50866146,  0.59207351,  0.66956976,  0.74037589,\n",
       "        0.80378443,  0.85916181,  0.90595474,  0.94369567,  0.9720075 ,\n",
       "        0.99060736,  0.99930939,  0.99802665,  0.98677196,  0.96565778,\n",
       "        0.93489506,  0.89479117,  0.84574683,  0.78825207,  0.72288135,\n",
       "        0.65028784,  0.57119687,  0.48639869,  0.39674057,  0.30311836,\n",
       "        0.20646748,  0.10775365,  0.00796318, -0.09190685, -0.19085858,\n",
       "       -0.28790332, -0.38207142, -0.47242199, -0.55805227, -0.63810668,\n",
       "       -0.71178534, -0.77835208, -0.83714178, -0.88756703, -0.92912401,\n",
       "       -0.96139749, -0.98406501, -0.99690007, -0.99977443, -0.99265938,\n",
       "       -0.97562601, -0.9488445 , -0.91258245, -0.86720218, -0.81315711,\n",
       "       -0.75098725, -0.68131377, -0.60483282, -0.52230859, -0.43456562,\n",
       "       -0.34248062, -0.24697366, -0.14899903, -0.04953564,  0.05042269,\n",
       "        0.14987721,  0.24783421,  0.34331493,  0.43536536,  0.52306577,\n",
       "        0.60553987,  0.68196362,  0.75157342,  0.81367374,  0.8676441 ,\n",
       "        0.91294525,  0.94912455,  0.97582052,  0.99276641,  0.9997929 ,\n",
       "        0.99682979,  0.98390669,  0.96115272,  0.92879523,  0.88715753,\n",
       "        0.83665564,  0.77779416,  0.71116122,  0.6374226 ,  0.55731505,\n",
       "        0.471639  ,  0.38125049,  0.28705265,  0.18998668,  0.09102242,\n",
       "       -0.00885131, -0.1086366 , -0.20733642, -0.30396461, -0.39755568,\n",
       "       -0.48717451, -0.57192566, -0.65096231, -0.72349476, -0.78879829,\n",
       "       -0.8462204 , -0.89518737, -0.93520992, -0.96588815, -0.98691556,\n",
       "       -0.99808203, -0.99927599, -0.99048552, -0.97179845, -0.94340148,\n",
       "       -0.90557836, -0.858707  , -0.80325573, -0.73977859, -0.66890982,\n",
       "       -0.59135753, -0.50789659, -0.41936092, -0.32663513, -0.23064571,\n",
       "       -0.13235175, -0.03273538,  0.06720807,  0.16648   ,  0.26408852,\n",
       "        0.35905835,  0.45044059,  0.53732218,  0.61883502,  0.69416467,\n",
       "        0.76255845,  0.823333  ,  0.87588108,  0.91967764,  0.95428509,\n",
       "        0.97935764,  0.99464477,  0.99999374,  0.9953511 ,  0.98076325,\n",
       "        0.95637593,  0.92243282,  0.87927306,  0.8273279 ,  0.76711635,\n",
       "        0.69924003,  0.62437714,  0.54327567,  0.45674597,  0.36565262,\n",
       "        0.27090579,  0.17345216,  0.07426545, -0.0256633 , -0.12533563,\n",
       "       -0.22375564, -0.31993996, -0.41292755, -0.5017893 , -0.58563734,\n",
       "       -0.66363388, -0.73499962, -0.79902148, -0.85505978, -0.90255461,\n",
       "       -0.94103141, -0.97010573, -0.98948708, -0.9989818 , -0.99849503,\n",
       "       -0.98803162, -0.96769613, -0.93769174, -0.89831824, -0.84996905,\n",
       "       -0.79312724, -0.72836077, -0.65631676, -0.57771504, -0.49334099,\n",
       "       -0.40403765, -0.31069729, -0.21425254, -0.11566705, -0.01592586])"
      ]
     },
     "execution_count": 18,
     "metadata": {},
     "output_type": "execute_result"
    }
   ],
   "source": [
    "s= np.sin(theta)\n",
    "s"
   ]
  },
  {
   "cell_type": "code",
   "execution_count": 19,
   "metadata": {},
   "outputs": [
    {
     "data": {
      "application/javascript": [
       "/* Put everything inside the global mpl namespace */\n",
       "window.mpl = {};\n",
       "\n",
       "\n",
       "mpl.get_websocket_type = function() {\n",
       "    if (typeof(WebSocket) !== 'undefined') {\n",
       "        return WebSocket;\n",
       "    } else if (typeof(MozWebSocket) !== 'undefined') {\n",
       "        return MozWebSocket;\n",
       "    } else {\n",
       "        alert('Your browser does not have WebSocket support. ' +\n",
       "              'Please try Chrome, Safari or Firefox ≥ 6. ' +\n",
       "              'Firefox 4 and 5 are also supported but you ' +\n",
       "              'have to enable WebSockets in about:config.');\n",
       "    };\n",
       "}\n",
       "\n",
       "mpl.figure = function(figure_id, websocket, ondownload, parent_element) {\n",
       "    this.id = figure_id;\n",
       "\n",
       "    this.ws = websocket;\n",
       "\n",
       "    this.supports_binary = (this.ws.binaryType != undefined);\n",
       "\n",
       "    if (!this.supports_binary) {\n",
       "        var warnings = document.getElementById(\"mpl-warnings\");\n",
       "        if (warnings) {\n",
       "            warnings.style.display = 'block';\n",
       "            warnings.textContent = (\n",
       "                \"This browser does not support binary websocket messages. \" +\n",
       "                    \"Performance may be slow.\");\n",
       "        }\n",
       "    }\n",
       "\n",
       "    this.imageObj = new Image();\n",
       "\n",
       "    this.context = undefined;\n",
       "    this.message = undefined;\n",
       "    this.canvas = undefined;\n",
       "    this.rubberband_canvas = undefined;\n",
       "    this.rubberband_context = undefined;\n",
       "    this.format_dropdown = undefined;\n",
       "\n",
       "    this.image_mode = 'full';\n",
       "\n",
       "    this.root = $('<div/>');\n",
       "    this._root_extra_style(this.root)\n",
       "    this.root.attr('style', 'display: inline-block');\n",
       "\n",
       "    $(parent_element).append(this.root);\n",
       "\n",
       "    this._init_header(this);\n",
       "    this._init_canvas(this);\n",
       "    this._init_toolbar(this);\n",
       "\n",
       "    var fig = this;\n",
       "\n",
       "    this.waiting = false;\n",
       "\n",
       "    this.ws.onopen =  function () {\n",
       "            fig.send_message(\"supports_binary\", {value: fig.supports_binary});\n",
       "            fig.send_message(\"send_image_mode\", {});\n",
       "            if (mpl.ratio != 1) {\n",
       "                fig.send_message(\"set_dpi_ratio\", {'dpi_ratio': mpl.ratio});\n",
       "            }\n",
       "            fig.send_message(\"refresh\", {});\n",
       "        }\n",
       "\n",
       "    this.imageObj.onload = function() {\n",
       "            if (fig.image_mode == 'full') {\n",
       "                // Full images could contain transparency (where diff images\n",
       "                // almost always do), so we need to clear the canvas so that\n",
       "                // there is no ghosting.\n",
       "                fig.context.clearRect(0, 0, fig.canvas.width, fig.canvas.height);\n",
       "            }\n",
       "            fig.context.drawImage(fig.imageObj, 0, 0);\n",
       "        };\n",
       "\n",
       "    this.imageObj.onunload = function() {\n",
       "        fig.ws.close();\n",
       "    }\n",
       "\n",
       "    this.ws.onmessage = this._make_on_message_function(this);\n",
       "\n",
       "    this.ondownload = ondownload;\n",
       "}\n",
       "\n",
       "mpl.figure.prototype._init_header = function() {\n",
       "    var titlebar = $(\n",
       "        '<div class=\"ui-dialog-titlebar ui-widget-header ui-corner-all ' +\n",
       "        'ui-helper-clearfix\"/>');\n",
       "    var titletext = $(\n",
       "        '<div class=\"ui-dialog-title\" style=\"width: 100%; ' +\n",
       "        'text-align: center; padding: 3px;\"/>');\n",
       "    titlebar.append(titletext)\n",
       "    this.root.append(titlebar);\n",
       "    this.header = titletext[0];\n",
       "}\n",
       "\n",
       "\n",
       "\n",
       "mpl.figure.prototype._canvas_extra_style = function(canvas_div) {\n",
       "\n",
       "}\n",
       "\n",
       "\n",
       "mpl.figure.prototype._root_extra_style = function(canvas_div) {\n",
       "\n",
       "}\n",
       "\n",
       "mpl.figure.prototype._init_canvas = function() {\n",
       "    var fig = this;\n",
       "\n",
       "    var canvas_div = $('<div/>');\n",
       "\n",
       "    canvas_div.attr('style', 'position: relative; clear: both; outline: 0');\n",
       "\n",
       "    function canvas_keyboard_event(event) {\n",
       "        return fig.key_event(event, event['data']);\n",
       "    }\n",
       "\n",
       "    canvas_div.keydown('key_press', canvas_keyboard_event);\n",
       "    canvas_div.keyup('key_release', canvas_keyboard_event);\n",
       "    this.canvas_div = canvas_div\n",
       "    this._canvas_extra_style(canvas_div)\n",
       "    this.root.append(canvas_div);\n",
       "\n",
       "    var canvas = $('<canvas/>');\n",
       "    canvas.addClass('mpl-canvas');\n",
       "    canvas.attr('style', \"left: 0; top: 0; z-index: 0; outline: 0\")\n",
       "\n",
       "    this.canvas = canvas[0];\n",
       "    this.context = canvas[0].getContext(\"2d\");\n",
       "\n",
       "    var backingStore = this.context.backingStorePixelRatio ||\n",
       "\tthis.context.webkitBackingStorePixelRatio ||\n",
       "\tthis.context.mozBackingStorePixelRatio ||\n",
       "\tthis.context.msBackingStorePixelRatio ||\n",
       "\tthis.context.oBackingStorePixelRatio ||\n",
       "\tthis.context.backingStorePixelRatio || 1;\n",
       "\n",
       "    mpl.ratio = (window.devicePixelRatio || 1) / backingStore;\n",
       "\n",
       "    var rubberband = $('<canvas/>');\n",
       "    rubberband.attr('style', \"position: absolute; left: 0; top: 0; z-index: 1;\")\n",
       "\n",
       "    var pass_mouse_events = true;\n",
       "\n",
       "    canvas_div.resizable({\n",
       "        start: function(event, ui) {\n",
       "            pass_mouse_events = false;\n",
       "        },\n",
       "        resize: function(event, ui) {\n",
       "            fig.request_resize(ui.size.width, ui.size.height);\n",
       "        },\n",
       "        stop: function(event, ui) {\n",
       "            pass_mouse_events = true;\n",
       "            fig.request_resize(ui.size.width, ui.size.height);\n",
       "        },\n",
       "    });\n",
       "\n",
       "    function mouse_event_fn(event) {\n",
       "        if (pass_mouse_events)\n",
       "            return fig.mouse_event(event, event['data']);\n",
       "    }\n",
       "\n",
       "    rubberband.mousedown('button_press', mouse_event_fn);\n",
       "    rubberband.mouseup('button_release', mouse_event_fn);\n",
       "    // Throttle sequential mouse events to 1 every 20ms.\n",
       "    rubberband.mousemove('motion_notify', mouse_event_fn);\n",
       "\n",
       "    rubberband.mouseenter('figure_enter', mouse_event_fn);\n",
       "    rubberband.mouseleave('figure_leave', mouse_event_fn);\n",
       "\n",
       "    canvas_div.on(\"wheel\", function (event) {\n",
       "        event = event.originalEvent;\n",
       "        event['data'] = 'scroll'\n",
       "        if (event.deltaY < 0) {\n",
       "            event.step = 1;\n",
       "        } else {\n",
       "            event.step = -1;\n",
       "        }\n",
       "        mouse_event_fn(event);\n",
       "    });\n",
       "\n",
       "    canvas_div.append(canvas);\n",
       "    canvas_div.append(rubberband);\n",
       "\n",
       "    this.rubberband = rubberband;\n",
       "    this.rubberband_canvas = rubberband[0];\n",
       "    this.rubberband_context = rubberband[0].getContext(\"2d\");\n",
       "    this.rubberband_context.strokeStyle = \"#000000\";\n",
       "\n",
       "    this._resize_canvas = function(width, height) {\n",
       "        // Keep the size of the canvas, canvas container, and rubber band\n",
       "        // canvas in synch.\n",
       "        canvas_div.css('width', width)\n",
       "        canvas_div.css('height', height)\n",
       "\n",
       "        canvas.attr('width', width * mpl.ratio);\n",
       "        canvas.attr('height', height * mpl.ratio);\n",
       "        canvas.attr('style', 'width: ' + width + 'px; height: ' + height + 'px;');\n",
       "\n",
       "        rubberband.attr('width', width);\n",
       "        rubberband.attr('height', height);\n",
       "    }\n",
       "\n",
       "    // Set the figure to an initial 600x600px, this will subsequently be updated\n",
       "    // upon first draw.\n",
       "    this._resize_canvas(600, 600);\n",
       "\n",
       "    // Disable right mouse context menu.\n",
       "    $(this.rubberband_canvas).bind(\"contextmenu\",function(e){\n",
       "        return false;\n",
       "    });\n",
       "\n",
       "    function set_focus () {\n",
       "        canvas.focus();\n",
       "        canvas_div.focus();\n",
       "    }\n",
       "\n",
       "    window.setTimeout(set_focus, 100);\n",
       "}\n",
       "\n",
       "mpl.figure.prototype._init_toolbar = function() {\n",
       "    var fig = this;\n",
       "\n",
       "    var nav_element = $('<div/>');\n",
       "    nav_element.attr('style', 'width: 100%');\n",
       "    this.root.append(nav_element);\n",
       "\n",
       "    // Define a callback function for later on.\n",
       "    function toolbar_event(event) {\n",
       "        return fig.toolbar_button_onclick(event['data']);\n",
       "    }\n",
       "    function toolbar_mouse_event(event) {\n",
       "        return fig.toolbar_button_onmouseover(event['data']);\n",
       "    }\n",
       "\n",
       "    for(var toolbar_ind in mpl.toolbar_items) {\n",
       "        var name = mpl.toolbar_items[toolbar_ind][0];\n",
       "        var tooltip = mpl.toolbar_items[toolbar_ind][1];\n",
       "        var image = mpl.toolbar_items[toolbar_ind][2];\n",
       "        var method_name = mpl.toolbar_items[toolbar_ind][3];\n",
       "\n",
       "        if (!name) {\n",
       "            // put a spacer in here.\n",
       "            continue;\n",
       "        }\n",
       "        var button = $('<button/>');\n",
       "        button.addClass('ui-button ui-widget ui-state-default ui-corner-all ' +\n",
       "                        'ui-button-icon-only');\n",
       "        button.attr('role', 'button');\n",
       "        button.attr('aria-disabled', 'false');\n",
       "        button.click(method_name, toolbar_event);\n",
       "        button.mouseover(tooltip, toolbar_mouse_event);\n",
       "\n",
       "        var icon_img = $('<span/>');\n",
       "        icon_img.addClass('ui-button-icon-primary ui-icon');\n",
       "        icon_img.addClass(image);\n",
       "        icon_img.addClass('ui-corner-all');\n",
       "\n",
       "        var tooltip_span = $('<span/>');\n",
       "        tooltip_span.addClass('ui-button-text');\n",
       "        tooltip_span.html(tooltip);\n",
       "\n",
       "        button.append(icon_img);\n",
       "        button.append(tooltip_span);\n",
       "\n",
       "        nav_element.append(button);\n",
       "    }\n",
       "\n",
       "    var fmt_picker_span = $('<span/>');\n",
       "\n",
       "    var fmt_picker = $('<select/>');\n",
       "    fmt_picker.addClass('mpl-toolbar-option ui-widget ui-widget-content');\n",
       "    fmt_picker_span.append(fmt_picker);\n",
       "    nav_element.append(fmt_picker_span);\n",
       "    this.format_dropdown = fmt_picker[0];\n",
       "\n",
       "    for (var ind in mpl.extensions) {\n",
       "        var fmt = mpl.extensions[ind];\n",
       "        var option = $(\n",
       "            '<option/>', {selected: fmt === mpl.default_extension}).html(fmt);\n",
       "        fmt_picker.append(option);\n",
       "    }\n",
       "\n",
       "    // Add hover states to the ui-buttons\n",
       "    $( \".ui-button\" ).hover(\n",
       "        function() { $(this).addClass(\"ui-state-hover\");},\n",
       "        function() { $(this).removeClass(\"ui-state-hover\");}\n",
       "    );\n",
       "\n",
       "    var status_bar = $('<span class=\"mpl-message\"/>');\n",
       "    nav_element.append(status_bar);\n",
       "    this.message = status_bar[0];\n",
       "}\n",
       "\n",
       "mpl.figure.prototype.request_resize = function(x_pixels, y_pixels) {\n",
       "    // Request matplotlib to resize the figure. Matplotlib will then trigger a resize in the client,\n",
       "    // which will in turn request a refresh of the image.\n",
       "    this.send_message('resize', {'width': x_pixels, 'height': y_pixels});\n",
       "}\n",
       "\n",
       "mpl.figure.prototype.send_message = function(type, properties) {\n",
       "    properties['type'] = type;\n",
       "    properties['figure_id'] = this.id;\n",
       "    this.ws.send(JSON.stringify(properties));\n",
       "}\n",
       "\n",
       "mpl.figure.prototype.send_draw_message = function() {\n",
       "    if (!this.waiting) {\n",
       "        this.waiting = true;\n",
       "        this.ws.send(JSON.stringify({type: \"draw\", figure_id: this.id}));\n",
       "    }\n",
       "}\n",
       "\n",
       "\n",
       "mpl.figure.prototype.handle_save = function(fig, msg) {\n",
       "    var format_dropdown = fig.format_dropdown;\n",
       "    var format = format_dropdown.options[format_dropdown.selectedIndex].value;\n",
       "    fig.ondownload(fig, format);\n",
       "}\n",
       "\n",
       "\n",
       "mpl.figure.prototype.handle_resize = function(fig, msg) {\n",
       "    var size = msg['size'];\n",
       "    if (size[0] != fig.canvas.width || size[1] != fig.canvas.height) {\n",
       "        fig._resize_canvas(size[0], size[1]);\n",
       "        fig.send_message(\"refresh\", {});\n",
       "    };\n",
       "}\n",
       "\n",
       "mpl.figure.prototype.handle_rubberband = function(fig, msg) {\n",
       "    var x0 = msg['x0'] / mpl.ratio;\n",
       "    var y0 = (fig.canvas.height - msg['y0']) / mpl.ratio;\n",
       "    var x1 = msg['x1'] / mpl.ratio;\n",
       "    var y1 = (fig.canvas.height - msg['y1']) / mpl.ratio;\n",
       "    x0 = Math.floor(x0) + 0.5;\n",
       "    y0 = Math.floor(y0) + 0.5;\n",
       "    x1 = Math.floor(x1) + 0.5;\n",
       "    y1 = Math.floor(y1) + 0.5;\n",
       "    var min_x = Math.min(x0, x1);\n",
       "    var min_y = Math.min(y0, y1);\n",
       "    var width = Math.abs(x1 - x0);\n",
       "    var height = Math.abs(y1 - y0);\n",
       "\n",
       "    fig.rubberband_context.clearRect(\n",
       "        0, 0, fig.canvas.width, fig.canvas.height);\n",
       "\n",
       "    fig.rubberband_context.strokeRect(min_x, min_y, width, height);\n",
       "}\n",
       "\n",
       "mpl.figure.prototype.handle_figure_label = function(fig, msg) {\n",
       "    // Updates the figure title.\n",
       "    fig.header.textContent = msg['label'];\n",
       "}\n",
       "\n",
       "mpl.figure.prototype.handle_cursor = function(fig, msg) {\n",
       "    var cursor = msg['cursor'];\n",
       "    switch(cursor)\n",
       "    {\n",
       "    case 0:\n",
       "        cursor = 'pointer';\n",
       "        break;\n",
       "    case 1:\n",
       "        cursor = 'default';\n",
       "        break;\n",
       "    case 2:\n",
       "        cursor = 'crosshair';\n",
       "        break;\n",
       "    case 3:\n",
       "        cursor = 'move';\n",
       "        break;\n",
       "    }\n",
       "    fig.rubberband_canvas.style.cursor = cursor;\n",
       "}\n",
       "\n",
       "mpl.figure.prototype.handle_message = function(fig, msg) {\n",
       "    fig.message.textContent = msg['message'];\n",
       "}\n",
       "\n",
       "mpl.figure.prototype.handle_draw = function(fig, msg) {\n",
       "    // Request the server to send over a new figure.\n",
       "    fig.send_draw_message();\n",
       "}\n",
       "\n",
       "mpl.figure.prototype.handle_image_mode = function(fig, msg) {\n",
       "    fig.image_mode = msg['mode'];\n",
       "}\n",
       "\n",
       "mpl.figure.prototype.updated_canvas_event = function() {\n",
       "    // Called whenever the canvas gets updated.\n",
       "    this.send_message(\"ack\", {});\n",
       "}\n",
       "\n",
       "// A function to construct a web socket function for onmessage handling.\n",
       "// Called in the figure constructor.\n",
       "mpl.figure.prototype._make_on_message_function = function(fig) {\n",
       "    return function socket_on_message(evt) {\n",
       "        if (evt.data instanceof Blob) {\n",
       "            /* FIXME: We get \"Resource interpreted as Image but\n",
       "             * transferred with MIME type text/plain:\" errors on\n",
       "             * Chrome.  But how to set the MIME type?  It doesn't seem\n",
       "             * to be part of the websocket stream */\n",
       "            evt.data.type = \"image/png\";\n",
       "\n",
       "            /* Free the memory for the previous frames */\n",
       "            if (fig.imageObj.src) {\n",
       "                (window.URL || window.webkitURL).revokeObjectURL(\n",
       "                    fig.imageObj.src);\n",
       "            }\n",
       "\n",
       "            fig.imageObj.src = (window.URL || window.webkitURL).createObjectURL(\n",
       "                evt.data);\n",
       "            fig.updated_canvas_event();\n",
       "            fig.waiting = false;\n",
       "            return;\n",
       "        }\n",
       "        else if (typeof evt.data === 'string' && evt.data.slice(0, 21) == \"data:image/png;base64\") {\n",
       "            fig.imageObj.src = evt.data;\n",
       "            fig.updated_canvas_event();\n",
       "            fig.waiting = false;\n",
       "            return;\n",
       "        }\n",
       "\n",
       "        var msg = JSON.parse(evt.data);\n",
       "        var msg_type = msg['type'];\n",
       "\n",
       "        // Call the  \"handle_{type}\" callback, which takes\n",
       "        // the figure and JSON message as its only arguments.\n",
       "        try {\n",
       "            var callback = fig[\"handle_\" + msg_type];\n",
       "        } catch (e) {\n",
       "            console.log(\"No handler for the '\" + msg_type + \"' message type: \", msg);\n",
       "            return;\n",
       "        }\n",
       "\n",
       "        if (callback) {\n",
       "            try {\n",
       "                // console.log(\"Handling '\" + msg_type + \"' message: \", msg);\n",
       "                callback(fig, msg);\n",
       "            } catch (e) {\n",
       "                console.log(\"Exception inside the 'handler_\" + msg_type + \"' callback:\", e, e.stack, msg);\n",
       "            }\n",
       "        }\n",
       "    };\n",
       "}\n",
       "\n",
       "// from http://stackoverflow.com/questions/1114465/getting-mouse-location-in-canvas\n",
       "mpl.findpos = function(e) {\n",
       "    //this section is from http://www.quirksmode.org/js/events_properties.html\n",
       "    var targ;\n",
       "    if (!e)\n",
       "        e = window.event;\n",
       "    if (e.target)\n",
       "        targ = e.target;\n",
       "    else if (e.srcElement)\n",
       "        targ = e.srcElement;\n",
       "    if (targ.nodeType == 3) // defeat Safari bug\n",
       "        targ = targ.parentNode;\n",
       "\n",
       "    // jQuery normalizes the pageX and pageY\n",
       "    // pageX,Y are the mouse positions relative to the document\n",
       "    // offset() returns the position of the element relative to the document\n",
       "    var x = e.pageX - $(targ).offset().left;\n",
       "    var y = e.pageY - $(targ).offset().top;\n",
       "\n",
       "    return {\"x\": x, \"y\": y};\n",
       "};\n",
       "\n",
       "/*\n",
       " * return a copy of an object with only non-object keys\n",
       " * we need this to avoid circular references\n",
       " * http://stackoverflow.com/a/24161582/3208463\n",
       " */\n",
       "function simpleKeys (original) {\n",
       "  return Object.keys(original).reduce(function (obj, key) {\n",
       "    if (typeof original[key] !== 'object')\n",
       "        obj[key] = original[key]\n",
       "    return obj;\n",
       "  }, {});\n",
       "}\n",
       "\n",
       "mpl.figure.prototype.mouse_event = function(event, name) {\n",
       "    var canvas_pos = mpl.findpos(event)\n",
       "\n",
       "    if (name === 'button_press')\n",
       "    {\n",
       "        this.canvas.focus();\n",
       "        this.canvas_div.focus();\n",
       "    }\n",
       "\n",
       "    var x = canvas_pos.x * mpl.ratio;\n",
       "    var y = canvas_pos.y * mpl.ratio;\n",
       "\n",
       "    this.send_message(name, {x: x, y: y, button: event.button,\n",
       "                             step: event.step,\n",
       "                             guiEvent: simpleKeys(event)});\n",
       "\n",
       "    /* This prevents the web browser from automatically changing to\n",
       "     * the text insertion cursor when the button is pressed.  We want\n",
       "     * to control all of the cursor setting manually through the\n",
       "     * 'cursor' event from matplotlib */\n",
       "    event.preventDefault();\n",
       "    return false;\n",
       "}\n",
       "\n",
       "mpl.figure.prototype._key_event_extra = function(event, name) {\n",
       "    // Handle any extra behaviour associated with a key event\n",
       "}\n",
       "\n",
       "mpl.figure.prototype.key_event = function(event, name) {\n",
       "\n",
       "    // Prevent repeat events\n",
       "    if (name == 'key_press')\n",
       "    {\n",
       "        if (event.which === this._key)\n",
       "            return;\n",
       "        else\n",
       "            this._key = event.which;\n",
       "    }\n",
       "    if (name == 'key_release')\n",
       "        this._key = null;\n",
       "\n",
       "    var value = '';\n",
       "    if (event.ctrlKey && event.which != 17)\n",
       "        value += \"ctrl+\";\n",
       "    if (event.altKey && event.which != 18)\n",
       "        value += \"alt+\";\n",
       "    if (event.shiftKey && event.which != 16)\n",
       "        value += \"shift+\";\n",
       "\n",
       "    value += 'k';\n",
       "    value += event.which.toString();\n",
       "\n",
       "    this._key_event_extra(event, name);\n",
       "\n",
       "    this.send_message(name, {key: value,\n",
       "                             guiEvent: simpleKeys(event)});\n",
       "    return false;\n",
       "}\n",
       "\n",
       "mpl.figure.prototype.toolbar_button_onclick = function(name) {\n",
       "    if (name == 'download') {\n",
       "        this.handle_save(this, null);\n",
       "    } else {\n",
       "        this.send_message(\"toolbar_button\", {name: name});\n",
       "    }\n",
       "};\n",
       "\n",
       "mpl.figure.prototype.toolbar_button_onmouseover = function(tooltip) {\n",
       "    this.message.textContent = tooltip;\n",
       "};\n",
       "mpl.toolbar_items = [[\"Home\", \"Reset original view\", \"fa fa-home icon-home\", \"home\"], [\"Back\", \"Back to previous view\", \"fa fa-arrow-left icon-arrow-left\", \"back\"], [\"Forward\", \"Forward to next view\", \"fa fa-arrow-right icon-arrow-right\", \"forward\"], [\"\", \"\", \"\", \"\"], [\"Pan\", \"Pan axes with left mouse, zoom with right\", \"fa fa-arrows icon-move\", \"pan\"], [\"Zoom\", \"Zoom to rectangle\", \"fa fa-square-o icon-check-empty\", \"zoom\"], [\"\", \"\", \"\", \"\"], [\"Download\", \"Download plot\", \"fa fa-floppy-o icon-save\", \"download\"]];\n",
       "\n",
       "mpl.extensions = [\"eps\", \"jpeg\", \"pdf\", \"png\", \"ps\", \"raw\", \"svg\", \"tif\"];\n",
       "\n",
       "mpl.default_extension = \"png\";var comm_websocket_adapter = function(comm) {\n",
       "    // Create a \"websocket\"-like object which calls the given IPython comm\n",
       "    // object with the appropriate methods. Currently this is a non binary\n",
       "    // socket, so there is still some room for performance tuning.\n",
       "    var ws = {};\n",
       "\n",
       "    ws.close = function() {\n",
       "        comm.close()\n",
       "    };\n",
       "    ws.send = function(m) {\n",
       "        //console.log('sending', m);\n",
       "        comm.send(m);\n",
       "    };\n",
       "    // Register the callback with on_msg.\n",
       "    comm.on_msg(function(msg) {\n",
       "        //console.log('receiving', msg['content']['data'], msg);\n",
       "        // Pass the mpl event to the overridden (by mpl) onmessage function.\n",
       "        ws.onmessage(msg['content']['data'])\n",
       "    });\n",
       "    return ws;\n",
       "}\n",
       "\n",
       "mpl.mpl_figure_comm = function(comm, msg) {\n",
       "    // This is the function which gets called when the mpl process\n",
       "    // starts-up an IPython Comm through the \"matplotlib\" channel.\n",
       "\n",
       "    var id = msg.content.data.id;\n",
       "    // Get hold of the div created by the display call when the Comm\n",
       "    // socket was opened in Python.\n",
       "    var element = $(\"#\" + id);\n",
       "    var ws_proxy = comm_websocket_adapter(comm)\n",
       "\n",
       "    function ondownload(figure, format) {\n",
       "        window.open(figure.imageObj.src);\n",
       "    }\n",
       "\n",
       "    var fig = new mpl.figure(id, ws_proxy,\n",
       "                           ondownload,\n",
       "                           element.get(0));\n",
       "\n",
       "    // Call onopen now - mpl needs it, as it is assuming we've passed it a real\n",
       "    // web socket which is closed, not our websocket->open comm proxy.\n",
       "    ws_proxy.onopen();\n",
       "\n",
       "    fig.parent_element = element.get(0);\n",
       "    fig.cell_info = mpl.find_output_cell(\"<div id='\" + id + \"'></div>\");\n",
       "    if (!fig.cell_info) {\n",
       "        console.error(\"Failed to find cell for figure\", id, fig);\n",
       "        return;\n",
       "    }\n",
       "\n",
       "    var output_index = fig.cell_info[2]\n",
       "    var cell = fig.cell_info[0];\n",
       "\n",
       "};\n",
       "\n",
       "mpl.figure.prototype.handle_close = function(fig, msg) {\n",
       "    var width = fig.canvas.width/mpl.ratio\n",
       "    fig.root.unbind('remove')\n",
       "\n",
       "    // Update the output cell to use the data from the current canvas.\n",
       "    fig.push_to_output();\n",
       "    var dataURL = fig.canvas.toDataURL();\n",
       "    // Re-enable the keyboard manager in IPython - without this line, in FF,\n",
       "    // the notebook keyboard shortcuts fail.\n",
       "    IPython.keyboard_manager.enable()\n",
       "    $(fig.parent_element).html('<img src=\"' + dataURL + '\" width=\"' + width + '\">');\n",
       "    fig.close_ws(fig, msg);\n",
       "}\n",
       "\n",
       "mpl.figure.prototype.close_ws = function(fig, msg){\n",
       "    fig.send_message('closing', msg);\n",
       "    // fig.ws.close()\n",
       "}\n",
       "\n",
       "mpl.figure.prototype.push_to_output = function(remove_interactive) {\n",
       "    // Turn the data on the canvas into data in the output cell.\n",
       "    var width = this.canvas.width/mpl.ratio\n",
       "    var dataURL = this.canvas.toDataURL();\n",
       "    this.cell_info[1]['text/html'] = '<img src=\"' + dataURL + '\" width=\"' + width + '\">';\n",
       "}\n",
       "\n",
       "mpl.figure.prototype.updated_canvas_event = function() {\n",
       "    // Tell IPython that the notebook contents must change.\n",
       "    IPython.notebook.set_dirty(true);\n",
       "    this.send_message(\"ack\", {});\n",
       "    var fig = this;\n",
       "    // Wait a second, then push the new image to the DOM so\n",
       "    // that it is saved nicely (might be nice to debounce this).\n",
       "    setTimeout(function () { fig.push_to_output() }, 1000);\n",
       "}\n",
       "\n",
       "mpl.figure.prototype._init_toolbar = function() {\n",
       "    var fig = this;\n",
       "\n",
       "    var nav_element = $('<div/>');\n",
       "    nav_element.attr('style', 'width: 100%');\n",
       "    this.root.append(nav_element);\n",
       "\n",
       "    // Define a callback function for later on.\n",
       "    function toolbar_event(event) {\n",
       "        return fig.toolbar_button_onclick(event['data']);\n",
       "    }\n",
       "    function toolbar_mouse_event(event) {\n",
       "        return fig.toolbar_button_onmouseover(event['data']);\n",
       "    }\n",
       "\n",
       "    for(var toolbar_ind in mpl.toolbar_items){\n",
       "        var name = mpl.toolbar_items[toolbar_ind][0];\n",
       "        var tooltip = mpl.toolbar_items[toolbar_ind][1];\n",
       "        var image = mpl.toolbar_items[toolbar_ind][2];\n",
       "        var method_name = mpl.toolbar_items[toolbar_ind][3];\n",
       "\n",
       "        if (!name) { continue; };\n",
       "\n",
       "        var button = $('<button class=\"btn btn-default\" href=\"#\" title=\"' + name + '\"><i class=\"fa ' + image + ' fa-lg\"></i></button>');\n",
       "        button.click(method_name, toolbar_event);\n",
       "        button.mouseover(tooltip, toolbar_mouse_event);\n",
       "        nav_element.append(button);\n",
       "    }\n",
       "\n",
       "    // Add the status bar.\n",
       "    var status_bar = $('<span class=\"mpl-message\" style=\"text-align:right; float: right;\"/>');\n",
       "    nav_element.append(status_bar);\n",
       "    this.message = status_bar[0];\n",
       "\n",
       "    // Add the close button to the window.\n",
       "    var buttongrp = $('<div class=\"btn-group inline pull-right\"></div>');\n",
       "    var button = $('<button class=\"btn btn-mini btn-primary\" href=\"#\" title=\"Stop Interaction\"><i class=\"fa fa-power-off icon-remove icon-large\"></i></button>');\n",
       "    button.click(function (evt) { fig.handle_close(fig, {}); } );\n",
       "    button.mouseover('Stop Interaction', toolbar_mouse_event);\n",
       "    buttongrp.append(button);\n",
       "    var titlebar = this.root.find($('.ui-dialog-titlebar'));\n",
       "    titlebar.prepend(buttongrp);\n",
       "}\n",
       "\n",
       "mpl.figure.prototype._root_extra_style = function(el){\n",
       "    var fig = this\n",
       "    el.on(\"remove\", function(){\n",
       "\tfig.close_ws(fig, {});\n",
       "    });\n",
       "}\n",
       "\n",
       "mpl.figure.prototype._canvas_extra_style = function(el){\n",
       "    // this is important to make the div 'focusable\n",
       "    el.attr('tabindex', 0)\n",
       "    // reach out to IPython and tell the keyboard manager to turn it's self\n",
       "    // off when our div gets focus\n",
       "\n",
       "    // location in version 3\n",
       "    if (IPython.notebook.keyboard_manager) {\n",
       "        IPython.notebook.keyboard_manager.register_events(el);\n",
       "    }\n",
       "    else {\n",
       "        // location in version 2\n",
       "        IPython.keyboard_manager.register_events(el);\n",
       "    }\n",
       "\n",
       "}\n",
       "\n",
       "mpl.figure.prototype._key_event_extra = function(event, name) {\n",
       "    var manager = IPython.notebook.keyboard_manager;\n",
       "    if (!manager)\n",
       "        manager = IPython.keyboard_manager;\n",
       "\n",
       "    // Check for shift+enter\n",
       "    if (event.shiftKey && event.which == 13) {\n",
       "        this.canvas_div.blur();\n",
       "        event.shiftKey = false;\n",
       "        // Send a \"J\" for go to next cell\n",
       "        event.which = 74;\n",
       "        event.keyCode = 74;\n",
       "        manager.command_mode();\n",
       "        manager.handle_keydown(event);\n",
       "    }\n",
       "}\n",
       "\n",
       "mpl.figure.prototype.handle_save = function(fig, msg) {\n",
       "    fig.ondownload(fig, null);\n",
       "}\n",
       "\n",
       "\n",
       "mpl.find_output_cell = function(html_output) {\n",
       "    // Return the cell and output element which can be found *uniquely* in the notebook.\n",
       "    // Note - this is a bit hacky, but it is done because the \"notebook_saving.Notebook\"\n",
       "    // IPython event is triggered only after the cells have been serialised, which for\n",
       "    // our purposes (turning an active figure into a static one), is too late.\n",
       "    var cells = IPython.notebook.get_cells();\n",
       "    var ncells = cells.length;\n",
       "    for (var i=0; i<ncells; i++) {\n",
       "        var cell = cells[i];\n",
       "        if (cell.cell_type === 'code'){\n",
       "            for (var j=0; j<cell.output_area.outputs.length; j++) {\n",
       "                var data = cell.output_area.outputs[j];\n",
       "                if (data.data) {\n",
       "                    // IPython >= 3 moved mimebundle to data attribute of output\n",
       "                    data = data.data;\n",
       "                }\n",
       "                if (data['text/html'] == html_output) {\n",
       "                    return [cell, data, j];\n",
       "                }\n",
       "            }\n",
       "        }\n",
       "    }\n",
       "}\n",
       "\n",
       "// Register the function which deals with the matplotlib target/channel.\n",
       "// The kernel may be null if the page has been refreshed.\n",
       "if (IPython.notebook.kernel != null) {\n",
       "    IPython.notebook.kernel.comm_manager.register_target('matplotlib', mpl.mpl_figure_comm);\n",
       "}\n"
      ],
      "text/plain": [
       "<IPython.core.display.Javascript object>"
      ]
     },
     "metadata": {},
     "output_type": "display_data"
    },
    {
     "data": {
      "text/html": [
       "<img src=\"data:image/png;base64,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\" width=\"640\">"
      ],
      "text/plain": [
       "<IPython.core.display.HTML object>"
      ]
     },
     "metadata": {},
     "output_type": "display_data"
    },
    {
     "data": {
      "text/plain": [
       "Text(0, 0.5, 'value')"
      ]
     },
     "execution_count": 19,
     "metadata": {},
     "output_type": "execute_result"
    }
   ],
   "source": [
    "fig = plt.figure()\n",
    "ax = fig.add_subplot(111)\n",
    "ax.plot(theta, s, '-')\n",
    "ax.set_xlabel('theta in radians')\n",
    "ax.set_ylabel('value')"
   ]
  },
  {
   "cell_type": "code",
   "execution_count": 20,
   "metadata": {},
   "outputs": [],
   "source": [
    "#-> (111)의 의미 -> 1*1로 만들어서 그 중 1번째 화면\n",
    "# .-> 점들의 조합, - -> 선의 형태\n",
    "#-> xlabel -> x축, ylabel-> y축"
   ]
  },
  {
   "cell_type": "code",
   "execution_count": 21,
   "metadata": {},
   "outputs": [],
   "source": [
    "#직선함수(linear, 1차함수) -> x의 변화가 equidistant 하면 y의 변화도 equidistant\n",
    "#Sin함수 -> non-linear (x는 equidistant 하지만, y는 non-equidistant"
   ]
  },
  {
   "cell_type": "code",
   "execution_count": 22,
   "metadata": {},
   "outputs": [],
   "source": [
    "t = np.arange(1, sr)\n",
    "#sampling rate 만큼의 time tick 을 만드는 것"
   ]
  },
  {
   "cell_type": "code",
   "execution_count": 23,
   "metadata": {},
   "outputs": [],
   "source": [
    "t = np.arange(1, sr*dur)\n",
    "#거기에 duration 값을 넣어줌 (위에 설정된 duration -> 0.5)"
   ]
  },
  {
   "cell_type": "code",
   "execution_count": 24,
   "metadata": {},
   "outputs": [],
   "source": [
    "t = np.arange(1, sr*dur+1)/sr\n",
    "#이제 time 이 기반이 된 theta 를 만들 수 있음"
   ]
  },
  {
   "cell_type": "code",
   "execution_count": 26,
   "metadata": {},
   "outputs": [],
   "source": [
    "theta = t * 2*np.pi * freq\n",
    "s = np.sin(theta)\n",
    "#-> time 이 연동된 theta를 넣은 s값"
   ]
  },
  {
   "cell_type": "code",
   "execution_count": 27,
   "metadata": {
    "scrolled": true
   },
   "outputs": [
    {
     "data": {
      "application/javascript": [
       "/* Put everything inside the global mpl namespace */\n",
       "window.mpl = {};\n",
       "\n",
       "\n",
       "mpl.get_websocket_type = function() {\n",
       "    if (typeof(WebSocket) !== 'undefined') {\n",
       "        return WebSocket;\n",
       "    } else if (typeof(MozWebSocket) !== 'undefined') {\n",
       "        return MozWebSocket;\n",
       "    } else {\n",
       "        alert('Your browser does not have WebSocket support. ' +\n",
       "              'Please try Chrome, Safari or Firefox ≥ 6. ' +\n",
       "              'Firefox 4 and 5 are also supported but you ' +\n",
       "              'have to enable WebSockets in about:config.');\n",
       "    };\n",
       "}\n",
       "\n",
       "mpl.figure = function(figure_id, websocket, ondownload, parent_element) {\n",
       "    this.id = figure_id;\n",
       "\n",
       "    this.ws = websocket;\n",
       "\n",
       "    this.supports_binary = (this.ws.binaryType != undefined);\n",
       "\n",
       "    if (!this.supports_binary) {\n",
       "        var warnings = document.getElementById(\"mpl-warnings\");\n",
       "        if (warnings) {\n",
       "            warnings.style.display = 'block';\n",
       "            warnings.textContent = (\n",
       "                \"This browser does not support binary websocket messages. \" +\n",
       "                    \"Performance may be slow.\");\n",
       "        }\n",
       "    }\n",
       "\n",
       "    this.imageObj = new Image();\n",
       "\n",
       "    this.context = undefined;\n",
       "    this.message = undefined;\n",
       "    this.canvas = undefined;\n",
       "    this.rubberband_canvas = undefined;\n",
       "    this.rubberband_context = undefined;\n",
       "    this.format_dropdown = undefined;\n",
       "\n",
       "    this.image_mode = 'full';\n",
       "\n",
       "    this.root = $('<div/>');\n",
       "    this._root_extra_style(this.root)\n",
       "    this.root.attr('style', 'display: inline-block');\n",
       "\n",
       "    $(parent_element).append(this.root);\n",
       "\n",
       "    this._init_header(this);\n",
       "    this._init_canvas(this);\n",
       "    this._init_toolbar(this);\n",
       "\n",
       "    var fig = this;\n",
       "\n",
       "    this.waiting = false;\n",
       "\n",
       "    this.ws.onopen =  function () {\n",
       "            fig.send_message(\"supports_binary\", {value: fig.supports_binary});\n",
       "            fig.send_message(\"send_image_mode\", {});\n",
       "            if (mpl.ratio != 1) {\n",
       "                fig.send_message(\"set_dpi_ratio\", {'dpi_ratio': mpl.ratio});\n",
       "            }\n",
       "            fig.send_message(\"refresh\", {});\n",
       "        }\n",
       "\n",
       "    this.imageObj.onload = function() {\n",
       "            if (fig.image_mode == 'full') {\n",
       "                // Full images could contain transparency (where diff images\n",
       "                // almost always do), so we need to clear the canvas so that\n",
       "                // there is no ghosting.\n",
       "                fig.context.clearRect(0, 0, fig.canvas.width, fig.canvas.height);\n",
       "            }\n",
       "            fig.context.drawImage(fig.imageObj, 0, 0);\n",
       "        };\n",
       "\n",
       "    this.imageObj.onunload = function() {\n",
       "        fig.ws.close();\n",
       "    }\n",
       "\n",
       "    this.ws.onmessage = this._make_on_message_function(this);\n",
       "\n",
       "    this.ondownload = ondownload;\n",
       "}\n",
       "\n",
       "mpl.figure.prototype._init_header = function() {\n",
       "    var titlebar = $(\n",
       "        '<div class=\"ui-dialog-titlebar ui-widget-header ui-corner-all ' +\n",
       "        'ui-helper-clearfix\"/>');\n",
       "    var titletext = $(\n",
       "        '<div class=\"ui-dialog-title\" style=\"width: 100%; ' +\n",
       "        'text-align: center; padding: 3px;\"/>');\n",
       "    titlebar.append(titletext)\n",
       "    this.root.append(titlebar);\n",
       "    this.header = titletext[0];\n",
       "}\n",
       "\n",
       "\n",
       "\n",
       "mpl.figure.prototype._canvas_extra_style = function(canvas_div) {\n",
       "\n",
       "}\n",
       "\n",
       "\n",
       "mpl.figure.prototype._root_extra_style = function(canvas_div) {\n",
       "\n",
       "}\n",
       "\n",
       "mpl.figure.prototype._init_canvas = function() {\n",
       "    var fig = this;\n",
       "\n",
       "    var canvas_div = $('<div/>');\n",
       "\n",
       "    canvas_div.attr('style', 'position: relative; clear: both; outline: 0');\n",
       "\n",
       "    function canvas_keyboard_event(event) {\n",
       "        return fig.key_event(event, event['data']);\n",
       "    }\n",
       "\n",
       "    canvas_div.keydown('key_press', canvas_keyboard_event);\n",
       "    canvas_div.keyup('key_release', canvas_keyboard_event);\n",
       "    this.canvas_div = canvas_div\n",
       "    this._canvas_extra_style(canvas_div)\n",
       "    this.root.append(canvas_div);\n",
       "\n",
       "    var canvas = $('<canvas/>');\n",
       "    canvas.addClass('mpl-canvas');\n",
       "    canvas.attr('style', \"left: 0; top: 0; z-index: 0; outline: 0\")\n",
       "\n",
       "    this.canvas = canvas[0];\n",
       "    this.context = canvas[0].getContext(\"2d\");\n",
       "\n",
       "    var backingStore = this.context.backingStorePixelRatio ||\n",
       "\tthis.context.webkitBackingStorePixelRatio ||\n",
       "\tthis.context.mozBackingStorePixelRatio ||\n",
       "\tthis.context.msBackingStorePixelRatio ||\n",
       "\tthis.context.oBackingStorePixelRatio ||\n",
       "\tthis.context.backingStorePixelRatio || 1;\n",
       "\n",
       "    mpl.ratio = (window.devicePixelRatio || 1) / backingStore;\n",
       "\n",
       "    var rubberband = $('<canvas/>');\n",
       "    rubberband.attr('style', \"position: absolute; left: 0; top: 0; z-index: 1;\")\n",
       "\n",
       "    var pass_mouse_events = true;\n",
       "\n",
       "    canvas_div.resizable({\n",
       "        start: function(event, ui) {\n",
       "            pass_mouse_events = false;\n",
       "        },\n",
       "        resize: function(event, ui) {\n",
       "            fig.request_resize(ui.size.width, ui.size.height);\n",
       "        },\n",
       "        stop: function(event, ui) {\n",
       "            pass_mouse_events = true;\n",
       "            fig.request_resize(ui.size.width, ui.size.height);\n",
       "        },\n",
       "    });\n",
       "\n",
       "    function mouse_event_fn(event) {\n",
       "        if (pass_mouse_events)\n",
       "            return fig.mouse_event(event, event['data']);\n",
       "    }\n",
       "\n",
       "    rubberband.mousedown('button_press', mouse_event_fn);\n",
       "    rubberband.mouseup('button_release', mouse_event_fn);\n",
       "    // Throttle sequential mouse events to 1 every 20ms.\n",
       "    rubberband.mousemove('motion_notify', mouse_event_fn);\n",
       "\n",
       "    rubberband.mouseenter('figure_enter', mouse_event_fn);\n",
       "    rubberband.mouseleave('figure_leave', mouse_event_fn);\n",
       "\n",
       "    canvas_div.on(\"wheel\", function (event) {\n",
       "        event = event.originalEvent;\n",
       "        event['data'] = 'scroll'\n",
       "        if (event.deltaY < 0) {\n",
       "            event.step = 1;\n",
       "        } else {\n",
       "            event.step = -1;\n",
       "        }\n",
       "        mouse_event_fn(event);\n",
       "    });\n",
       "\n",
       "    canvas_div.append(canvas);\n",
       "    canvas_div.append(rubberband);\n",
       "\n",
       "    this.rubberband = rubberband;\n",
       "    this.rubberband_canvas = rubberband[0];\n",
       "    this.rubberband_context = rubberband[0].getContext(\"2d\");\n",
       "    this.rubberband_context.strokeStyle = \"#000000\";\n",
       "\n",
       "    this._resize_canvas = function(width, height) {\n",
       "        // Keep the size of the canvas, canvas container, and rubber band\n",
       "        // canvas in synch.\n",
       "        canvas_div.css('width', width)\n",
       "        canvas_div.css('height', height)\n",
       "\n",
       "        canvas.attr('width', width * mpl.ratio);\n",
       "        canvas.attr('height', height * mpl.ratio);\n",
       "        canvas.attr('style', 'width: ' + width + 'px; height: ' + height + 'px;');\n",
       "\n",
       "        rubberband.attr('width', width);\n",
       "        rubberband.attr('height', height);\n",
       "    }\n",
       "\n",
       "    // Set the figure to an initial 600x600px, this will subsequently be updated\n",
       "    // upon first draw.\n",
       "    this._resize_canvas(600, 600);\n",
       "\n",
       "    // Disable right mouse context menu.\n",
       "    $(this.rubberband_canvas).bind(\"contextmenu\",function(e){\n",
       "        return false;\n",
       "    });\n",
       "\n",
       "    function set_focus () {\n",
       "        canvas.focus();\n",
       "        canvas_div.focus();\n",
       "    }\n",
       "\n",
       "    window.setTimeout(set_focus, 100);\n",
       "}\n",
       "\n",
       "mpl.figure.prototype._init_toolbar = function() {\n",
       "    var fig = this;\n",
       "\n",
       "    var nav_element = $('<div/>');\n",
       "    nav_element.attr('style', 'width: 100%');\n",
       "    this.root.append(nav_element);\n",
       "\n",
       "    // Define a callback function for later on.\n",
       "    function toolbar_event(event) {\n",
       "        return fig.toolbar_button_onclick(event['data']);\n",
       "    }\n",
       "    function toolbar_mouse_event(event) {\n",
       "        return fig.toolbar_button_onmouseover(event['data']);\n",
       "    }\n",
       "\n",
       "    for(var toolbar_ind in mpl.toolbar_items) {\n",
       "        var name = mpl.toolbar_items[toolbar_ind][0];\n",
       "        var tooltip = mpl.toolbar_items[toolbar_ind][1];\n",
       "        var image = mpl.toolbar_items[toolbar_ind][2];\n",
       "        var method_name = mpl.toolbar_items[toolbar_ind][3];\n",
       "\n",
       "        if (!name) {\n",
       "            // put a spacer in here.\n",
       "            continue;\n",
       "        }\n",
       "        var button = $('<button/>');\n",
       "        button.addClass('ui-button ui-widget ui-state-default ui-corner-all ' +\n",
       "                        'ui-button-icon-only');\n",
       "        button.attr('role', 'button');\n",
       "        button.attr('aria-disabled', 'false');\n",
       "        button.click(method_name, toolbar_event);\n",
       "        button.mouseover(tooltip, toolbar_mouse_event);\n",
       "\n",
       "        var icon_img = $('<span/>');\n",
       "        icon_img.addClass('ui-button-icon-primary ui-icon');\n",
       "        icon_img.addClass(image);\n",
       "        icon_img.addClass('ui-corner-all');\n",
       "\n",
       "        var tooltip_span = $('<span/>');\n",
       "        tooltip_span.addClass('ui-button-text');\n",
       "        tooltip_span.html(tooltip);\n",
       "\n",
       "        button.append(icon_img);\n",
       "        button.append(tooltip_span);\n",
       "\n",
       "        nav_element.append(button);\n",
       "    }\n",
       "\n",
       "    var fmt_picker_span = $('<span/>');\n",
       "\n",
       "    var fmt_picker = $('<select/>');\n",
       "    fmt_picker.addClass('mpl-toolbar-option ui-widget ui-widget-content');\n",
       "    fmt_picker_span.append(fmt_picker);\n",
       "    nav_element.append(fmt_picker_span);\n",
       "    this.format_dropdown = fmt_picker[0];\n",
       "\n",
       "    for (var ind in mpl.extensions) {\n",
       "        var fmt = mpl.extensions[ind];\n",
       "        var option = $(\n",
       "            '<option/>', {selected: fmt === mpl.default_extension}).html(fmt);\n",
       "        fmt_picker.append(option);\n",
       "    }\n",
       "\n",
       "    // Add hover states to the ui-buttons\n",
       "    $( \".ui-button\" ).hover(\n",
       "        function() { $(this).addClass(\"ui-state-hover\");},\n",
       "        function() { $(this).removeClass(\"ui-state-hover\");}\n",
       "    );\n",
       "\n",
       "    var status_bar = $('<span class=\"mpl-message\"/>');\n",
       "    nav_element.append(status_bar);\n",
       "    this.message = status_bar[0];\n",
       "}\n",
       "\n",
       "mpl.figure.prototype.request_resize = function(x_pixels, y_pixels) {\n",
       "    // Request matplotlib to resize the figure. Matplotlib will then trigger a resize in the client,\n",
       "    // which will in turn request a refresh of the image.\n",
       "    this.send_message('resize', {'width': x_pixels, 'height': y_pixels});\n",
       "}\n",
       "\n",
       "mpl.figure.prototype.send_message = function(type, properties) {\n",
       "    properties['type'] = type;\n",
       "    properties['figure_id'] = this.id;\n",
       "    this.ws.send(JSON.stringify(properties));\n",
       "}\n",
       "\n",
       "mpl.figure.prototype.send_draw_message = function() {\n",
       "    if (!this.waiting) {\n",
       "        this.waiting = true;\n",
       "        this.ws.send(JSON.stringify({type: \"draw\", figure_id: this.id}));\n",
       "    }\n",
       "}\n",
       "\n",
       "\n",
       "mpl.figure.prototype.handle_save = function(fig, msg) {\n",
       "    var format_dropdown = fig.format_dropdown;\n",
       "    var format = format_dropdown.options[format_dropdown.selectedIndex].value;\n",
       "    fig.ondownload(fig, format);\n",
       "}\n",
       "\n",
       "\n",
       "mpl.figure.prototype.handle_resize = function(fig, msg) {\n",
       "    var size = msg['size'];\n",
       "    if (size[0] != fig.canvas.width || size[1] != fig.canvas.height) {\n",
       "        fig._resize_canvas(size[0], size[1]);\n",
       "        fig.send_message(\"refresh\", {});\n",
       "    };\n",
       "}\n",
       "\n",
       "mpl.figure.prototype.handle_rubberband = function(fig, msg) {\n",
       "    var x0 = msg['x0'] / mpl.ratio;\n",
       "    var y0 = (fig.canvas.height - msg['y0']) / mpl.ratio;\n",
       "    var x1 = msg['x1'] / mpl.ratio;\n",
       "    var y1 = (fig.canvas.height - msg['y1']) / mpl.ratio;\n",
       "    x0 = Math.floor(x0) + 0.5;\n",
       "    y0 = Math.floor(y0) + 0.5;\n",
       "    x1 = Math.floor(x1) + 0.5;\n",
       "    y1 = Math.floor(y1) + 0.5;\n",
       "    var min_x = Math.min(x0, x1);\n",
       "    var min_y = Math.min(y0, y1);\n",
       "    var width = Math.abs(x1 - x0);\n",
       "    var height = Math.abs(y1 - y0);\n",
       "\n",
       "    fig.rubberband_context.clearRect(\n",
       "        0, 0, fig.canvas.width, fig.canvas.height);\n",
       "\n",
       "    fig.rubberband_context.strokeRect(min_x, min_y, width, height);\n",
       "}\n",
       "\n",
       "mpl.figure.prototype.handle_figure_label = function(fig, msg) {\n",
       "    // Updates the figure title.\n",
       "    fig.header.textContent = msg['label'];\n",
       "}\n",
       "\n",
       "mpl.figure.prototype.handle_cursor = function(fig, msg) {\n",
       "    var cursor = msg['cursor'];\n",
       "    switch(cursor)\n",
       "    {\n",
       "    case 0:\n",
       "        cursor = 'pointer';\n",
       "        break;\n",
       "    case 1:\n",
       "        cursor = 'default';\n",
       "        break;\n",
       "    case 2:\n",
       "        cursor = 'crosshair';\n",
       "        break;\n",
       "    case 3:\n",
       "        cursor = 'move';\n",
       "        break;\n",
       "    }\n",
       "    fig.rubberband_canvas.style.cursor = cursor;\n",
       "}\n",
       "\n",
       "mpl.figure.prototype.handle_message = function(fig, msg) {\n",
       "    fig.message.textContent = msg['message'];\n",
       "}\n",
       "\n",
       "mpl.figure.prototype.handle_draw = function(fig, msg) {\n",
       "    // Request the server to send over a new figure.\n",
       "    fig.send_draw_message();\n",
       "}\n",
       "\n",
       "mpl.figure.prototype.handle_image_mode = function(fig, msg) {\n",
       "    fig.image_mode = msg['mode'];\n",
       "}\n",
       "\n",
       "mpl.figure.prototype.updated_canvas_event = function() {\n",
       "    // Called whenever the canvas gets updated.\n",
       "    this.send_message(\"ack\", {});\n",
       "}\n",
       "\n",
       "// A function to construct a web socket function for onmessage handling.\n",
       "// Called in the figure constructor.\n",
       "mpl.figure.prototype._make_on_message_function = function(fig) {\n",
       "    return function socket_on_message(evt) {\n",
       "        if (evt.data instanceof Blob) {\n",
       "            /* FIXME: We get \"Resource interpreted as Image but\n",
       "             * transferred with MIME type text/plain:\" errors on\n",
       "             * Chrome.  But how to set the MIME type?  It doesn't seem\n",
       "             * to be part of the websocket stream */\n",
       "            evt.data.type = \"image/png\";\n",
       "\n",
       "            /* Free the memory for the previous frames */\n",
       "            if (fig.imageObj.src) {\n",
       "                (window.URL || window.webkitURL).revokeObjectURL(\n",
       "                    fig.imageObj.src);\n",
       "            }\n",
       "\n",
       "            fig.imageObj.src = (window.URL || window.webkitURL).createObjectURL(\n",
       "                evt.data);\n",
       "            fig.updated_canvas_event();\n",
       "            fig.waiting = false;\n",
       "            return;\n",
       "        }\n",
       "        else if (typeof evt.data === 'string' && evt.data.slice(0, 21) == \"data:image/png;base64\") {\n",
       "            fig.imageObj.src = evt.data;\n",
       "            fig.updated_canvas_event();\n",
       "            fig.waiting = false;\n",
       "            return;\n",
       "        }\n",
       "\n",
       "        var msg = JSON.parse(evt.data);\n",
       "        var msg_type = msg['type'];\n",
       "\n",
       "        // Call the  \"handle_{type}\" callback, which takes\n",
       "        // the figure and JSON message as its only arguments.\n",
       "        try {\n",
       "            var callback = fig[\"handle_\" + msg_type];\n",
       "        } catch (e) {\n",
       "            console.log(\"No handler for the '\" + msg_type + \"' message type: \", msg);\n",
       "            return;\n",
       "        }\n",
       "\n",
       "        if (callback) {\n",
       "            try {\n",
       "                // console.log(\"Handling '\" + msg_type + \"' message: \", msg);\n",
       "                callback(fig, msg);\n",
       "            } catch (e) {\n",
       "                console.log(\"Exception inside the 'handler_\" + msg_type + \"' callback:\", e, e.stack, msg);\n",
       "            }\n",
       "        }\n",
       "    };\n",
       "}\n",
       "\n",
       "// from http://stackoverflow.com/questions/1114465/getting-mouse-location-in-canvas\n",
       "mpl.findpos = function(e) {\n",
       "    //this section is from http://www.quirksmode.org/js/events_properties.html\n",
       "    var targ;\n",
       "    if (!e)\n",
       "        e = window.event;\n",
       "    if (e.target)\n",
       "        targ = e.target;\n",
       "    else if (e.srcElement)\n",
       "        targ = e.srcElement;\n",
       "    if (targ.nodeType == 3) // defeat Safari bug\n",
       "        targ = targ.parentNode;\n",
       "\n",
       "    // jQuery normalizes the pageX and pageY\n",
       "    // pageX,Y are the mouse positions relative to the document\n",
       "    // offset() returns the position of the element relative to the document\n",
       "    var x = e.pageX - $(targ).offset().left;\n",
       "    var y = e.pageY - $(targ).offset().top;\n",
       "\n",
       "    return {\"x\": x, \"y\": y};\n",
       "};\n",
       "\n",
       "/*\n",
       " * return a copy of an object with only non-object keys\n",
       " * we need this to avoid circular references\n",
       " * http://stackoverflow.com/a/24161582/3208463\n",
       " */\n",
       "function simpleKeys (original) {\n",
       "  return Object.keys(original).reduce(function (obj, key) {\n",
       "    if (typeof original[key] !== 'object')\n",
       "        obj[key] = original[key]\n",
       "    return obj;\n",
       "  }, {});\n",
       "}\n",
       "\n",
       "mpl.figure.prototype.mouse_event = function(event, name) {\n",
       "    var canvas_pos = mpl.findpos(event)\n",
       "\n",
       "    if (name === 'button_press')\n",
       "    {\n",
       "        this.canvas.focus();\n",
       "        this.canvas_div.focus();\n",
       "    }\n",
       "\n",
       "    var x = canvas_pos.x * mpl.ratio;\n",
       "    var y = canvas_pos.y * mpl.ratio;\n",
       "\n",
       "    this.send_message(name, {x: x, y: y, button: event.button,\n",
       "                             step: event.step,\n",
       "                             guiEvent: simpleKeys(event)});\n",
       "\n",
       "    /* This prevents the web browser from automatically changing to\n",
       "     * the text insertion cursor when the button is pressed.  We want\n",
       "     * to control all of the cursor setting manually through the\n",
       "     * 'cursor' event from matplotlib */\n",
       "    event.preventDefault();\n",
       "    return false;\n",
       "}\n",
       "\n",
       "mpl.figure.prototype._key_event_extra = function(event, name) {\n",
       "    // Handle any extra behaviour associated with a key event\n",
       "}\n",
       "\n",
       "mpl.figure.prototype.key_event = function(event, name) {\n",
       "\n",
       "    // Prevent repeat events\n",
       "    if (name == 'key_press')\n",
       "    {\n",
       "        if (event.which === this._key)\n",
       "            return;\n",
       "        else\n",
       "            this._key = event.which;\n",
       "    }\n",
       "    if (name == 'key_release')\n",
       "        this._key = null;\n",
       "\n",
       "    var value = '';\n",
       "    if (event.ctrlKey && event.which != 17)\n",
       "        value += \"ctrl+\";\n",
       "    if (event.altKey && event.which != 18)\n",
       "        value += \"alt+\";\n",
       "    if (event.shiftKey && event.which != 16)\n",
       "        value += \"shift+\";\n",
       "\n",
       "    value += 'k';\n",
       "    value += event.which.toString();\n",
       "\n",
       "    this._key_event_extra(event, name);\n",
       "\n",
       "    this.send_message(name, {key: value,\n",
       "                             guiEvent: simpleKeys(event)});\n",
       "    return false;\n",
       "}\n",
       "\n",
       "mpl.figure.prototype.toolbar_button_onclick = function(name) {\n",
       "    if (name == 'download') {\n",
       "        this.handle_save(this, null);\n",
       "    } else {\n",
       "        this.send_message(\"toolbar_button\", {name: name});\n",
       "    }\n",
       "};\n",
       "\n",
       "mpl.figure.prototype.toolbar_button_onmouseover = function(tooltip) {\n",
       "    this.message.textContent = tooltip;\n",
       "};\n",
       "mpl.toolbar_items = [[\"Home\", \"Reset original view\", \"fa fa-home icon-home\", \"home\"], [\"Back\", \"Back to previous view\", \"fa fa-arrow-left icon-arrow-left\", \"back\"], [\"Forward\", \"Forward to next view\", \"fa fa-arrow-right icon-arrow-right\", \"forward\"], [\"\", \"\", \"\", \"\"], [\"Pan\", \"Pan axes with left mouse, zoom with right\", \"fa fa-arrows icon-move\", \"pan\"], [\"Zoom\", \"Zoom to rectangle\", \"fa fa-square-o icon-check-empty\", \"zoom\"], [\"\", \"\", \"\", \"\"], [\"Download\", \"Download plot\", \"fa fa-floppy-o icon-save\", \"download\"]];\n",
       "\n",
       "mpl.extensions = [\"eps\", \"jpeg\", \"pdf\", \"png\", \"ps\", \"raw\", \"svg\", \"tif\"];\n",
       "\n",
       "mpl.default_extension = \"png\";var comm_websocket_adapter = function(comm) {\n",
       "    // Create a \"websocket\"-like object which calls the given IPython comm\n",
       "    // object with the appropriate methods. Currently this is a non binary\n",
       "    // socket, so there is still some room for performance tuning.\n",
       "    var ws = {};\n",
       "\n",
       "    ws.close = function() {\n",
       "        comm.close()\n",
       "    };\n",
       "    ws.send = function(m) {\n",
       "        //console.log('sending', m);\n",
       "        comm.send(m);\n",
       "    };\n",
       "    // Register the callback with on_msg.\n",
       "    comm.on_msg(function(msg) {\n",
       "        //console.log('receiving', msg['content']['data'], msg);\n",
       "        // Pass the mpl event to the overridden (by mpl) onmessage function.\n",
       "        ws.onmessage(msg['content']['data'])\n",
       "    });\n",
       "    return ws;\n",
       "}\n",
       "\n",
       "mpl.mpl_figure_comm = function(comm, msg) {\n",
       "    // This is the function which gets called when the mpl process\n",
       "    // starts-up an IPython Comm through the \"matplotlib\" channel.\n",
       "\n",
       "    var id = msg.content.data.id;\n",
       "    // Get hold of the div created by the display call when the Comm\n",
       "    // socket was opened in Python.\n",
       "    var element = $(\"#\" + id);\n",
       "    var ws_proxy = comm_websocket_adapter(comm)\n",
       "\n",
       "    function ondownload(figure, format) {\n",
       "        window.open(figure.imageObj.src);\n",
       "    }\n",
       "\n",
       "    var fig = new mpl.figure(id, ws_proxy,\n",
       "                           ondownload,\n",
       "                           element.get(0));\n",
       "\n",
       "    // Call onopen now - mpl needs it, as it is assuming we've passed it a real\n",
       "    // web socket which is closed, not our websocket->open comm proxy.\n",
       "    ws_proxy.onopen();\n",
       "\n",
       "    fig.parent_element = element.get(0);\n",
       "    fig.cell_info = mpl.find_output_cell(\"<div id='\" + id + \"'></div>\");\n",
       "    if (!fig.cell_info) {\n",
       "        console.error(\"Failed to find cell for figure\", id, fig);\n",
       "        return;\n",
       "    }\n",
       "\n",
       "    var output_index = fig.cell_info[2]\n",
       "    var cell = fig.cell_info[0];\n",
       "\n",
       "};\n",
       "\n",
       "mpl.figure.prototype.handle_close = function(fig, msg) {\n",
       "    var width = fig.canvas.width/mpl.ratio\n",
       "    fig.root.unbind('remove')\n",
       "\n",
       "    // Update the output cell to use the data from the current canvas.\n",
       "    fig.push_to_output();\n",
       "    var dataURL = fig.canvas.toDataURL();\n",
       "    // Re-enable the keyboard manager in IPython - without this line, in FF,\n",
       "    // the notebook keyboard shortcuts fail.\n",
       "    IPython.keyboard_manager.enable()\n",
       "    $(fig.parent_element).html('<img src=\"' + dataURL + '\" width=\"' + width + '\">');\n",
       "    fig.close_ws(fig, msg);\n",
       "}\n",
       "\n",
       "mpl.figure.prototype.close_ws = function(fig, msg){\n",
       "    fig.send_message('closing', msg);\n",
       "    // fig.ws.close()\n",
       "}\n",
       "\n",
       "mpl.figure.prototype.push_to_output = function(remove_interactive) {\n",
       "    // Turn the data on the canvas into data in the output cell.\n",
       "    var width = this.canvas.width/mpl.ratio\n",
       "    var dataURL = this.canvas.toDataURL();\n",
       "    this.cell_info[1]['text/html'] = '<img src=\"' + dataURL + '\" width=\"' + width + '\">';\n",
       "}\n",
       "\n",
       "mpl.figure.prototype.updated_canvas_event = function() {\n",
       "    // Tell IPython that the notebook contents must change.\n",
       "    IPython.notebook.set_dirty(true);\n",
       "    this.send_message(\"ack\", {});\n",
       "    var fig = this;\n",
       "    // Wait a second, then push the new image to the DOM so\n",
       "    // that it is saved nicely (might be nice to debounce this).\n",
       "    setTimeout(function () { fig.push_to_output() }, 1000);\n",
       "}\n",
       "\n",
       "mpl.figure.prototype._init_toolbar = function() {\n",
       "    var fig = this;\n",
       "\n",
       "    var nav_element = $('<div/>');\n",
       "    nav_element.attr('style', 'width: 100%');\n",
       "    this.root.append(nav_element);\n",
       "\n",
       "    // Define a callback function for later on.\n",
       "    function toolbar_event(event) {\n",
       "        return fig.toolbar_button_onclick(event['data']);\n",
       "    }\n",
       "    function toolbar_mouse_event(event) {\n",
       "        return fig.toolbar_button_onmouseover(event['data']);\n",
       "    }\n",
       "\n",
       "    for(var toolbar_ind in mpl.toolbar_items){\n",
       "        var name = mpl.toolbar_items[toolbar_ind][0];\n",
       "        var tooltip = mpl.toolbar_items[toolbar_ind][1];\n",
       "        var image = mpl.toolbar_items[toolbar_ind][2];\n",
       "        var method_name = mpl.toolbar_items[toolbar_ind][3];\n",
       "\n",
       "        if (!name) { continue; };\n",
       "\n",
       "        var button = $('<button class=\"btn btn-default\" href=\"#\" title=\"' + name + '\"><i class=\"fa ' + image + ' fa-lg\"></i></button>');\n",
       "        button.click(method_name, toolbar_event);\n",
       "        button.mouseover(tooltip, toolbar_mouse_event);\n",
       "        nav_element.append(button);\n",
       "    }\n",
       "\n",
       "    // Add the status bar.\n",
       "    var status_bar = $('<span class=\"mpl-message\" style=\"text-align:right; float: right;\"/>');\n",
       "    nav_element.append(status_bar);\n",
       "    this.message = status_bar[0];\n",
       "\n",
       "    // Add the close button to the window.\n",
       "    var buttongrp = $('<div class=\"btn-group inline pull-right\"></div>');\n",
       "    var button = $('<button class=\"btn btn-mini btn-primary\" href=\"#\" title=\"Stop Interaction\"><i class=\"fa fa-power-off icon-remove icon-large\"></i></button>');\n",
       "    button.click(function (evt) { fig.handle_close(fig, {}); } );\n",
       "    button.mouseover('Stop Interaction', toolbar_mouse_event);\n",
       "    buttongrp.append(button);\n",
       "    var titlebar = this.root.find($('.ui-dialog-titlebar'));\n",
       "    titlebar.prepend(buttongrp);\n",
       "}\n",
       "\n",
       "mpl.figure.prototype._root_extra_style = function(el){\n",
       "    var fig = this\n",
       "    el.on(\"remove\", function(){\n",
       "\tfig.close_ws(fig, {});\n",
       "    });\n",
       "}\n",
       "\n",
       "mpl.figure.prototype._canvas_extra_style = function(el){\n",
       "    // this is important to make the div 'focusable\n",
       "    el.attr('tabindex', 0)\n",
       "    // reach out to IPython and tell the keyboard manager to turn it's self\n",
       "    // off when our div gets focus\n",
       "\n",
       "    // location in version 3\n",
       "    if (IPython.notebook.keyboard_manager) {\n",
       "        IPython.notebook.keyboard_manager.register_events(el);\n",
       "    }\n",
       "    else {\n",
       "        // location in version 2\n",
       "        IPython.keyboard_manager.register_events(el);\n",
       "    }\n",
       "\n",
       "}\n",
       "\n",
       "mpl.figure.prototype._key_event_extra = function(event, name) {\n",
       "    var manager = IPython.notebook.keyboard_manager;\n",
       "    if (!manager)\n",
       "        manager = IPython.keyboard_manager;\n",
       "\n",
       "    // Check for shift+enter\n",
       "    if (event.shiftKey && event.which == 13) {\n",
       "        this.canvas_div.blur();\n",
       "        event.shiftKey = false;\n",
       "        // Send a \"J\" for go to next cell\n",
       "        event.which = 74;\n",
       "        event.keyCode = 74;\n",
       "        manager.command_mode();\n",
       "        manager.handle_keydown(event);\n",
       "    }\n",
       "}\n",
       "\n",
       "mpl.figure.prototype.handle_save = function(fig, msg) {\n",
       "    fig.ondownload(fig, null);\n",
       "}\n",
       "\n",
       "\n",
       "mpl.find_output_cell = function(html_output) {\n",
       "    // Return the cell and output element which can be found *uniquely* in the notebook.\n",
       "    // Note - this is a bit hacky, but it is done because the \"notebook_saving.Notebook\"\n",
       "    // IPython event is triggered only after the cells have been serialised, which for\n",
       "    // our purposes (turning an active figure into a static one), is too late.\n",
       "    var cells = IPython.notebook.get_cells();\n",
       "    var ncells = cells.length;\n",
       "    for (var i=0; i<ncells; i++) {\n",
       "        var cell = cells[i];\n",
       "        if (cell.cell_type === 'code'){\n",
       "            for (var j=0; j<cell.output_area.outputs.length; j++) {\n",
       "                var data = cell.output_area.outputs[j];\n",
       "                if (data.data) {\n",
       "                    // IPython >= 3 moved mimebundle to data attribute of output\n",
       "                    data = data.data;\n",
       "                }\n",
       "                if (data['text/html'] == html_output) {\n",
       "                    return [cell, data, j];\n",
       "                }\n",
       "            }\n",
       "        }\n",
       "    }\n",
       "}\n",
       "\n",
       "// Register the function which deals with the matplotlib target/channel.\n",
       "// The kernel may be null if the page has been refreshed.\n",
       "if (IPython.notebook.kernel != null) {\n",
       "    IPython.notebook.kernel.comm_manager.register_target('matplotlib', mpl.mpl_figure_comm);\n",
       "}\n"
      ],
      "text/plain": [
       "<IPython.core.display.Javascript object>"
      ]
     },
     "metadata": {},
     "output_type": "display_data"
    },
    {
     "data": {
      "text/html": [
       "<img src=\"data:image/png;base64,iVBORw0KGgoAAAANSUhEUgAAAoAAAAHgCAYAAAA10dzkAAAgAElEQVR4Xuy9CbRV1ZH/Xw8TB1RA4xAkDMaggpgEVEY10CZpjf1TwO62Y6KtyzGm27FVcDmAA6B2gsYBAaMgKxo1oq2JU0cFWwjG1mBUBpdGlEHzFwVao8FE3n/tQ+7jDffeXbWr9pnu967livHU8N2fXefsuufcs19Tc3NzM+EDAiAAAiAAAiAAAiDQMASa0AA2zFxjoCAAAiAAAiAAAiCQEEADiEIAARAAARAAARAAgQYjgAawwSYcwwUBEAABEAABEAABNICoARAAARAAARAAARBoMAJoABtswjFcEAABEAABEAABEEADiBoAARAAARAAARAAgQYjgAawwSYcwwUBEAABEAABEAABNICoARAAARAAARAAARBoMAJoABtswjFcEAABEAABEAABEEADiBoAARAAARAAARAAgQYjgAawwSYcwwUBEAABEAABEAABNICoARAAARAAARAAARBoMAJoABtswjFcEAABEAABEAABEEADiBoAARAAARAAARAAgQYjgAawwSYcwwUBEAABEAABEAABNICoARAAARAAARAAARBoMAJoABtswjFcEAABEAABEAABEEADiBoAARAAARAAARAAgQYjgAawwSYcwwUBEAABEAABEAABNICoARAAARAAARAAARBoMAJoABtswjFcEAABEAABEAABEEADiBoAARAAARAAARAAgQYjgAawwSYcwwUBEAABEAABEAABNICoARAAARAAARAAARBoMAJoABtswjFcEAABEAABEAABEEADiBoAARAAARAAARAAgQYjgAawwSYcwwUBEAABEAABEAABNICoARAAARAAARAAARBoMAJoABtswjFcEAABEAABEAABEEADiBoAARAAARAAARAAgQYjgAawwSYcwwUBEAABEAABEAABNICoARAAARAAARAAARBoMAJoABtswjFcEAABEAABEAABEEADiBoAARAAARAAARAAgQYjgAawwSYcwwUBEAABEAABEAABNICoARAAARAAARAAARBoMAJoABtswjFcEAABEAABEAABEEADiBoAARAAARAAARAAgQYjgAawwSYcwwUBEAABEAABEAABNICoARAAARAAARAAARBoMAJoABtswjFcEAABEAABEAABEEADiBoAARAAARAAARAAgQYjgAawwSYcwwUBEAABEAABEAABNICoARAAARAAARAAARBoMAJoABtswjFcEAABEAABEAABEEADiBoAARAAARAAARAAgQYjgAawwSYcwwUBEAABEAABEAABNICoARAAARAAARAAARBoMAJoABtswjFcEAABEAABEAABEEADiBoAARAAARAAARAAgQYjgAawwSYcwwUBEAABEAABEAABNICoARAAARAAARAAARBoMAJoABtswjFcEAABEAABEAABEEADiBoAARAAARAAARAAgQYjgAawwSYcwwUBEAABEAABEAABNICoARAAARAAARAAARBoMAJoABUTvmnTJlqzZg3tuOOO1NTUpIgEVxAAARAAARAAgbQINDc304cffkh77LEHderUKa20ucqDBlAxHatWraKePXsqIsAVBEAABEAABEAgKwIrV66kL33pS1mlzzQvGkAF/g0bNlC3bt3IFVCXLl0UkeAKAiAAAiAAAiCQFoH/+7//S27grF+/nrp27ZpW2lzlQQOomA5XQK5wXCOIBlABEq4gAAIgAAIgkCIBrN9EaAAVBYcCUsCDKwiAAAiAAAhkRADrNxpAVemhgFT44AwCIAACIAACmRDA+o0GUFV4KCAVPjiDAAiAAAiAQCYEsH6jAVQVHgpIhQ/OIAACIAACIJAJAazfaABVhYcCUuGDMwiAAAiAAAhkQgDrNxpAVeGhgFT44AwCIAACIAACmRDA+o0GUFV4KCAVPjiDAAiAAAiAQCYEsH6jAVQVHgpIhQ/OIAACIAACIJAJAazfaABVhYcCUuGDMwiAAAiAAAhkQgDrd0EawGeeeYauu+46euGFF+idd96hBx54gEaPHl23aObPn0/nnXcevfrqq8kfe77wwgvpjDPOaONzyy23JHFdzP3224+uv/56OuSQQ9jFiAJio4IhCIAACIAACOSGANbvgjSAjz76KC1YsIAGDRpExxxzjLcBfPPNN2nAgAF06qmn0umnn574nnnmmXT33Xcn/u5zzz330PHHH0+uCRwxYgRNnz6dbrvtNlqyZAn16tWLVaR5KKB3NnxCb679E+25y/bUvet2LN15MCqibmhOp3LAGZxrEUBtpFMbLksRWUvo5GH9luiNYVu4PwXX1NTkbQAvuugieuihh2jp0qUtzNzdv5deeol+85vfJP9tyJAhSUM5bdq0Fpt+/foldxYnT57MYp11Ad3z/Ns0fu7LtKmZqImIxh2xL53+jb1Y2rM0mv7MGzT5kWWJBKd7yjH707EH8ZrurHRDczrki8i5iOchNKdTz0Xk7MgU8TyUzmjW67dUbwz7UjaAhx56KA0cOJBuuOGGFmbusfE///M/08cff0zNzc3UuXNnuu+++2jMmDEtNmeffTYtXryY3OPjap+NGzeS+6fycQXUs2dP2rBhA3Xp0iXG/NSM6b6dDZ/8FDW3sxj/nX3p9EPz2wROn/8GTX50c/NX+bgmcOH4v6O83sGsptlp/w00m9Z8ETkX8TyEZtOybYhrdN6vdyEzigawII+A2zQLjDuAe++9N5144ol08cUXt7guXLgwedS7Zs2apAHs0aNH8mh4+PDhLTaTJk2i2bNn0/Lly6vW04QJE2jixIkdjmXRAF489/d0129XVtWZ18bELTzDJj9VVfNN3x1I//C1PULO46g+9TQfN7gXTRq7f9T8IcGhOYRamE+t8zDPX2qKeO0oouZf/n4N/dtdvyvNNTqv17uwM5cIDWCJG8CTTjqJxo8f31Ibrtk7+OCDkxc+Nm3alDSArikcNmxYi83VV19Nc+bMoWXL2t6hqhjk5Q5gvQXeac3riVrvIj7663vQ9f8yMPRcjuZXT3NeF/kiaq63WOaVs+88zOOXGp/mPF47iqjZXZDO+fmL9ODid6pem/LI2Qkt4rUj9OKPBrCkDWCsR8DtCy2rAqq3WDqNnZqIFozL1yNV30W8iJod67wt8j7OedTsNM1ZtIIuffDVmtfyvHF2Qn3n4VWj96PvD+0Tuj5F8fNpzuN5WETNvvMwj5x9mvN67Qg9UbJav0P1xvAr5W8A3UsgDz/8cPJGb+Xzgx/8IPl9X+uXQA444IDkLeDKp3///nT00Ufn/iWQh19aTf9+9+K69XD3qUNp2F5fiFEzQTEXvrGWjpv5XOk033zcQDryq/l5dM3hnDfNrih8NQ3NQaddBycfZ+eQt2tHETVzzsO8ceZozuN5GHpmoAEsyB3Ajz76iF5//fVknt3LHT/+8Y9p1KhRtPPOOydbtrhHvatXr6Y777wzsalsA+O2gHFbwbimz70FXG0bmFtvvTV5DDxjxgyaOXNmsm9g7969WTWVVQH5vqnl8ZFZrR+eV0AXUbPTnrffW/o4O815fFGo1gsglfqAZtYlyWvk45zX87DWb4fdgPOqudpLerjeeUs0NYOs1u/UBshIVIg7gPPmzUsavvaff/3Xf6VZs2YlL3ysWLGCnF3l497kPffcc1s2gnZ3BattBH3ttdcmvwt0+wZOnTqV3ONj7ierAvIt8k1NRAtz+Ai47gURmrllV9fOVxvOeaumJnp23CjKy1vXTvOIKU8l2xnV+kCzvjw4nHHt0HN2EXznITjbcNZEyWr91mi29i1EA2g9aKt4WRUQ51Z9ER8vQLO+Mjm14bLkiTU06+edE6GInN24OLrzVM/QzKnG7G2yWr+zH/kWBWgAFbORVQH5HuO4IeXtkRk0KwpN4Oq78+BC5e2RGTQLJlhhWkTObri4digmXeBaRM6C4XUwzWr91mi29kUDqCCaRQFxHuO4IeXpkRk0K4pM6Mpa5HP2uB2ahZMcaF5Uzr6fB+B6F1gQrdyKeI3WjjqL9Vur2dofDaCCaBYFxHkcUhlSXh6LQLOiyISuXNZ5qQ03PGgWTnKgeZk5OyR5qWkuZ2gOLGQjtyzWbyPpZmHQACpQZlFAtb7Fu8d6rX9Dn6fHfNCsKDKhK+cxTp5qww2Po9nZ5elnDdAsLMxAc1w7AsEJ3YrIWTjEDuZZrN9azdb+aAAVRLMoIPaJmqPHfNCsKDKBK/cxTp7eQKyledS+u9LTy95rM/q8/KwBmgVFqTTFtUMJkOleRM7ModU0y2L91mq29kcDqCCaRQHh8YJiwgSu4CyApTCtxfmSI/vRVb9a2iFyHh7zQbNiwoWuOA+FwALNi8g5cKgtblms31rN1v5oABVEsyigancfOrkxNFGbfdTcf1swPh9/Dg6aFUUmcC0LZ3enb+6Zw2jMLQvb1HSe7wBCs6BQBabcms5LbbihcTXjGi0ohAimWazfEYahCokGUIEviwK65/m3adz9L7f83s89zpsydv9kFG3+OxFNOWZ/OvagXooR2rhCsw1HTpTz711M97+4usX0mEE9aPCeO+e2NpzQapp/9M9fr/nfORxi20BzbMKb49e6dvz2zQ861LmrmTx8cL3Lwyz4NWSxfvtVpWuBBlDBO+0CqvXN0t3pc5/22yXk4VsxNCsKTOhajTXuTAkhMszBmQHJwKTWteOBHw4v1N3hyp0+XKMNisIwRNrrt6F0s1BoABUo0y6gWr/TcL+LaqZmOm7mcx1Gk/VvpqBZUWBCV/w2TQgs0BycA8EJ3crEGddo4eSnYJ72+p3CkMQp0ACKkW1xSLuAat15cH/XtUjfLit3JqFZUXxVXHFnypZnrWjgDM7S2sA1Op2akWRJe/2WaEvLFg2ggnQWBeR+XzJ+7svJj+M7NRFNHrvld37Jsftfpk1E5B47TM7RbwChWVFoAtfpz7xB1zy6LKkP12hPGjsg+R1oXmvDDa2e5ovnvkKfNTcn9XzREfvS6d/YS0AjnmkRNde6drj/nlfOZdLsqjGv52ER1xXt2Z3F+q3VbO2PBlBBNIsCav0DY7ehb+sXPeqdxIphql2hWY2QFaD1/LvaGNeqYcpzbVS+HLTXXGkOpzy6jJqrfOFhQYlgVI9zXjVXmo/Ki2Ltrx2uoc0b5zJqzvN5WKs28qpZe2pnsX5rNVv7owFUEE27gPAIWDFZAldwFsBSmNbj3L3rdlW308j6xaYianZThJpWFKrAFZwFsDI2TXv9zni4VdOjAVTMStoFhBcqFJMlcAVnASyFaT3Ow/b6Qs2/EZzli01F1OymCDWtKFSBKzgLYGVsmvb6nfFw0QBaT0DaBYRvl9YzWD0eOGfPGXcAbecANW3Ls1Y0cE6Hs0WWtNdvC83WMXAHUEE0iwJq/YPt1j/yd8Ood0wxTLUrNKsRsgKUjXNea9p3nvmOsyYzglHZ6gOc7YqkiLWhHX0W67dWs7U/GkAF0SwKyH3D/N8VH1CnpiYa1HsncndKWn9eWrmOnl+xjg7qsxN9redOitHZufo0u+MvrFiX/Dm7A6qMyU6JLFI9ltAsY1nP2lezvuN2SviRfJp8x/mZ7Cx95yE027D2cca1w4azNkoW67dWs7U/GkAF0bQLyPc2lu+4YqjBrhxNHJtgAYGOPk2+44FpVW4+Tb7jquSBzj5NvuOBaVVuPk2+46rkgc4+Tb7jgWlVbj5NvuOq5IHOHE0cm8D0wW4+Tb7jwYkzdEx7/c5wqDVTowFUzEqaBVTEtw99mh16jo1iioJcfZp8x4OSKp18mnzHlemD3H2afMeDkiqdfJp8x5Xpg9x9mnzHg5IqnXyafMeV6YPcOZo4NkHJFU4+Tb7jitSZuqa5fmc60DrJ0QAqZibNAiri24c+zQ49x0YxRUGuPk2+40FJlU4+Tb7jyvRB7j5NvuNBSZVOPk2+48r0Qe4+Tb7jQUmVTj5NvuPK9EHuHE0cm6DkCiefJt9xRepMXdNcvzMdKBrAOPjTLCDftzDf8TgE6kflaOLYpK3dp8l3PG29Lp9Pk+84NPMI+Dj6jvOy2Fr5NPmO26rhRfNp8h3nZbG14mji2Niq8kfzafId92fIp0Wa63c+CRDhDqBiZtIuIN/vMFq/yZWXP53l0+zwJzY5+xN2tf7UV6VcoFlx4rRyLSJnX00X8TyEZpt69tUGrnc2nC2ipL1+W2i2joEGUEE07QJyF5daf66nMoy8/UknjmbORVMxTWLX1nqq/Xmylot4jb/JLE5o4ADNBhCZITg1XcTzEJqZBVDHjFMbuN7pOVtESHv9ttBsHQMNoIJomgXEuQ3PsVEMV+zK0cOxESdWOHD0cGwUEsSuHD0cG3FihQNHD8dGISHIlaOJYxOUPNCJo4djE5g+yI2jh2MTlDzQiaOHYxOYPsiNo4djE5Q8Y6c01++Mh1ozPRpAxcykWUCcH+JybBTDFbty9HBsxIkVDhw9HBuFBLErRw/HRpxY4cDRw7FRSAhy5Wji2AQlD3Ti6OHYBKYPcuPo4dgEJQ904ujh2ASmD3Lj6OHYBCXP2CnN9TvjoaIBjDEBaRYQ51sYxyYGh1oxOXo4NtBcnwCHIccGnP0EOBw5Nv5MdhYcPRwbO0X+SBw9HBt/JjsLjh6OjZ0ifySOHo6NP1P+LNJcv/M3+s2KcAdQMTNpF1DrH2q3/zNwlWFwbBRDFrty9HBsxIkVDhw9HBuFBLErRw/HRpxY4cDRw7FRSAhy5Wji2AQlD3Ti6OHYBKYPcuPo4dgEJQ904ujh2ASmD3Lj6OHYBCXP0Cnt9TvDodZMjQZQMStZFJD7NrZi7cfUZ5fO1P7PwFWGwrFRDFvsytHDsREnVjhw9HBsFBLErhw9HBtxYoUDRw/HRiEhyJWjiWMTlDzQiaOHYxOYPsiNo4djE5Q80Imjh2MTmD7IjaOHYxOUPCOnLNbvjIaKBjAG+LQLyJ2Ab679E+25y/Y1mz83Tq5dDCbVYnL0cGzS0ithmCfdXC1cuzR4c7Vw7aC5OgEuP64dONcmwGHIsUmDcSUHVw/XLk3tobnSXr9Ddcb0wx1ABd00C4i7dQDXTjFskStHD8dGlFRpzNXDtVPKYblztXDtWEmVRlwtXDulHJY7VwvXjpVUacTVwrVTymG5c7Vw7VhJDYw4ejg2BlLYIbh6uHbsxBkbprl+ZzzUmukL0wDecsstdN1119E777xD++23H11//fV0yCGHVB3YyJEjaf78+R2Ofec736Ff/epXyX8/8cQTafbs2W1shgwZQosWLWLPVVoF5L51jZjyFG1q3iLN/Qbw2XGjqPVjYK4de4BKQ44ejo1Shsidq4drJ0oeaMzVwrULlCFy42rh2omSBxpztXDtAmWI3LhauHai5IHGXC1cu0AZYjeOHo6NOLHCgauHa6eQkrprWut36gMTJCxEA3jPPffQ8ccfT64JHDFiBE2fPp1uu+02WrJkCfXq1avDcD/44AP69NNPW/77+++/T1/72tcSH9f4VRrAP/7xj3THHXe02G299da08847s/GlVUDc1/C5duwBKg05ejg2Shkid64erp0oeaAxVwvXLlCGyI2rhWsnSh5ozNXCtQuUIXLjauHaiZIHGnO1cO0CZYjdOHo4NuLECgeuHq6dQkrqrmmt36kPTJCwEA2guzM3aNAgmjZtWsvQ+vXrR6NHj6bJkyd7h+vuFl522WXJ3cPtt9++pQFcv349Pfjgg17/WgZpFRD32xfXLnjAQkeOHo6NMK3KnKuHa6cSw3TmauHaMdOqzLhauHYqMUxnrhauHTOtyoyrhWunEsN05mrh2jHTqs04ejg2aiGCAFw9XDtB6sxN01q/Mx9oHQG5bwDdnbzOnTvTfffdR2PGjGkZytlnn02LFy+u+qi3/Xj3339/GjZsGM2YMaPlkLsT6Jo/d9evW7du9I1vfIOuvvpq2m233Wri2rhxI7l/Kh9XQD179qQNGzZQly5dos4z9zV8rl1Usa2Cc/RwbNLS6/Jw9XDt0tDO1cK1g+bqBLj8uHbgXB7O3GtHnmqDq1lil0ZNW+RAA1iAfQDXrFlDPXr0oAULFtDw4cNb5n3SpEnJb/iWL19etxZ++9vfkruD+Nxzz9HgwYNbbN1j5R122IF69+5Nb775Jl166aX017/+lV544QXaZpttqsacMGECTZw4scOxNBpAl9R9C/NtASOxsziJODE4ujk2nFxWNlw9XDsrXfXicLVw7aC5OgEuP64dOJeHM/f6m6fa4GqW2KVR09ocaAAL1AAuXLgwuYtX+bi7dXPmzKFly5bVrYPTTz+dnO/LL79c1849HnbN4M9//nMaO3ZsVdss7wBWTj7ONjBSW+2J5GtKoDkm4c2x3YJSNM4S3ZLxxabN1cK1i61XwllqG1O7hJ/EFprbEpCwk9jG5GwRGw1gARpAzSPgjz/+mLp3705XXHEFuUfGvk/fvn3plFNOoYsuushnmhxPs4Akr+BLbFkDDTSS6JDYBsphuUl0SGxZyQONJDoktoFy2G5cLVw7dmKFIVcL104hhe0q0SKxZQsIMJTokNgGSGG7SHRIbNkCAgwlOiS2AVJSd0lz/U59cMyEuf8NoBuHe4R7wAEHJG8BVz79+/eno48+uu5LILNmzaIzzjiDVq9eTV/4whfqInFvCrtHze53gieccAILX1oFJPkBrsSWNchAI4kOiW2gHJabRIfElpU80EiiQ2IbKIftxtXCtWMnVhhytXDtFFLYrhItElu2gABDiQ6JbYAUtotEh8SWLSDAUKJDYhsgJROXtNbvTAbHTFqIBrCyDcytt97a8jLHzJkz6dVXX00e27qGzTVv7d8IdvsEuv/uHuu2/nz00Ufkfs93zDHHJHcIV6xYQRdffDG9/fbbtHTpUtpxxx1Z+NIqIMkr+BJb1iADjSQ6JLaBclhuEh0SW1byQCOJDoltoBy2G1cL146dWGHI1cK1U0hhu0q0SGzZAgIMJToktgFS2C4SHRJbtoAAQ4kOiW2AlExc0lq/MxkcM2khGkA3Fnf379prr022chkwYABNnTqVDj300GSYbuPnPn36kLvjV/m89tprtM8++9ATTzxB3/rWt9rg+OSTT5ItZH73u9+R2wrGNYGjRo2iK6+8Mnmrl/tJq4Ak374kttxxhthJdEhsQ7RwfSQ6JLbc/CF2Eh0S2xAtEh+uFq6dJHeoLVcL1y5Uh8RPokViK9EgtZXokNhKdUjsJTokthINUluJDomtVEdW9mmt31mNj5O3MA0gZzBp26RZQJKtAyS2MZlJdEhsobktAQk7iW1Mzi42VwvXLrbesmuWjC82a8mcS2xj6pbokNhCcxwCaa7fcUagj4oGUMEw7QJy38I428C4IUlsFQi8rhIdEltvYoWBRIfEViHJ6yrRIbH1JlYacLVw7ZRyWO5cLVw7VlKlkUSLxFYpq667RIfEFprbEpCwk9jG5GwRO+3120KzdQw0gAqiaReQO/mKttVH2TVXmm3uvCjKzbtYSjRI5gWatxCQcpPax2At1SC1h+aw+sgDZ+n1Ky+aLWou7fXbQrN1DDSACqJpFpDkFXyJrWL4XleJDomtN7HCQKpDaq+QVtNVqkFqD82bCUi5Se3BubicpfWRh9ooqmar8yTN9dtKs3UcNIAKomkVkOQHuBJbxdC9rhIdEltvYoWBVIfUXiGtpqtUg9QemjcTkHKT2oNzcTlL6yMPtVFUzZbnSVrrt6Vm61hoABVE0yogySv4ElvF0L2uEh0SW29ihYFUh9ReIa2mq1SD1B6aNxOQcpPag3NxOUvrIw+1UVTNludJWuu3pWbrWGgAFUTTKiDJN0aJrWLoXleJDomtN7HCQKpDaq+QVtNVqkFqD83FvTMlnWupPWpjCwEJO4ltDMaVmBIdEtuYmi1jp7V+W2q2joUGUEE0zQKSbBsgsVUM3+sq0SGx9SZWGEh1SO0V0mq6SjVI7aF5MwEpN6k9OBeXs7Q+8lAbRdVsdZ6kuX5babaOgwZQQTTtAnLfwrANjGLCmK4Szi6k1J4pQ2Qm1SC1F4lhGks1SO2ZMkRmUg1Se5EYprFUg9SeKUNkJtUgtReJERhLdEhsBRLEphIdEluxkJQd0l6/Ux4eKx0aQBam6kYoIAU8uIIACIAACIBARgSwfhOhAVQUX5oF5L55SfZ5q9yZkvoocHRwhWZLmrVjFZFzSH2GjNN6BqQapPbWekM4h/pYag/hFuIDzcVbV6zmLM3120qzdRw0gAqiaRVQyJ5RIT4KFB1cQ/KH+EDz2zR+7su0qZmoUxPR5LH707EH9aqLJWvOTpxUg9Tesi4qsaQapPZ50BwyN9a6Q7iF+FjqDskf4tPomi3Hn9b6banZOhYaQAXRNAoo5O2rEB8Fhqp3/kZMeSppSiqfrZqa6Nlxo6h71+2qpoJm+QyEMAvxkSur7yHVILW31uviSTVI7fOgOWSc1rpDuIX4WOoOyR/i0+iaLcfvYqWxfltrto6HBlBBNI0CCtkzKsRHgaGDa0j+EB9oXkvHzXyuA4a7Tx1Kw/b6QlU8WXN2oqQapPaWdVGJJdUgtc+D5pC5sdYdwi3Ex1J3SP4Qn0bXbDl+NICbaaIBVFRVGg1gyDfFEB8Fhg6uIflDfKD5EyrandaQu0xZ10ajaA4Zp+U5GJo/6/oIyR/iY8k6JH+Ij6Vm61hprN/Wmq3joQFUEE2rgEL2jArxUaDo4BqSP8QHmt+mi+e+Qp81N5N7zD5p7ADWbwClPpacXSzpXEvtrfU2iuaQcVqzDpnrEB9L3SH5Q3waXbPl+NNavy01W8dCA6ggmmYBhey/FOKjwFH1TiB338KKMzTLZyCEWYiPXFl9D6kGqb213sodKklNF1FzyDitWYdwC/Gx1B2SP8Sn0TVbjT/N9dtKs3UcNIAKoiggBTy4ggAIgAAIgEBGBLB+4zeAqtJDAanwwRkEQAAEQAAEMiGA9RsNoKrw0iwg96hAuqDO4jcAACAASURBVKlziI8KSDvnkPwhPtAsr43KYz5pTVmxDp3nUD8L3aG5Q/0aVXNobWbJGZotqjXdGGmu3+mOjJ8Nj4D5rDpYplVAIRuGhvgoUHRwDckf4gPN8o2gHbMsWYfmDvWzqJHQ3KF+jao5tDaz5AzN9Teet6jlGDHSWr9jaLeKiQZQQTKNAgp59T7ER4Ghg2tI/hAfaJZvA1O5UyHdPsaKdeg8h/pZ6A7NHerXqJpDazNLztBcf4N/i1qOFSON9TuWdqu4aAAVJNMooJANQ0N8FBg6uIbkD/GBZvlG0I5ZlqxDc4f6WdRIaO5Qv0bVHFqbWXKGZqJ6G89b1HKsGGms37G0W8VFA6ggmUYBhXy7DfFRYMAdQMGfvMuac+gdCyvdobUZ6mehOzR3qF+jag6tzSw5QzPuAFqcr1nFQAOoIJ9GA+jkhWwYGuKjQNHBNSR/iA80yzeCDq0pK9ah8xzqZ6E7NHeoX6NqDq3NLDlDM34DaHG+ZhEDDaCCeloNYOVbpmQD2lAfBY6qdwKh2ZJo9Vihm8mG+lmMKDR3qB80d6buXbdjY8iSc+i1C5rZ09tiGMIsxEeuLL5Hmut3/NGEZUADGMYt8UIBKeDBFQRAAARAAAQyIoD1G/sAqkovrQLS7G+l8dXA0eTV+Daa5srdkpD9/LLiDM2aKpX5hs5xqJ9MXe072iH1rKkrrW4NL42vRrcmr8ZXo9nSN63121KzdSzcAVQQTaOANPtbaXwVWFR7zEGzjHwor1A/mbrq1qG5Q/2gmahTE9HksfvTsQf5f69VRM5ujrPSrcmr8dXUtSavxlej2do3jfXbWrN1PDSACqKxC0jzdpvGV4GENHk1vo2muXK3I2Q/v6w4QzPRVk3pvDUZOsehfprzr+Krya3x1WjX5NX4NppmzXhr+cZev2Noto6JBlBBNHYBafa30vgqkKj2mINmGflQXqF+MnXVrUNzh/pBc1sCvj3bisjZjTAr3Zq8Gl9NXWvyanw1mmP4xl6/Y2i2jokGUEE0dgFpviFqfBVIcAeQcJenXv2E1mWon6aWtXemoFlGX8NL4ytT2dZak1fj22iaNePFHcDa9ArTAN5yyy103XXX0TvvvEP77bcfXX/99XTIIYdUHdmsWbPopJNO6nDsk08+oW233bblv0tiVksUuwF0OTX7W2l8NSecJq/Gt9E0a+ojK87QPID1OzxNLVd8Q+c41C9LzZq60urW8NL4anRr8mp8NZqtfdNYv601W8crRAN4zz330PHHH0+uYRsxYgRNnz6dbrvtNlqyZAn16tXxR82uATz77LNp+fLlbXh98YtfbPn/0phZNYAur2bfJY2vptg0eTW+jaZZUx9ZcYZmTZXKfEPnONRPpq66tSa3xlejXZNX49tomjXjbe+LBrAg28AMGTKEBg0aRNOmTWuZw379+tHo0aNp8uTJHWrCNYDnnHMOrV+/vma9SGNm2QBaFj1igQAIgAAIgECjE0ADWIAG8NNPP6XOnTvTfffdR2PGjGmpWXeHb/HixTR//vyqDeApp5xCPXr0oM8++4y+/vWv05VXXkkDBw5MbENiOr+NGzcm/1Q+roB69uxJGzZsoC5dujT6+YTxgwAIgAAIgEAhCKABLEADuGbNmqSRW7BgAQ0fPrylsCZNmkSzZ8/u8JjXGSxatIhef/112n///ZO/1nHDDTfQI488Qi+99BL17duXQmK6uBMmTKCJEyd2KO7YDaBm002Nr+Ys1uTV+EIzn0ARObvRZaFbm1Prz5/VtpaavBrfUL3a+YVmPnkNK40vX2FcSzSABWoAFy5cSMOGDWupiKuvvprmzJlDy5Yt81bJpk2bkkfIhx56KP3kJz9paQClMbO4A6jZdFPj64Vax0CTV+MLzbyNfh2nInLOSreWldY/tK41eTW+oXq18wvNfPIaVhpfvsL4lmgAC9AAhj6ubV8+p556Kq1atYoeffTR4EfA7WPGLiDNNgEaX82pp8mr8YVm/vYzReRcuTMUsvF1VrWRlWZt3iLWBzTzq1zDSuPLV5iOZez1O51R6LIU4i1g98LGAQcckLwFXPn079+fjj766KovgbRH0tzcTIMHD04eCd9+++3JYW1MFyN2AWk23dT4akpKk1fjC82bCfg2+nU2ReSclW4tK61/aF1r8mp8Q/Vq5xea+eQ1rDS+fIXpWMZev9MZhS5LIRrAypYtt956a/IYeMaMGTRz5kx69dVXqXfv3nTCCSckvxOsvBHsfqc3dOjQ5Pd+bpLdY1/3uNj9jtA1gu7ji8nBGruANN+2NL6csdey0eTV+EIz7gBqaiBGPbuYqGn+rGhYaXz5CjtaavJqfBtNs2a8tXxjr98xNFvHLEQD6Abt7v5de+21yUbQAwYMoKlTpya/6XOfkSNHUp8+fcht/+I+5557Ls2dO5feffdd6tq1a/L2r3uBo/VvCH0xOaDTKCDNppsaX874a9lo8mp8oZm/yXAROSdf3J5/my6e+wp91tyc/F3dSWP5Yw6tD21OrX8WuqGZT13DSuPLV9jRUpNX46vRbO2bxvptrdk6XmEaQOuBW8RLq4A0G4VqfDWMNHk1vtDMJ1BEzm50WejW5tT682e1raUmr8Y3VK92fqGZT17DSuPLVxjXMq31O+4odNHRACr4oYAU8OAKAiAAAiAAAhkRwPpdgLeAM6oNVloUEAsTjEAABEAABEAgVwSwfqMBVBUkCkiFD84gAAIgAAIgkAkBrN9oAFWFl0YBWey4bhFDAsoin0UMiWZnq82p9ZfqhebtqXvX7UKwiX20c6v1FwtGPRemNizOY2l9WNSjRQypbkv7NNZvS70xYuE3gAqqsQvIYsd1ixgSRBb5LGJINDtbbU6tv1QvNBN1aiKaPJb/109CGIMzONerG4vz3iKGpLYt8lnEkGiOYRt7/Y6h2TomGkAF0ZgFZLFHlEUMCR6LfBYxJJor3741f2ECmnnEtZy0/jyVba20ObX+0DyKdSeviJwtrj3S+rDgZBFDqjuGfcz1O4beGDHRACqoxiwgix3XLWJI8Fjks4gh0exstTm1/lK90NyWGOevn4QwBmdwrlc3Fue9RQxJbVvks4gh0RzLNub6HUuzdVw0gAqiMQvI4luWRQwJHot8FjEkmi2+hUMzj7iWk9afpxJ3AMGZVykWnCxi8NRutrLIZxFDojmWbcz1O5Zm67hoABVEYxeQxY7rFjEkiCzyWcSQaHa22pxaf6leaMZfAqlXM9p61PqjnvkE0mZtkc8iBp9QHMvY63cc1bZR0QAqeKZRQO7b1oq1H1OfXTpT6BuPFjEkmCzyWcSQaK58O9awhmYecS0nrT9PZcc7gaiNEHIyH+3cav1larfcVdPUhsW1R6rbgpNFDKluS/s01m9LvTFioQFUUEUBKeDBFQRAAARAAAQyIoD1G/sAqkoPBaTCB2cQAAEQAAEQyIQA1m80gKrCQwGp8MEZBEAABEAABDIhgPUbDaCq8NIoIPc7izfX/on23CX8rx5YxJCAsshnEQOa/QTAOT1GYJ0Oa3AuJ2f/qGQWaazfMkXpW+M3gArmsQvIYrd1ixgSRBb5LGJAs58AOKfHCKzTYQ3O5eTsH5XcIvb6LVeUvgcaQAXzmAVksdeSRQwJHot8FjGg2U8AnNNjBNbpsAbncnL2jyrMIub6HaYofS80gArmMQvIYrd1ixgSPBb5LGJAs58AOKfHCKzTYQ3O5eTsH1WYRcz1O0xR+l5oABXMYxaQxbdZixgSPBb5LGJAs58AOKfHCKzTYQ3O5eTsH1WYRcz1O0xR+l5oABXMYxeQxW7rFjEkiCzyWcSAZj8BcE6PEVinwxqcy8nZPyq5Rez1W64ofQ80gArmaRSQxW7rFjEkmCzyWcSAZj8BcE6PEVinwxqcy8nZPyqZRRrrt0xR+tZoABXMUUAKeHAFARAAARAAgYwIYP3GPoCq0kMBqfDBGQRAAARAAAQyIYD1Gw2gqvBiF5DVhqZWcTiwLHNZxvJpt8plFcen1x23ymUVB5rrEwDndPiAs/9MtGJkFcev2N4i9vptr9g+Ih4BK5jGLCCrDU2t4nAwWeayjOXTbpXLKo5PrztulcsqDjTXJwDO6fABZ/+ZaMXIKo5fcRyLmOt3HMX2UdEAKpjGKiCr7Qys4nAQWeayjOXTbpXLKo5Pb+XO34gpT9Gm5i3WWzU10bPjRlH3rttxQiQ20Oy/IwXOuhrjFKNVHVrFKatmy3M+Tdac+QixibV+h2jJygcNoIJ8rAKy2tDUKg4HkWUuy1g+7Va5rOL49LrjVrms4kBzfQLgnA4fcPafiVaMrOL4FceziLV+x1NsHxkNoIJprAKy+nZlFYeDyDKXZSyfdqtcVnF8eov6Ld6Kj1UccE7n7ic454dzUa8dnBoKsYm1fodoycoHDaCCfMwCstrQ1CoOB5NlLstYPu1Wuazi+PS641a5rOJAc30C4JwOH3D2n4lWjKzi+BXHsYi5fsdRbB8VDaCCaewCstrQ1CoOB5VlLstYPu1Wuazi+PRWvs2vWPsx9dmlM0l++9c+NjT779KAs67GUM/p1BiHc1GvHdyxce1ir99cHVnaoQFU0EcBKeDBFQRAAARAAAQyIoD1G/sAqkoPBaTCB2cQAAEQAAEQyIQA1u8CNYC33HILXXfddfTOO+/QfvvtR9dffz0dcsghVQtn5syZdOedd9Irr7ySHD/ggANo0qRJNHjw4Bb7E088kWbPnt3Gf8iQIbRo0SJ2MaKA2KhgCAIgAAIgAAK5IYD1uyAN4D333EPHH388uSZwxIgRNH36dLrttttoyZIl1KtXrw4F9b3vfS+xGz58OG277bZ07bXX0ty5c+nVV1+lHj16JPauAfzjH/9Id9xxR4v/1ltvTTvvvDO7QFFAbFQwBAEQAAEQAIHcEMD6XZAG0N2ZGzRoEE2bNq2lePr160ejR4+myZMnewvqs88+o5122oluuukmOuGEE1oawPXr19ODDz7o9a9lELuALP/MjmWsesAs81jGgubaBMC5/iXAko9lLNQ0ajpk8bKsQctYIWPR+MRevzXa0vLN/Usgn376KXXu3Jnuu+8+GjNmTAuXs88+mxYvXkzz58/3svrwww9pt912S2L8wz/8Q0sD6Jo/d9evW7du9I1vfIOuvvrqxK7WZ+PGjeT+qXxcAfXs2ZM2bNhAXbp08eqQGFj+mR3LWPXGYJnHMhY01yYAzvXPSks+lrFQ06hpyXpSsbWsQctYIWPR+qABLMAdwDVr1iSPbRcsWJA80q183G/63G/4li9f7q2DH/7wh/T4448nvwl0j4Tdxz1W3mGHHah379705ptv0qWXXkp//etf6YUXXqBtttmmaswJEybQxIkTOxyzbgAtN7u1jFUPtGUey1jQXJsAONe/dFjysYyFmkZNexe9KgaWNWgZK2QsFj5oAAvUAC5cuJCGDRvWMu/ubt2cOXNo2bJldWvB/f5vypQpNG/ePPrqV79a09a9XOKawZ///Oc0duzYqnZp3QG0/DM7lrHqgbbMYxkLmmsTAOf6y4glH8tYqGnUdEgDZFmDlrFCxmLhgwawAA2g5hHwf/7nf9JVV11Fv/71r+nAAw/01kzfvn3plFNOoYsuushr6wxiFZDltyvLWLjzgDsPrBOjnZFlDVrG8o3FMpdlLJyHOA99tVvtuGUNWsYKGYuFT6z120JbWjFy/xtAB8K9BOK2cnFvAVc+/fv3p6OPPrrmSyBuyxjX/LlHv0OHDvXyfP/995NHzTNmzGh5UcTnFLOALP/MjmWsekws81jGgubaBMC5/lluyccyFmoaNe1bn6odt6xBy1ghY9H6xFy/tdrS8i9EA1jZBubWW29NHgO7Js3t9ee2dXGPbd2bva55q7wR7B77ut/03XXXXcl2MJWP+82f++ejjz4i93u+Y445hrp3704rVqygiy++mN5++21aunQp7bjjjiz+sQvI8k90Wcby3YGw+LNZLgc017/TAc76P4PHOdEt69AyFs7DdM4PcM6eM+c8ldrEXr+lerKwL0QD6MC4u3+usXO/1RswYABNnTqVDj300ITZyJEjqU+fPjRr1qzk/7t/f+uttzrwvPzyy5PG75NPPkm2kPnd735HbisY1wSOGjWKrrzyyuStXu4HBcQlBTsQAAEQAAEQyA8BrN8F+A1gfsqloxIUUJ5nB9pAAARAAARAoDoBrN9oAFXnBgpIhQ/OIAACIAACIJAJAazfaABVhRezgKx3WLeOVwucZR7LWPUm2jqPdbxq2q1zWMeD5uoVB87pcEmDsxuJZR7LWGW73qkW6hrOMdfvGHpjxCzMbwBjDF4bM1YBWe+wbh2vFjfLPJax6s2zdR7reNW0W+ewjgfN1SsOnNPhkgZnNxLLPJaxyna9067Ttfxjrd+x9MaIiwZQQTVGAVnvr2Qdr96dvxFTnqJNzVsstmpqomfHjaLuXbcTUS6i5srdACsGaXCG5tplaV2D1vFq3WG1rD9oTqc+0uAc41xPS7do8RAYx1i/BelzYYoGUDENMQrIeod163i1cFnmsYxVb3qt81jHq6bdOod1PGiuXnHgnA6XNDi7kVjmsYxVtuudYnn2usZYv71Jc2aABlAxITEKyPpblXW8NO5MFVFzjG/YuMtTvdrSqA/rHNbxUBvZ1Yb1uZ5GbVhrjhFPsRQHucZYv4OEZOiEBlABP1YBWe+wbh2vFjLLPJax6k2xdR7reNW0W+ewjgfN1SsOnNPhkgZnNxLLPJaxyna9UyzRdV1jrd+x9MaIiwZQQTVmAVn/xQDrePXuBDbyX6iofDO2YpAGZ2iufRGwPm+s49W6E2hZf9CcTn2kwTnGuZ6WbsVSXdU15vptrTVWPDSACrIoIAU8uIIACIAACIBARgSwfmMfQFXpoYBU+OAMAiAAAiAAApkQwPqNBlBVeCggFT44gwAIgAAIgEAmBLB+owFUFV7MAoqxK3yMmK0BxogfIyY0dyz72JxdRusc1vGqXQysc1jHS0NzjLlrrzsGlxgxce3I5tqhWqhrOMdcv2PojRETvwFUUI1VQDF2hY8RszW6GPFjxITmjgUfm7PLaJ3DOl61y4B1Dut4aWiOMXftdcfgEiMmrh3ZXDsUS3Rd11jrdyy9MeKiAVRQjVFAMfaEihGz/Tdhy79AULnjYB0Tmqt/e4/JOcZcxq5naN5SJ7FZx4gfIyauHdlcOxTLs9c1xvrtTZozAzSAigmJUUAxdoWPEbM1thjxY8SE5o7FHpuzy2idwzpetUuAdQ7reGlojjF37XXH4BIjJq4d2Vw7FMuz1zXG+u1NmjMDNICKCYlRQDG+vcaIiW/E6X8jjjGPMWK2J2OdwzpetUuAdQ7reGlojnEnNHZtQHP1BS1G/cWIqViOxa4x1m+xiIwd0AAqJiBWAcXYFT5GzNboYsSPEROaOxZ8bM4uo3UO63jVLgPWOazjpaE5xty11x2DS4yYuHZkc+1QLNF1XWOt37H0xoiLBlBBNWYBxdhdPUbM9ncCLf8CQeXbvHVMaK5+9zIm5xhzGbueoXlLncRmHSN+jJi4dmRz7VAs0zVdY67fMfTGiIkGUEEVBaSAB1cQAAEQAAEQyIgA1m/sA6gqPRSQCh+cQQAEQAAEQCATAli/0QCqCg8FpMIHZxAAARAAARDIhADWbzSAqsJDAanwwRkEQAAEQAAEMiGA9RsNoKrwYhZQjD9jFCNma4Ax4seICc3Vyz4m61ixY8V1hGLFjhUXmtvWdUzOsVhDs2pJFjnHXL9FQjI0xksgCvixCijGnzGKEbM1uhjxY8SE5uoFH5N1rNix4jpCsWLHigvNbes6JudYrKFZsRgHuMZavwOkZOaCBlCBPkYBxdhcM0bM9nfRrP+cGDR3LMxYTGLFrdwlsa6NmHFjxgbnjnfoilYbseojZm0UVbNiaWa5xli/WYlzZIQGUDEZMQooxp8xihGzNbYY8WPEhObqxR6TdazYseI6QrFix4oLzW3rOibnWKyhWbEQB7rGWL8DpWTmxmoAf/KTn7AFnnXWWWzbohvGKKAY3wRjxMQdwPTu0FUyxZrHWHFj3XmIGTdmbHDGHcBaa17M2ohV07E1x+4PYqzfsTVbx2c1gHvuuScrb1NTE/3hD39g2ZbBKFYBxfgzRjFitp7DGPFjxITm6mdeTNaxYseK6wjFih0rLjS3reuYnGOxhuZ0u4JY63e6o9BlYzWAuhTl9Y5ZQDH+jFGMmO3vBFr/OTForn6n0Zpz5S5BjLgxY8esj1ixY8UF5453GGPVcyzWMWujqJpjdRAx1+9Ymq3jogFUEEUBKeDBFQRAAARAAAQyIoD1O3AfwFWrVtFDDz1Eb7/9Nn366adtpu/HP/5xRtOZfloUUPrMkREEQAAEQAAEtASwfgc0gE8++SQdddRR5H4XuHz5chowYACtWLGCmpubadCgQfTUU09p56Wm/y233ELXXXcdvfPOO7TffvvR9ddfT4ccckhN+/vvv58uvfRSeuONN2ivvfaiq6++msaMGdNi7zRPnDiRZsyYQevWraMhQ4bQzTffnMTmfFBAHEqwAQEQAAEQAIF8EcD6HdAADh48mA4//HC64ooraMcdd6SXXnqJdtttN/re976X/Pcf/OAHUWb5nnvuoeOPP55cEzhixAiaPn063XbbbbRkyRLq1atXh5y/+c1vkubwyiuvTJq+Bx54gC677DJ69tlnk0bPfa655pqkKZw1axbtvffedNVVV9EzzzyTNLZubL5PEQso1k7zseK6OYgVO1bcmJpjxi4iD2hue5WKxSNW3Jj1HDN2EXlAc9tzpYjrt68nkR4X/wbQNUaLFy9O7qjttNNOSUPl7pi5RvDoo49O7gbG+Limzd1hnDZtWkv4fv360ejRo2ny5MkdUh577LHkJvjRRx9tOeYaVKf57rvvTu5Y7rHHHnTOOefQRRddlNhs3LiRdt9996QxPP30073DKFoBxdppPlZcNwGxYseKG1NzzNhF5AHNbS9RsXjEihuznmPGLiIPaO64nBdt/fY2JAEG4gbwi1/8YvKYt3///knj55ov90jYNYDuztxHH30UIKO+i/udYefOnem+++5r8wj37LPPTprR+fPndwjg7gqee+65yT+Vz9SpU5PHxm+99VayXY1rYl988UUaOHBgi41rYrt160azZ8/uENM1iO6fyscVUM+ePWnDhg3UpUsX83FbBoy1Z1OsuJVv70X7SwHg0bZqY/GIFRd1l878xeQcMzbqLp36iMm59frdtWvXQqzflr1A61jiBtDdcTvyyCPp1FNPpQsvvDB5tHriiSfS3Llzk7trv/71r821rlmzhnr06EELFiyg4cOHt8SfNGlS0qi5R7btP1tvvXXyaPe4445rOXTXXXfRSSedlDRxCxcuTBrW1atXJ3cCK5/TTjstaRAff/zxDjEnTJiQ/Gaw/acIDWCsneZjxXWMY8WOFTem5pixi8gDmttehWLxiBU3Zj3HjF1EHtBcvSXBHcCA3wC6O2fuLt9Xv/pV+vjjj+k//uM/ksfAX/nKV8jdYevdu3e0BtA1bcOGDWuJ736/N2fOHFq2bFnVBtA1h9/97ndbjv3sZz+jk08+mf785z+3NICuuezevXuLjWtsV65cSY899liHmLgD2HFqY35TixU7VtyYdx5ixi4iD2gu/p0YzCHmsFazELM2cAdwC3XxHUDz7o4RMC+PgNtLLdo3iFg7zceK63jHih0rbkzNMWMXkQc0t70ixeIRK27Meo4Zu4g8oLljo1G09ZvRKolNghrA9evX0y9+8Ytke5ULLriAdt555+S3dO4FCveoNsbHvQRywAEHJG8BVz7ud4juN3u1XgL58MMP6ZFHHmmxP+KII5Lf97V+CcT9RtA9ynYf12i6N5rL+hJI5S5SjN3xY+5gHyt2rLgxOceMXUQe0NzxLhLO7y1MYtVHrLg4v9OpZ5cFDWDAI+Df//739M1vfpPcjyfdG7/u93df/vKXk/323G/n7rzzzhj9H1W2gbn11luTx8Bu776ZM2fSq6++mjx2PuGEE5Lms9IMusfFhx56aLLNi2sS/+u//osuueSSDtvAOPs77riD+vbtS+43hfPmzSv1NjBRJgdBQQAEQAAEQKBABNAABjSArvlz27Fce+21LfsAugbQNVzuhYtY28C4unJ3/1xetxG024Da/ebQNXnuM3LkSOrTp0/y4kfl4+5Suqav8savawbHjh3bcryyEbTbU7D1RtAuNueDAuJQgg0IgAAIgAAI5IsA1u+ABtDd+XOPe90WKpWNoF0D6O7+7bPPPskLFo3yQQE1ykxjnCAAAiAAAmUigPU7oAF0v/Nzb8i6vfNaN4BPPPFE8oate4O2UT4ooEaZaYwTBEAABECgTASwfgc0gG6fvPfee4/uvffe5OUP95vArbbaKvmLHO5xrNtouVE+RSygWH8OKFZcV0uxYseKW1TNsXTH5AzNW662ReQca/4qVGIxiRU3Jg9obtuZFHH9tu6txG8BO2huI+hXXnmF3Fu2bhPld999N3kxw71xu/3221trzG28ohVQrD8HFCuum/hYsWPFLarmWLpjcobmLZfGInKONX8VKrGYxIobkwc0d2wjirZ+x2iERA3gX/7yF/r2t7+d/D1et4Gy+y3gpk2bkpdC3MshjfYpUgHF2lgzVtzKN2H8KbjNZ1VMzrHiQ3PHK2IMJjFitlYeK36suLHqOWbcmLHBuXpnUqT1O1ZvJWoAnYhdd901eePXbZvS6J8iFVCsPwcUK66rrVixY8UtquZYumNyhuYtV98ico41fxUqsZjEihuTBzSjAazVq4kbwPPPP58+//nP05QpUxq9/yvURpKxvgXGiotvxG1Pr5icY7GGZtwBrLdIxKyPWLFjxY11DsaMGzN2TM6VmizSDZxYzZa4Afz3f//3ZLNn97d/DzzwwA6/+fvxRdU9JAAAIABJREFUj38cS2vu4hatgGL9OaBYcd2Ex4odK25RNcfSHZMzNG+5JBaRc6z5q1CJxSRW3Jg8oLlj+1C09TtGAyRuAEeNGlVTR1NTEz311FMxdOYyZhELKNafMIoVt/ItE3/eavMpEJNzrPjQXP1OoHVNF5FzrJqrEI/FJFbcmDygue15WMT127oREjeA1gKKHA8FVOTZg3YQAAEQAIFGJYD1O2AfwEYtlmrjRgGhGkAABEAABECgeASwfqMBVFUtCkiFD84gAAIgAAIgkAkBrN9oAFWFV9QCst4R3jpetUmxzmEdLw3NLkds3THix4jZmneM+DFiQnPHsyQ25xjnDDRXXzZjcIkRs6K+qOu3qmlp54zfACpoFrGArHeEt45XbTqsc1jHS0OzyxFbd4z4MWK25h0jfoyY0NzxLInNOcY5A83VF8wYXGLEbK2+iOu3ol2p6ooGUEG0aAVkvbeSdbxad9Es/xpIETVX7mJYcmjPOgaXGDHb30WzZgLN1e/SFY1zjHMmdm1A85baS4N10dZvRatS0xUNoIJq0QrIekd463jVpsI6h3W8NDS7HLF1x4gfI2Zr3jHix4gJzR3PkticY5wz0Fx9sYzBJUbM9uqLtn4rWhU0gDHgFa2ArL9VWcfDHcDaVRqbdYz4MWLiDmA6d+iKzhl30zbPYOxzMFaONHQXbf2O0cPgDqCCahELyHpHeOt41abDOod1vDQ0uxyxdceIHyNma94x4seICc0dz5LYnGOcM9BcfcGMwSVGzNbqi7h+K9qVqq5oABVEi1pA1jvCW8erdSfQ8i8nFFFz5du2JYf2rGNwiRGz/R0qaybQXP1OY9E4xzhnYtcGNG+pvZisi7p+K1qWDq5oABU0UUAKeHAFARAAARAAgYwIYP3GPoCq0kMBqfDBGQRAAARAAAQyIYD1Gw2gqvBQQCp8cAYBEAABEACBTAhg/UYDqCo8FJAKH5xBAARAAARAIBMCWL/RAKoKr6gFZP3ndazjVZsU6xzW8aC5+qmUBmeX2TKPZax6FxjrPNbxUNPZ1bT1XFrHK0NtFHX9VjUt7ZzxEoiCZhELyPrP61jHqzYd1jms40Fz9ZMoDc4us2Uey1j1Li3Weazjoaazq2nrubSOV5baKOL6rWhXqrqiAVQQLVoBWW+uaR2v1rdKyz9DBc2172oUjXPlzp+V7jRqw1pzjHg4D9M5R8A5O84uc9HWb0WrUtMVDaCCatEKyPrP61jHqzYV1jms40Fz9RMoDc4us2Uey1j1LivWeazjoaazq2nrubSOV5baQAO4eSbRADZQA2h9h8M6Hr4RZ/eN2HourePVOk0t81jGqndZsc5jHQ/nIc5DybJoXX/W8WqNpWg3cCRzwrVFA8glVcWuiAVk/ed1rONVmw7rHNbxoLn6SZQGZ5fZMo9lrHqXFus81vFQ09nVtPVcWscrS20Ucf1WtCtVXdEAKogWtYCs/7yOdbxadyAs/wwVNNe+y1E0zm4klvNpGct3J7BorK3ZWMfDtSOd87oMnIu6fitalg6uaAAVNFFACnhwBQEQAAEQAIGMCGD9xm8AVaWHAlLhgzMIgAAIgAAIZEIA63cBGsB169bRWWedRQ899FBSJEcddRTdeOON1K1bt6pF88EHH9Dll19OTzzxBK1cuZJ22WUXGj16NF155ZXUtWvXFp+mpqYO/tOmTaMzzjiDXYwoIDYqGIIACIAACIBAbghg/S5AA3jEEUfQqlWraMaMGUnhnHbaadSnTx96+OGHqxbSK6+8kjSAJ554IvXv35/eeuutpKn76le/Sr/4xS/aNIB33HEHHX744S3/zTWI2223HbtAi1pAlrvCW8bygbfMZRmrnm7LPJaxoLk2AXBOhw0417/iWfKxjFWWa0dR12/fOik5nuvfAC5dujRp4hYtWkRDhgxJxuX+fdiwYbRs2TLaZ599WGO977776Pvf/z796U9/os997nOJj7sD+MADDyR3B0M/RSwgy13hLWP55sAyl2Wserot81jGgubaBMA5HTbgXP+KZ8nHMlaZrh1FXL9966T0eK4bwNtvv53OO+88Wr9+fZtxuce/U6dOpZNOOok13ttuu43Gjx9P7733Xps7gD169KA///nPtOeee9LJJ5+c3F3s1KlTzZgbN24k90/l4wqoZ8+etGHDBurSpQtLS5ZGlvsrWcbyMbHMZRnL9024kf9CBTjXv4uG2niKNjVvYbRVUxM9O24Ude/KfwJTxuuGG5PluWMZq2zXOzSAOX8EPGnSJJo1axa99tprbWpv7733Tpo/19T5Pu+//z4NGjSIjj/+eLrqqqtazN2/H3bYYckj3yeffJIuu+yyJN4ll1xSM+SECRNo4sSJHY4XpQG03BXeMpZvDi1zWcaqp9syj2UsaK5NAJzTYQPO9a94lnwsY5Xt2oEGMKMGsFYj1brAnn/++eRFjtmzZ9Py5cvb1F7fvn2TO3bjxo2reya5Cf72t79NO+20U/ISyec///ma9j/60Y/oiiuuSO7m1frgDuAWMml9s8Q3Yts7AmX7Fm9Zh5axwDmdO6Bl44zrXXrXOzSAGTWAa9euJfdPvY970eOuu+4KfgT84Ycf0t///d9T586d6Ze//CVtu+22dfMtWLCADj74YHr33Xdp9913992USo4XsYAsd4W3jOUDbpnLMlY93ZZ5LGNBc20C4JwOG3Cuf8Wz5GMZq0zXjiKu3751Uno8178BrLwE8txzz9HgwYOTsbl/Hzp0aN2XQNzEuuZvm222oUceeSRpAn2fm266iS644ILk94bOj/MpagFZ7r5vGcvH3DKXZSzfXQirv/YAzfXvKoHzx9Rnl85k+Tu69sQta9AyVtnOwcqdQNR0vJou6vrtWyclx3PdALqBuG1g1qxZQ9OnT0/G5V7U6N27d8s2MKtXr05+y3fnnXcmTaK78/etb32LPv744+Qt3+23376Fx6677kpbbbVV4uvu9Lm3id1vAJ9++mk6//zzk61jbrjhBjY/FBAbFQxBAARAAARAIDcEsH5n9AhYUgFuY+f2G0G7u3WVjaBXrFiRvMXrmriRI0fSvHnzaNSoUVVTvPnmm8kego899ljywsfrr79OmzZtoi9/+ct0yimn0A9/+MOWbWI4GlFAHEqwAQEQAAEQAIF8EcD6XYAGMF8l01YNCijPswNtIAACIAACIFCdANZvNICqc6PIBWS1M7xVHM5EWOWyigPN9QkUkbMbURF1Q3M6tQjO5eFc5PWbs/ZwbHL/G0DOILKyKWoBWe0MbxWHM39WuaziQHN9AkXk7EZURN3QnE4tgnO5OBd1/easPVwbNIBcUlXsilhAVnudWcXh4LfKZRUHmv13Aaz+0oWPteWcWsZKSzc0p1OL4Fw+zkVcv33XFelxNIBSYq3si1hAVjvDW8Xh4LfKZRUHmusTKCJnN6Ii6obmdGoRnMvHuYjrN2ftkdigAZTQamdbxAKy+iZrFYeD3yqXVRxoTuduQJqcXS7URzrzCs7gXItAmrVRxPWbc02U2KABlNAqQQPohmC1M7xVHM4UWOWyigPN9QkUkbPluYH6KF99FLGmobl2HaIBxFvAnOt0TZsiF5DVLvxWcTgTYZXLKg40++9kWP0lAx9ryzm1jJWWbmhOpxbBuTyci7x++64r3OO4A8glVcUOBaSAB1cQAAEQAAEQyIgA1m/cAVSVHgpIhQ/OIAACIAACIJAJAazfaABVhYcCUuGDMwiAAAiAAAhkQgDrNxpAVeEVuYCsdrS3isOdCIt8FjG4ep2dRT6LGNDsJwDO6TAC53Q4W11//Gq3WFjMrUUMn+Yir9++sXGP4zeAXFJV7IpaQFY72lvF4U6BRT6LGFy9zs4in0UMaPYTAOd0GIFzOpytrj9+tVssLObWIgZHc1HXb87YuDZoALmkStIAWu2zZBWHi98in0UMrt7KN2/tX8SAZj9xC0YWMfxK294lQW1s5rFVUxM9O24Ude+6nQQhy9ZiXi1isMT+zcgqn1UcrnaLfBYxuHrRAOIRMLdWqtoVsYCsdrS3isOdAIt8FjG4ep2dRT6LGNDsJwDO6TAC53Q4W11//Gq3WFjMrUUMruYirt/csXHtcAeQS6qKXRELyOobllUcLn6LfBYxuHqdnUU+ixjQ7CcAzukwAud0OFtdf/xqt1hYzK1FDK7mIq7f3LFx7dAAckmVpAF0w7DaHd4qDncKLPJZxODqtWINzX7iFowsYviVbrGwyGcRA5r9BIrI2er646dTzJpGA4hHwJLa7mBb5AJy37Qs/kqDVRzuRFjks4jB1Vv5Jq5lDc1+4haMLGL4lba9a4LasP/tX/s5sJhXixhp14bV9Sdt3WmwLvL6LZmPera4A6ggiQJSwIMrCIAACIAACGREAOs37gCqSg8FpMIHZxAAARAAARDIhADWbzSAqsJDAanwwRkEQAAEQAAEMiGA9RsNoKrwil5A7ncWb679E+25y/YUsgeX1j8Evjan1h+aeQSKyNmNrIi6oTmdmgTncnEu+vrNm436VvgNoIJikQtIu9u61j8Euzan1h+aeQSKyNmNrIi6oTmdmgTn8nEu8vrNmw2/FRpAP6OaFkUtIO1eS1r/EOTanFp/aOb9pYYicq7c+dP+ZQ5pjWhZaf2lei04QTOPupaT1p+nsq2VNqfWX6q5qOu3dJz17NEAKmgWtYC0u61r/UOQa3Nq/aF5KA3b6wteDEXk7AZVRN3Q7C3HxEDLSevPU9nWSptT698Imou6fofMTS0fNIAKmkUtIO03La1/CHJtTq0/NOMOYEgN1PPR1qTWP2Q82pxaf2gu73mYdm0Udf0OOQfQAFpS+1usIheQdmd7rX/IdGhzav2hmUegiJzdyIqoG5rTqUlwLh/nIq/fvNnwW+EOoJ9RTYuiF5B2t3Wtfwh6bU6tPzTzCBSRsxtZEXVDczo1Cc7l4lz09Zs3G/Wt0AAqKKKAFPDgCgIgAAIgAAIZEcD6jX0AVaWHAlLhgzMIgAAIgAAIZEIA6zcaQFXhFb2AtBubav1D4Gtzav1DNFceLYZuug3NfOoaVhpfvsKOlpq8Gl9olhHIgrU2p9ZfRmiztTan1p+ruejrN3ec9ezwCFhBscgFpN3YVOsfgl2bU+sfotn5aPJqfEP1QjPR5LH707EH9dIgZPlq5lfjyxJXw0iTV+OblWbt+RCqW8tK6x+iW5tT6y/RXOT1WzLOQjeA69ato7POOoseeuihZBxHHXUU3XjjjdStW7ea4xo5ciTNnz+/zfFjjz2Wfv7zn7f8t5C47RMWtYC0r9tr/UOKV5tT6x+iufJtOHSDYWjmU9ew0vjyFXa01OTV+EIz0VZNTfTsOGypoqmF9r7amtT6S8dS1PVbOs5CN4BHHHEErVq1imbMmJGM47TTTqM+ffrQww8/XLcB3HvvvemKK65osdluu+2oa9euLf8/JG5ZGkDtJqFa/5AC1ubU+ododj6avBrfUL3QvIXc3afyNr8OZa2ZX41vqN5GrA3tmENZa+dX6x+iW5tT6y/VjAYw578BXLp0KfXv358WLVpEQ4YMSebX/fuwYcNo2bJltM8++1Sdc3cH8Otf/zpdf/31VY+Hxi1LA6j9pqX1l56ozl6bU+sfolmrG5r51DWsNL58hR0tNXk1vtCMO4CaGqjlq61Jrb90TGgAc94A3n777XTeeefR+vXr28yte/w7depUOumkk2o2gK+++io1NzfT7rvvTu5u3+WXX0477rhjYh8ad+PGjeT+qXxcAfXs2ZM2bNhAXbp0kdZfpvbajU21/iGD1+bU+ododj6avBrfUL3Q3ESTxg5I7TeAF899hT5rbk4eS0ryojb4Fa5lpfXnK91iqc2p9S+7ZjSAOW8AJ02aRLNmzaLXXnutTS26x7uu+Rs/fnzVGp05cybtueee9MUvfpFeeeWVxO4rX/kK/fd//3diHxp3woQJNHHixA45i9gAVu5OrVj7MfXZpTN177qd+Hx339g0/uKEBhv1ZqFZyxqa+ZWiYaXx5SvsaKnJq/GFZhmBLFhrc2r9ZYQ2W2tzav25mtEAZtQA1mqkWk/c888/T0888QTNnj2bli9f3mZO+/btSyeffDKNGzeONdcvvPACHXjggeT+d9CgQUkDGBK3THcAWeBgBAIgAAIgAAIlJIAGMKMGcO3ateT+qfdxL3rcddddQY+A28d1j4K32WYbmjNnDrm3gUMfAbePiwIq4VUBQwIBEAABECg9AazfGTWA3MqqvKzx3HPP0eDBgxM39+9Dhw6t+xJI+/juMfD++++fbA1z6KGHklXcMhSQu90eskFxqB937uvZheYO9YPm7Un6E4GsWGvyanw1NaLJq/HVaHa+oblD/bR6odmCIC9G6ByH+vFUtbUqw/odMu7WPrnfCNq9wLFmzRqaPn16otttA9O7d++WbWBWr15Nhx12GN15551Jk/jGG2/Qz372M/rOd75Du+yyCy1ZsoTOP/98ctvAuMfKW221VRLHF5cDtugFFLrpZqgfh6nPJjR3qJ9PD+d4aO5QP44mn40mt8bXp6vecU1ejW+jaXbjDeUV6qdhXPENzR3qB81EnZr4m6qnzbno67dFfeW+Afzggw86bAR90003tWwEvWLFiuSFj6effprc9i8rV66k73//+8nLHx999FHylu6RRx6ZvAW88847tzDzxeXALXIBhb5yH+rH4emzCc0d6ufTwzkemjvUj6PJZ6PJrfH16ap3XJNX49tomt14Q3mF+mkYV3xDc4f6QfMWApxNt7PgXOT126K+XIzcN4BWA40Rp8gFFLrpZqifBf/Q3KF+0NyWAGdj5KxYa/JqfDU1osmr8dVodr6huUP9tHqheTNBzvmrZR06x6F+Gr1FXr81427tiwZQQbLIBRT6jSvUT4G5xTU0d6gfNMu+xWvuDmlZa+ZY46vRrcmr8dVo1swxNMvIh/IK9ZOpq24dmjvUT6O5yOu3ZtxoAI3oFb2AQjcKDfWzwB6aO9QPmrFBsUUN1IqhqUuNr3ZMoblD/bR6nX9o7lA/aJZdO9LmXPT126K+cAdQQbEMBeS+eYVs5hzqp8Dd5k4gNFuQrB9DM8caX83INHk1vo2muXInEOehZuZ5vqF1GerHUxXn2pGm5jKs39q5QgOoIIgCUsCDKwiAAAiAAAhkRADrN14CUZUeCkiFD84gAAIgAAIgkAkBrN9oAFWFV4YCcrfcsRG0qgxYzkXkXHnMJ62P0LGyQDKMQvKH+DCksE1C8of4sAUxDEPzh/oxJHlNQnOH+nkFMQxCc4f6MSR5TUJzh/p5BVUxKMP6HTLu1j54BKwgWPQCCt14M9RPgbrFNTR3qF+janbjDmEW4mPBuBIjJH+IDzS/TePnvkybmvO92W/reQqd51A/ixoJzR3q10iai75+W8wVGkAFxSIXUOhr96F+CswtrqG5Q/0aVbMbdwizEB8LxpUYIflDfKD5Exox5amk+at88rrZr6Y2Qs8Dq/oIrc1QPwvdoblD/TSai7x+a8aNO4BG9IpcQKEbb4b6WSAPzR3q16ia3bhDmIX4WDCuxAjJH+IDzWvpuJnPdcDg22g4S9ahuUP9LGokNHeoX6NpLvL6bTFXLgbuACpIFrmAQr9xhfopMOMO4N8IcO6yWHAOvfORZW1AcxM9O24Ude+6nVUJ1IwTOs+hfhYDCs0d6gfNWwhwrltZcC7y+m1RX2gAlRSLXkChG2+G+ilxJ+6huUP9GlVzKOssOUNzL4tyZcUInedQP5Yoj1Fo7lA/aMZG0BY1EDMG7gAq6Ba9AazcNcFmrooiYLq6b7hF4xxaH6FjZaL0moXkD/HxChEYhOQP8RFI8pqG5g/18wpiGITmDvVjSPKahOYO9fMKYhiE5g71Y0jqYFKG9Ttk3K190AAqCKKAFPDgCgIgAAIgAAIZEcD6jd8AqkqvLAXkvnVJ9nqT2qsg13CWapDa50Fz5Q6cZG6sdYdwC/Gx1B2SP8QHmmXXjTzUc4iGrGsDmi3PtC2xyrJ+a+jgDqCCXhkKSLpflNRegbemq1SD1D4Pmp2GrHWH5A/xseQdkj/EB5rl+wBmzTnknILmsEqXcpPah6lq61WG9VvLAQ2ggmDRC0j65pXUXoG2pqtUg9Q+D5or3/hD9lqz0h/CLcTHSm8oM2iWz0AIsxAfubL6HlINUntrvSE1Dc38WSj6+s0faW1LNIAKikUvIOl+UVJ7BdqarlINUvs8aHYastYdkj/Ex5J3SP4QH2iW7wOYNeeQcwqawypdyk1qH6aqo1fR128LDmgAFRSLXkDSb4tSewVa3AHcEPbXFqyYh8x1iI+V3pC7JaE+0CyvzaxrI2SuoTms0qXcpPZhqtAAVuOGBlBRTUVvAN3QpXtcSe0VeGu6SjVI7fOgOWRurHWHcAvxsdQdkj/EB5rfpovnvkKfNfP3esuac8g5Bc1hlS7lJrUPU9XWqwzrt5YDGkAFwbIUkHTvJam9AnHdO4GSffWKqLly10IyTmvWIdxCfCx1h+QP8YFm+d6WWXMOOaegOazSpdyk9mGqtniVZf3WcEADqKCHAlLAgysIgAAIgAAIZEQA6zf2AVSVXlkKSLrPldReBbmGs1SD1B6aNxOQcpPax+As1Q3N4bMgZSe1D1dW21OqQWoPzcW4dpRl/dbUG+4AKuiVoYCk+y9J7RV4a7pKNUjtoXkzASk3qX0MzlLd0Bw+C1J2UvtwZbU9pRqk9tBcnGtHGdZvbb2hAVQQLHoBSd++ktor0NZ0lWqQ2kPzlm/vkn0I88C5cuePqxuaw6tdyk5qH66s/p0/bm1IaymG3hAN4MyfiaKv3/yR1rZEA6igWPQCku6/JLVXoK3pKtUgtYfmzQSk3KT2MThLdUNz+CxI2Untw5XV9pRqkNpDc7GuHUVfvy3qDQ2ggmLRC0j6bVFqr0CLO4BTnqJNzVswbNXURM+OG0Xdu24XA2uHmNK5ltrHGoREh8Q2ll7pXZ4iapaOMRZrKTupfQzdUg1S+0bWXPT122Lu0AAqKJahgKT7L0ntFXhruko1SO2heTMBKTepfQzOUt3QHD4LUnZS+3BltT2lGqT20Fyca0cZ1m9tvaEBVBAsSwFJ91+S2isQ170TKNkfD5rDZkHKTWofpsrvJdEhsfVnDreQ6JDYhivye0p1SO39CuQWUg1Se7kiv4dUg9Ter0BuIdUgtZcrautRlvVbwwENoIIeCkgBD64gAAIgAAIgkBEBrN/YB1BVemUqIPft6821f6I9d9me6v3OjGunAst05mrh2jHTqswkWiS2KlEeZ4kOiS00tyUgYSexBefic3Yj4M451y5mXVRiS7RIbC20l2n9DuWBO4Ch5IioLAXE3euKa6dAynblauHasRMrDCVaJLYKSV5XiQ6JrTexwkCiQ2KrkOR1leiQ2HoTKwwkOiS2CkleV4kOia03sdKAq4Vrp5TDcpdokdiykjOMyrJ+M4Za0yT3DeC6devorLPOooceeigZxFFHHUU33ngjdevWreqgVqxYQXvuuWfVY/feey/90z/9U3Ksqampg820adPojDPOYPMsQwFx3xrj2rHhKQy5Wrh2CilsV4kWiS1bQIChRIfENkAK20WiQ2LLFhBgKNEhsQ2QwnaR6JDYsgUEGEp0SGwDpIhcuFq4dqLkgcYSLRLbQDlV3cqwfmt55L4BPOKII2jVqlU0Y8aMZKynnXYa9enThx5++OGqY//ss8/ovffea3PM+V577bX07rvv0g477NDSAN5xxx10+OGHt9h27dqVttuOv81GGQqIu9cV105bkBx/rhauHSen1kaiRWKr1VXPX6JDYgvNbQlI2Elswbn4nN0IuHPOtYtZF5XYEi0SW0vtZVi/tTxy3QAuXbqU+vfvT4sWLaIhQ4YkY3X/PmzYMFq2bBnts88+rPEPHDiQBg0aRD/96U9b7N0dwAceeIBGjx7NilHNqAwFxP32xbULhilw5Grh2glSB5tKtEhsgwUxHCU6JLaM1MEmEh0S22BBDEeJDoktI3WwiUSHxDZYEMNRokNiy0itMuFq4dqpxDCdJVoktsz0LLMyrN+sgdYxynUDePvtt9N5551H69evbzME9/h36tSpdNJJJ3nH/8ILL9CBBx5ICxYsoOHDh7dpAHv06EF//vOfk0fGJ598cnJ3sVOnTjVjbty4kdw/lY8roJ49e9KGDRuoS5cuXi15NeDudcW1S2OcXC1cuzxpdlryoluiQ2Ibk7dEh8QWmtsSkLCT2IJzRwJcfly7mIwrsSVaJLZW2tEA5vwt4EmTJtGsWbPotddeazPne++9d9L8jR8/3lsLZ555Js2bN4+WLFnSxvaqq66iww47LHnk++STT9Jll12WxLvkkktqxpwwYQJNnDixw/GiN4BuQO5bGGdfPa6dd2IMDLhauHYGkrwhJFoktt7ECgOJDomtQpLXVaJDYutNrDCQ6JDYKiR5XSU6JLbexAoDiQ6JrUISy5WrhWvHSqo0kmiR2CplJe5oADNqAGs1Uq0n9fnnn6cnnniCZs+eTcuXL28z33379k3u2I0bN65uHXzyySfUvXt3uvTSS+n888+va/ujH/2IrrjiiuRuXq1PWe8AVhpAbANjcVmpH8Nd5MA5PmduTXPnIx3F5d7qI0+suVq4dmnUB1cL167RNaMBzKgBXLt2Lbl/6n3cix533XWX6hHwnDlzkkZx9erVtOuuu9bN5x4RH3zwwcmLIrvvvjvr3ChLAXFfwefaseApjbhauHZKOSx3rhauHSup0oirhWunlMN25+jh2LATGhhy9XDtDCR5Q3C1cO28CQ0MuFq4dgaSvCG4Wrh23oQGBlwtXDsDSW1ClGX91nDJ9W8AKy+BPPfcczR48OBknO7fhw4dynoJZOTIkbTLLrvQL37xCy+jm266iS644ILk94bbbLON194ZlKGAuD/A5dqxwCmNuFq4dkpU8a5pAAAgAElEQVQ5LHeuFq4dK6nSiKuFa6eUw3bn6OHYsBMaGHL1cO0MJHlDcLVw7bwJDQy4Wrh2BpK8IbhauHbehAYGXC1cOwNJHUKUYf3Wcsl1A+gG57aBWbNmDU2fPj0Zq3tRo3fv3i3bwLi7e+63fHfeeWdLk+jsXn/9dXK/FXzkkUfabPXijrktZNydPvc2sfsN4NNPP508Ij7xxBPphhtuYDMtQwFxX8Hn2rHhKQy5Wrh2CilsV64Wrh07scKQq4Vrp5AicuXo4diIkiqNuXq4dko5LHeuFq4dK6nSiKuFa6eUw3LnauHasZIqjbhauHZKOVXdy7B+a7nkvgH84IMPOmwE7e7WVTaCrmz87Jo4d8ev8rn44ovJPQJ+6623OrzZ+9hjjyUvfLgmcdOmTfTlL3+ZTjnlFPrhD39In/vc59hMy1BA3G9gXDs2PIUhVwvXTiGF7crVwrVjJ1YYcrVw7RRSRK4cPRwbUVKlMVcP104ph+XO1cK1YyVVGnG1cO2UcljuXC1cO1ZSpRFXC9dOKQcNYA2AuW8AY0y8VcwyNICOBfcVfK6dFd96cbhauHbQXJ0Alx/XLg3O3Jouombu2PLEGZr1s8GtVa6dXpE/AlcL186fUWZRlvVbNuq21mgAFfTKVEAvrVxHz69YRwf12Ym+1nOnqlTct7X/XfEBdWpqokG9d6LuXfl/NUWBuaar0/PCinVETUQH1NHDGVsMfdViQnNapIk4886xSU8xT3PezkMOQ2jWVxGuHXqGrSOUaf0OJYMGMJRcSV4CqXw7Hz/3ZdrUTNSpiWjy2P3p2IN6tSGT1ZtavruARdPN4cixUZSt2JWjh2MjTqxw4Ojh2CgkiF05ejg24sQKB44ejo1CgtiVo4djI06sdOBo4tgoZYjcOXo4NqKkTGM0gBltA8Ocn9yblaGAOL/B4NikPVkcTRybNHVz9HBsoLk+AQ5Djg04g3OFwFZNTfTsuFGU1VMPTr1ybFDTWwiUYf3WzifuACoIlqGAOG9hcWwUGINcOZo4NkHJA504ejg2gemD3Dh6ODZByQOdOHo4NoHpg9w4ejg2QckDnTh6ODaB6YPcOHo4NkHJFU4cTRwbhQSxK0cPx0acmOlQhvWbOdSaZmgAFQTLUECcb40cGwXGIFeOJo5NUPJAJ44ejk1g+iA3jh6OTVDyQCeOHo5NYPogN44ejk1Q8kAnjh6OTWD6IDeOHo5NUHKFE0cTx0YhQezK0cOxESdmOpRh/WYOFQ2gFlQ1/7IUEOctLI5NDMb1YnI0cWzS1M3Rw7GB5voEOAw5NuAMzu7x76SxAzr8LjrN2nC5OPXKsUlTN0cPxyaG5rKs3xo2uAOooFemAuK8YcZ520+BM8jVp8mNK09vLrtBQnPQVIudfJw5cyFOqnQo4nkIzcpJF7j7ahrXOz7MMq3f/FG3tUQDGEquRG8BV75d1nujNqs3tXx3AKFZUcBMV9/c+44z05iacTRxbExFMYL5NPmOM1KYm/g0+Y6bC2IE9GnyHWekMDfxafIdNxfECOjT5DvOSBFsggYQbwEHF49zLEsB+X6H4Tuughjo7NPkOx6YVuXm0+Q7rkoe6OzT5DsemFblxtHEsVGJCHD2afIdD0ipdvFp8h1XCwgI4NPkOx6QUu3i0+Q7rhYQEMCnyXc8IKXIpSzrt2jQ7YxxB1BBrywF5HsTy3dcgTDY1afJdzw4scLRp8l3XJE62NWnyXc8OLHCkaOJY6OQEOTq0+Q7HpRU6eTT5DuuTB/k7tPkOx6UVOnk0+Q7rkwf5O7T5DselFTgVJb1WzDkDqZoABX0ylJAvm9ivuMKhMGuPk2+48GJFY4+Tb7jitTBrj5NvuPBiRWOHE0cG4WEIFefJt/xoKRKJ58m33Fl+iB3nybf8aCkSiefJt9xZfogd58m3/GgpAKnsqzfgiGjAdTAau9bpgLyvYnlO27JlRvLp8l3nJvH0s6nyXfcUgs3lk+T7zg3j6UdRxPHxlITJ5ZPk+84J4e1jU+T77i1Hk48nybfcU4OaxufJt9xaz2ceD5NvuOcHKE2ZVq/QxngDmAouRL9BrCCwPeGme+4AmWwq0+T73hwYoWj++Zb728YQ7MCbitXH2d3PG9viDv59eYfmm1qw8eZc9xOCT+S79rgO87PZGfpOw+z0owGEC+BqKq8TAXkexvLd1wFMtDZp8l3PDCt2q2eLmhW420JAM52LOtFKhtnN9Y8noc+Tb7j6VRDxyx5rY8yrd+hc4s7gKHkSnQH0PdbDN9xBcJgV58m3/HgxErHerpc6BFTnqJNzVuSZP03SJ0SaFZOOtMdnJmglGa+a4PvuDJ9kLtPk+94UFIDpzzXNBpA3AFUlXhZCsj3NpbvuApioLNPk+94YFq1Wz1dzdRMx818rkOOu08dSsP2+oI6d2gAaA4lJ/MDZxmvUGvftcF3PDSvxs+nyXdck1vjm+eaLsv6rZkf3AFU0CtLAVX7ltaJiBaM/zvq3nW7uneA3PEsPkXUjLtp6VVKnu881KJQFs2Va4cbZ1HuaON6F+fczHNNl2X91swcGkAFvTIVkPudxrj7X6bK08cmIppyzP7J37/scKyJaMrYzcey/BRRs+N1/r2L6f4XV7egO2ZQD/rRP389t5zrafYdy7I+anGGZttZqXce1psDWxWyaEW8dhRRc56vd2Vav2XVv8UaDWAouRL9BrDenam5Zw6jMbcsbPO7tNbflhX41K61vl1CsxptmwB5/hZf9rtpld+A5vVumvTakYfftEo143oXfj3J8zUaDSB+Axhe2SVrAGv9VuOSI/vRVb9a2oFT1r9Lc4KgWVW+bOc8/46n1iCgmT29akOch2qErADgzMLENkIDiAaQXSzVDMtUQJJvakX8Fg/N4aWOO4Dh7CSeReQsvZuG81BSEW1tcY0OZ1f29TuUDB4Bh5Ir2R1AhyHZr+n+l2kTEbnHHpNb/QZw/NyXk8fAnZqIJufg93+VaSuq5ovnvkKfNTcnnC86Yl86/Rt75XLvsdacq2l2x6c/8wZd8+iypD7cAj9p7IDMfx9aqWdoVlzgBK61zsO81gaud4LJVZrm9Rpdphs4oVOEBjCUXFkbwCqNXusfH7d+OUSBzsy11iajedZcaZqmPLqMmls11e6/V17EyRvneporXw6c5nF/a2bNJlgZyDUg1ThDsxJsO/dq56EzyTPnIl47oNmubtEA4hGwqprKVEB4vKAqBZFzrS1sqIlytwl0ZWDQLJriYGNwDkYncsT1ToQr2DjPnMu0fodOEO4AhpIr2R1A/MBYUQhC11qsq4XJw8s2Thc0Cyc50BycA8EJ3XC9EwILNM8zZzSAuAMYWNab3cpUQNW+qbkxjtp3V3p62XttOOX5h9x51+z0OdbDJz/VsudirSLMC+d6mt1j31Z/uY6amogWjtu8gXjWn1qcodl2ZmpdO9pnyVtttN+kOu/XDlyjbeu2TOt3KBncAQwlV7IG0GGYPv8NmvzoMi+R8d/Zl04/dC+vXRoGRdTMbQDzxJndTLm7hX/7CzJpzH+9HNCc3gxwzkPXeOelNnC9y1dtODVpX+/QAOIOoOosKFsBcR8/5eWxpJs8aFaVMNuZy9kFzEt9QDN7etWGXNZ5qQ1cO9RTzg6Q19oo2/rNnpBWhrgDGELtbz5lKyDOnak8PcZx0wDNigIWuHIf8+XtsXW1x3zthw3NgkKoYYrzUM+QEwGcOZR4NmVbv3mjbmuFBjCEWiM3gDl7jMO6IEKzosq3uHIe86X9GMc3MGj2EbI5jvPQhqMvCjj7CPGPowHEI2B+tVSxLFsB5fVWfb1JgmZVCYucOazz9IjPDQ6aRVMcbMzh7ILnqT6gOXi6RY555Vy29Vs0KX8zzv0dwKuvvpp+9atf0eLFi2nrrbem9evXe8fZ3NxMEydOpBkzZtC6detoyJAhdPPNN9N+++3X4uv++1lnnUUPPfRQ8t+OOuoouvHGG6lbt27e+BWDshUQ59ul+0sgC3Lylqebh7JqdmP7rx8Op6/13Ildj7ENX1q5jo6+eWHdNNCsn4Wycsa1Q18buN7pGZZ1/Q4hk/sG8PLLL0+aslWrVtFPf/pTVgN4zTXXkGscZ82aRXvvvTddddVV9Mwzz9Dy5ctpxx13TDgdccQRSUzXJLrPaaedRn369KGHH36YzbFsDaAb+KRfLaEZ//NmTQanHfJluvjIfmxGaRiWUXPe7pY4PZxv8nm6wwPNaZx9m3NwagPXDpv5wPXOhmMZ128pmdw3gJUBuWbunHPO8TaA7u7fHnvskdhedNFFifvGjRtp9913J9cYnn766bR06VLq378/LVq0KLk76D7u34cNG0bLli2jffbZh8WxjAXku/uQtzs8bqLKqDlvd0s4nPOo2XfHpIia3Vzk7Tz0cc6jZk5N541zWTVncR6Wcf1mNS6tjErXAP7hD3+gvfbai1588UUaOHBgy1CPPvro5E7i7Nmz6fbbb6fzzjuvQzPpjk+dOpVOOumkqhxdI+n+qXxcAfXs2ZM2bNhAXbp0kbLPpf3DL62mf797cU1tebvDw7n7cPNxA+nIr+6RK96+OybfG9KLrh6zPzQbEDjn5y/Sg4vfqRopj5yd0Ivn/p7u+u3KQp2HRdRcxutdEa/RWZyHaAAL9BII9w7gwoULacSIEbR69erkTmDl4x7xvvXWW/T444/TpEmTksfDr732WpsLrHtc7Jq/8ePHV73wTpgwIfltYftPmRrAX/5+Df3bXb+rOv68bQFTEenuPgyb/FTNxfKm7w6kf/havhpAaDbo7Jghfvzfy+knT75e1TqPteGEFvE8hGZmQSrN6l078rbZdp6v0WgAM2oAazVSrc+L559/ng488MCW/yRtANesWUPdu3dv8T/11FNp5cqV9NhjjyUNoLsT6H4T2PrTt29fOvnkk2ncuHFVT9FGuANY7+Lyb6P2ov/4+32Vl6847tc9toxunvdGh+B5vSA6odAcpxbaR631E4E810YRz0NoTqeeXZbLH3yFZi96q0PCE4f3pglHDUhPiCBT3q53aAAzagDXrl1L7p96H/dCxrbbbituAGM+Am6vt6wFdM/zb9NF97/cZrhHDPgiTfv+AYLTPX3TM3/2Aj3y8rttEl9zzP507EG90hfDzAjNTFBKs/PvXUz3v7i6ULVRxPMQmpWFKnD/fzf+D728+v9aPAbs0YV+edYhggjpm+bpelfW9Vsyq6X7DWDlJZBzzz2XLrzwwoTFp59+SrvttluHl0Cee+45Gjx4cGLj/n3o0KEN/xJIpXjct/lfL/kjrf1oI/3dvrvlajuSegXu7vY8tfT/o127bEOH9dudunfdTnI+ZGILzelgLyLnIp6H0JxOPbssTy59l+Ytf49G7rMrHdbvi+klVmTKy3mIBjCjO4CS2nn77bfpgw8+SPbru+666+h//ud/EvevfOUrtMMOOyT/vu+++9LkyZNpzJgxyf93b/u6/3/HHXeQe6zrHvnOmzevwzYw7jHx9OnTEx/3G8HevXs3/DYwkrmBLQiAAAiAAAgUkQAawAI0gCeeeGLye732n6effppGjhyZ/Oempqak2XO27lPZCNo1d603gh4wYMtvI1xT2X4j6JtuuqmhN4Iu4kkMzSAAAiAAAiAgJYAGsAANoHRS07RHAaVJG7lAAARAAARAwIYA1m80gKpKQgGp8MEZBEAABEAABDIhgPUbDaCq8FBAKnxwBgEQAAEQAIFMCGD9RgOoKjwUkAofnEEABEAABEAgEwJYv9EAqgoPBaTCB2cQAAEQAAEQyIQA1m80gKrCQwGp8MEZBEAABEAABDIhgPUbDaCq8FBAKnxwBgEQAAEQAIFMCGD9RgOoKjwUkAofnEEABEAABEAgEwJYv9EAqgoPBaTCB2cQAAEQAAEQyIQA1m80gKrCQwGp8MEZBEAABEAABDIhgPUbDaCq8DZs2JD86biVK1dSly5dVLHgDAIgAAIgAAIgkA4B1wD27NmT1q9fT127dk0nac6yNDW7P5yLTxCBVatWJQWEDwiAAAiAAAiAQPEIuBs4X/rSl4on3EAxGkAFxE2bNtGaNWtoxx13pKamJkWktq6Vbya4s2iGtGogcI7Lt3V0sE6HNTiDczoE0skSs57dva8PP/yQ9thjD+rUqVM6A8pZFjSAOZsQJwe/TUhnUsA5Hc6oaXBOj0A6mXDtAOd0CMTNggYwLt+g6Li4BGETO4GzGFmwA1gHoxM5grMIV7AxOAejEzmCswiX2BgNoBhZfAcUfXzGuCuVDuNKFtR0OrzBGZzTIZBOFtRzXM5oAOPyDYq+ceNGmjx5Mo0fP5622WaboBhw8hMAZz8jKwuwtiJZPw44g3M6BNLJgnqOyxkNYFy+iA4CIAACIAACIAACuSOABjB3UwJBIAACIAACIAACIBCXABrAuHwRHQRAAARAAARAAARyRwANYO6mBIJAAARAAARAAARAIC4BNIBx+SI6CIAACIAACIAACOSOABrAlKbklltuoeuuu47eeecd2m+//ej666+nQw45pGb2+++/ny699FJ64403aK+99qKrr76axowZ02LvdjGfOHEizZgxg9atW0dDhgyhm2++OYndyB9Lzn/5y1/okksuoUceeYT+8Ic/JH8v8pvf/CZNmTIl2T2+kT+WnNtzPP3005O6njp1Kp1zzjmNjJlicF66dClddNFFNH/+fHJ/zchdM+69917q1asXWBteoz/66CMaN24cPfjgg/T+++9Tnz596KyzzqIf/OAH4Mzk/Oqrr9Jll11GL7zwAr311ls1rwnS86ShJ6DV4NEAplAJ99xzDx1//PHJxXzEiBE0ffp0uu2222jJkiVVL7q/+c1vkubwyiuvTJq+Bx54IDkJnn322aTRc59rrrkmaQpnzZpFe++9N1111VX0zDPP0PLly5M/TdeIH2vOGzZsoH/8x3+kU089lb72ta8ljbZrSP7617/S//7v/zYi4mTM1pxbg3SL5YQJE+i9996jCy64oKEbwBic3RfKwYMH08knn0zf/e53ky81riE86KCDaLfddkNNG16j3XXj6aefTq71rvl74okn6MwzzyT35f7oo49uSNbSmn7++eeTLycHHHAAnXvuuckXl/ZfCqUxGxJ8jUGjAUyhGlzTNmjQIJo2bVpLtn79+tHo0aOT/f7af4499tjkz8E9+uijLYcOP/xw2mmnnejuu+8md/fP3YFyJ4I7IdzH7Ze0++67J42hu4PSiB9rztUYuguSW0Ddt9FGvWMSi/Pq1auTLziPP/44HXnkkUl9N/IdwBic/+Vf/oU+//nP05w5cxrxElFzzDFYDxgwgNy13D3JqXxcI/Od73wn+XLfiB8p59aMXBNd7ZqgidmIc9B6zGgAI1fAp59+Sp07d6b77ruvzSPcs88+mxYvXpw8hmn/cY2F+7bj/ql83OMw99jYNR7ucaR7LPziiy/SwIEDW2zct8pu3brR7NmzI48qf+FjcK42yl//+tf07W9/m9avX09dunTJH4jIimJxdo8i3eN1V8Pu3Kh1sY88vNyEj8HZMXZ3/C688MLkacLvfvc72nPPPZMN592X0Ub9xGDtWJ5xxhnJo0t3V9t9YZ83bx4dddRRyRf7gw8+uOFwh3D2NYDamA03Ce0GjAYwcgWsWbOGevToQQsWLKD/v71zD83pj+P4x8htyx+blUty22xErqm5jQgTyWYTMywaUWhu5dIQi7mkUJNymU0uyy3irxWyIkJSchs2IUu0tEnq1/vz6/v0bL9n23nsnPN79pz3pyTP89338vqeHe/zuXzPmDFjfKPl5+erUEPItqG1b99eQ7sLFizwfXX27FnJzs5WT195ebmGkuEx8c9Fy8nJUYEID4rXzAnODRnW1dXpjTsxMVGKi4u9hljX6xRneMIRLsO126ZNG88LQCc4f/78Wbp3764PpEgZmTRpkty6dUs2b96s7JOTk3lN23SPBkiIE4SBi4qKpF27dhIREaHhYKQDedH+5ppuTgC2tE8v7oP/mikAHb4CzAUK0ZaUlOQbDfl7CMO8ePEioACEOESOjrGSkhLN24EIMQIQfeOGbgw3m8rKSr2pe82c4OzPEAUh6enp8uHDB32S96L3z18A2nk9w0uCkC882uaBxuseQCeuZ9Mn7it4oDQGr1RkZKSml3jRnGANjvv375fjx4/r371799YcbXhbkdMNb7fX7G84WxWAwdyPvMa9qfVSADp8NfyNi5oh4OA3xQnOZhYQfxkZGRp6Lysrk5iYmOAnGCY/4QRnpDbk5uaqh8TYnz9/9N+9evWSd+/ehQk968twgjP6hNDLy8vT6nZjyCNGSBhRCi+aE6xra2s13A6xh4cbY8uWLZOqqipPPqT/DefmBGBL+/Ti9e6/ZgpAF64AJKki+RdVwMYGDRqk+U6NFYHU1NTo8SPGUlJSNL/PvwgEOYLI54HhFwFVfF4vArGTM7ga8ffq1SsNk8XGxrpwxYT2EHZfzzgiA8cj+du0adM0VIa0h4SEhNAG4tDs7OaMaSINBfnD/kUgOGmgU6dO9byCDi0pZLu1mzWK+CAAcQ/HvdsYCvQqKiq0ItiLFizn5gQgvm9Jn17cAwpAl3fdlKkXFhZqGBhnnCE0gDOOEBpYtGiR5gkaMQh39oQJE/SYF4jEq1ev6hN7w2Ng0P7kyZMSHx8vyClEaJLHwGSJXZxx3EtaWpqGJq9fv65V1saio6MFuZpeNCeu54YcvR4CBg8nOMMjhcpUnBlqcgBRWYl7hxcLE8x15wTriRMnSnV1tRw5ckTv8yj4wxmABw8e9OxZgMFyhmMDx6XBUD2dmZmpf6KioiQuLk4/b65PL96jra6ZHkCrpFrYDt6/goIC9XTgeABU9ULkwXCjwH94KPwwVlpaqqLPVPxCDKampvq+NwdB40xB/4Og0beXzU7OCD2iSjKQwRuIffOq2ck5EEMKwH+pOMH5xIkT+rCJUCS8qzhQ3qvn0vlfe3azRtENcv7g7fv27ZuKQBTqIXKDQievWjCcG7sHo2AJDy3GmurTq5ytrJsC0AoltiEBEiABEiABEiCBMCJAARhGm8mlkAAJkAAJkAAJkIAVAhSAViixDQmQAAmQAAmQAAmEEQEKwDDaTC6FBEiABEiABEiABKwQoAC0QoltSIAESIAESIAESCCMCFAAhtFmcikkQAIkQAIkQAIkYIUABaAVSmxDAiRAAiRAAiRAAmFEgAIwjDaTSyEBEiABEiABEiABKwQoAK1QYhsSIAESIAESIAESCCMCFIBhtJlcCgl4mQDeDIDXm+HNOHhvtttWVlYmK1eu1FdXRURENDk8Xi24bds2efToUbNt3V4HxyMBEvAGAQpAb+wzV0kCYUUAr+EbNmyYHDp0yLcuvDcUr9zCO5v/j1dtjRo1StasWSNZWVmWWI8YMUJyc3Nl4cKFltqzEQmQAAnYSYAC0E6a7IsESMAVAoEEoCsDNzJIeXm5pKSkyJcvX6Rjx46WpnL48GEpLi6W+/fvW2rPRiRAAiRgJwEKQDtpsi8SIAHHCSxZskROnz5db5yKigrBi+P9Q8CnTp2StWvXqshat26dVFZWyowZM/RnS0tLJS8vT378+KEeOHgS27Ztq33Ck7h161YpKSmR79+/y+DBg2Xv3r0C0dmYrV69Wj59+iQXL170NXn69KmO//DhQ/VIxsfHy7FjxwSeQtj79++lT58+8ubNG+nXr5/j3DgACZAACfgToADk9UACJNCqCEC0wdsGYbZz506de2xsrNy9e/c/AjAnJ0eFGwRcTU2NpKamysiRIzVHEALw7du3kpaWJkVFRTJv3jztKzMzU8Xknj17pEePHnL58mUVhM+ePVMRF8gQjp4/f75s2rTJ9zXmN3z4cNmyZYuKyydPnsiAAQNk6NChvjYIVxcUFMjixYtb1R5wsiRAAq2fAAVg699DroAEPEcgUAi4YREIPIDZ2dny+vVr6d+/vzJasWKFnDlzRkO1UVFR+tn06dPVE1dYWKjeOIi8qqoqFX/GpkyZIqNHj5b8/PyArCEoEdL1z//r0qWLftaUuEMe4OzZs1WM0kiABEjATQIUgG7S5lgkQAK2ELAqAFetWiU/f/70jQmhhfDv8+fPfZ9BoME7eOnSJQ3hZmRkSGRkZL15/vr1S72H58+fDzj/Dh06aKg5PT3d9/327dtl9+7dkpycLBCQ+M4IUdNo7NixMm7cOPVQ0kiABEjATQIUgG7S5lgkQAK2ELAqAJGDhzw+YxBlV65c0XCsMeQUog0+h8BDCBgC0eQEmnbwGHbr1i3g/Hv27KlePISc/e3ly5dy48YNuXnzpty+fVvOnTsnc+bM8TUZOHCgLF26VNavX28LF3ZCAiRAAlYJUABaJcV2JEACIUNg6tSpkpCQoCFWY4FCwMEKQAg29Hvnzh0ZP3685fXOnDlT4uLi6h1L0/CHkSMIb+S1a9f0q7q6OkGYGOJw8uTJlsdiQxIgARKwgwAFoB0U2QcJkICrBOBpgxfvwoULmssXHR2toi1QFXAwHkAsAlXB9+7dkwMHDmgRR3V1teCQ5yFDhmgVcSCDEEV1MSp+YbW1tbJhwwaZO3eu9O3bV3MKEWpGwYkJ90Kwzpo1S/MRO3fu7Co/DkYCJEACFIC8BkiABFodAXjqIKhw1ArEVlPHwAQrAH///i27du3SyuCPHz9KTEyMJCUlyY4dO1QEBjK8fQRh4MePH6sHEUfJYH4QkhB4Xbt21RzCffv2+c4JXL58uR4Pg+ITGgmQAAm4TYAC0G3iHI8ESCAsCWzcuFHPFcRZf83Z169fJTExUT2G8BDSSIAESMBtAhSAbhPneCRAAmFJAOLv6NGjehZgwwKShgt+8OCBei3N2YNhCYSLIgESCGkCFIAhvT2cHAmQAAmQAAmQAAnYT4AC0H6m7JEESIAESIAESIAEQpoABRjFymoAAACfSURBVGBIbw8nRwIkQAIkQAIkQAL2E6AAtJ8peyQBEiABEiABEiCBkCZAARjS28PJkQAJkAAJkAAJkID9BCgA7WfKHkmABEiABEiABEggpAlQAIb09nByJEACJEACJEACJGA/AQpA+5myRxIgARIgARIgARIIaQIUgCG9PZwcCZAACZAACZAACdhPgALQfqbskQRIgARIgARIgARCmsA/Bghgvy7sZWMAAAAASUVORK5CYII=\" width=\"640\">"
      ],
      "text/plain": [
       "<IPython.core.display.HTML object>"
      ]
     },
     "metadata": {},
     "output_type": "display_data"
    },
    {
     "data": {
      "text/plain": [
       "Text(0, 0.5, 'real')"
      ]
     },
     "execution_count": 27,
     "metadata": {},
     "output_type": "execute_result"
    }
   ],
   "source": [
    "fig = plt.figure()\n",
    "ax = fig.add_subplot(111)\n",
    "ax.plot(t[0:1000], s[0:1000], '.')\n",
    "ax.set_xlabel('time (s)')\n",
    "ax.set_ylabel('real')"
   ]
  },
  {
   "cell_type": "code",
   "execution_count": 28,
   "metadata": {},
   "outputs": [
    {
     "data": {
      "text/plain": [
       "array([0.99802673+6.27905195e-02j, 0.9921147 +1.25333234e-01j,\n",
       "       0.98228725+1.87381315e-01j, ..., 0.9921147 -1.25333234e-01j,\n",
       "       0.99802673-6.27905195e-02j, 1.        +1.96438672e-15j])"
      ]
     },
     "execution_count": 28,
     "metadata": {},
     "output_type": "execute_result"
    }
   ],
   "source": [
    "c = np.exp(theta*1j)\n",
    "c"
   ]
  },
  {
   "cell_type": "code",
   "execution_count": 29,
   "metadata": {},
   "outputs": [
    {
     "data": {
      "application/javascript": [
       "/* Put everything inside the global mpl namespace */\n",
       "window.mpl = {};\n",
       "\n",
       "\n",
       "mpl.get_websocket_type = function() {\n",
       "    if (typeof(WebSocket) !== 'undefined') {\n",
       "        return WebSocket;\n",
       "    } else if (typeof(MozWebSocket) !== 'undefined') {\n",
       "        return MozWebSocket;\n",
       "    } else {\n",
       "        alert('Your browser does not have WebSocket support. ' +\n",
       "              'Please try Chrome, Safari or Firefox ≥ 6. ' +\n",
       "              'Firefox 4 and 5 are also supported but you ' +\n",
       "              'have to enable WebSockets in about:config.');\n",
       "    };\n",
       "}\n",
       "\n",
       "mpl.figure = function(figure_id, websocket, ondownload, parent_element) {\n",
       "    this.id = figure_id;\n",
       "\n",
       "    this.ws = websocket;\n",
       "\n",
       "    this.supports_binary = (this.ws.binaryType != undefined);\n",
       "\n",
       "    if (!this.supports_binary) {\n",
       "        var warnings = document.getElementById(\"mpl-warnings\");\n",
       "        if (warnings) {\n",
       "            warnings.style.display = 'block';\n",
       "            warnings.textContent = (\n",
       "                \"This browser does not support binary websocket messages. \" +\n",
       "                    \"Performance may be slow.\");\n",
       "        }\n",
       "    }\n",
       "\n",
       "    this.imageObj = new Image();\n",
       "\n",
       "    this.context = undefined;\n",
       "    this.message = undefined;\n",
       "    this.canvas = undefined;\n",
       "    this.rubberband_canvas = undefined;\n",
       "    this.rubberband_context = undefined;\n",
       "    this.format_dropdown = undefined;\n",
       "\n",
       "    this.image_mode = 'full';\n",
       "\n",
       "    this.root = $('<div/>');\n",
       "    this._root_extra_style(this.root)\n",
       "    this.root.attr('style', 'display: inline-block');\n",
       "\n",
       "    $(parent_element).append(this.root);\n",
       "\n",
       "    this._init_header(this);\n",
       "    this._init_canvas(this);\n",
       "    this._init_toolbar(this);\n",
       "\n",
       "    var fig = this;\n",
       "\n",
       "    this.waiting = false;\n",
       "\n",
       "    this.ws.onopen =  function () {\n",
       "            fig.send_message(\"supports_binary\", {value: fig.supports_binary});\n",
       "            fig.send_message(\"send_image_mode\", {});\n",
       "            if (mpl.ratio != 1) {\n",
       "                fig.send_message(\"set_dpi_ratio\", {'dpi_ratio': mpl.ratio});\n",
       "            }\n",
       "            fig.send_message(\"refresh\", {});\n",
       "        }\n",
       "\n",
       "    this.imageObj.onload = function() {\n",
       "            if (fig.image_mode == 'full') {\n",
       "                // Full images could contain transparency (where diff images\n",
       "                // almost always do), so we need to clear the canvas so that\n",
       "                // there is no ghosting.\n",
       "                fig.context.clearRect(0, 0, fig.canvas.width, fig.canvas.height);\n",
       "            }\n",
       "            fig.context.drawImage(fig.imageObj, 0, 0);\n",
       "        };\n",
       "\n",
       "    this.imageObj.onunload = function() {\n",
       "        fig.ws.close();\n",
       "    }\n",
       "\n",
       "    this.ws.onmessage = this._make_on_message_function(this);\n",
       "\n",
       "    this.ondownload = ondownload;\n",
       "}\n",
       "\n",
       "mpl.figure.prototype._init_header = function() {\n",
       "    var titlebar = $(\n",
       "        '<div class=\"ui-dialog-titlebar ui-widget-header ui-corner-all ' +\n",
       "        'ui-helper-clearfix\"/>');\n",
       "    var titletext = $(\n",
       "        '<div class=\"ui-dialog-title\" style=\"width: 100%; ' +\n",
       "        'text-align: center; padding: 3px;\"/>');\n",
       "    titlebar.append(titletext)\n",
       "    this.root.append(titlebar);\n",
       "    this.header = titletext[0];\n",
       "}\n",
       "\n",
       "\n",
       "\n",
       "mpl.figure.prototype._canvas_extra_style = function(canvas_div) {\n",
       "\n",
       "}\n",
       "\n",
       "\n",
       "mpl.figure.prototype._root_extra_style = function(canvas_div) {\n",
       "\n",
       "}\n",
       "\n",
       "mpl.figure.prototype._init_canvas = function() {\n",
       "    var fig = this;\n",
       "\n",
       "    var canvas_div = $('<div/>');\n",
       "\n",
       "    canvas_div.attr('style', 'position: relative; clear: both; outline: 0');\n",
       "\n",
       "    function canvas_keyboard_event(event) {\n",
       "        return fig.key_event(event, event['data']);\n",
       "    }\n",
       "\n",
       "    canvas_div.keydown('key_press', canvas_keyboard_event);\n",
       "    canvas_div.keyup('key_release', canvas_keyboard_event);\n",
       "    this.canvas_div = canvas_div\n",
       "    this._canvas_extra_style(canvas_div)\n",
       "    this.root.append(canvas_div);\n",
       "\n",
       "    var canvas = $('<canvas/>');\n",
       "    canvas.addClass('mpl-canvas');\n",
       "    canvas.attr('style', \"left: 0; top: 0; z-index: 0; outline: 0\")\n",
       "\n",
       "    this.canvas = canvas[0];\n",
       "    this.context = canvas[0].getContext(\"2d\");\n",
       "\n",
       "    var backingStore = this.context.backingStorePixelRatio ||\n",
       "\tthis.context.webkitBackingStorePixelRatio ||\n",
       "\tthis.context.mozBackingStorePixelRatio ||\n",
       "\tthis.context.msBackingStorePixelRatio ||\n",
       "\tthis.context.oBackingStorePixelRatio ||\n",
       "\tthis.context.backingStorePixelRatio || 1;\n",
       "\n",
       "    mpl.ratio = (window.devicePixelRatio || 1) / backingStore;\n",
       "\n",
       "    var rubberband = $('<canvas/>');\n",
       "    rubberband.attr('style', \"position: absolute; left: 0; top: 0; z-index: 1;\")\n",
       "\n",
       "    var pass_mouse_events = true;\n",
       "\n",
       "    canvas_div.resizable({\n",
       "        start: function(event, ui) {\n",
       "            pass_mouse_events = false;\n",
       "        },\n",
       "        resize: function(event, ui) {\n",
       "            fig.request_resize(ui.size.width, ui.size.height);\n",
       "        },\n",
       "        stop: function(event, ui) {\n",
       "            pass_mouse_events = true;\n",
       "            fig.request_resize(ui.size.width, ui.size.height);\n",
       "        },\n",
       "    });\n",
       "\n",
       "    function mouse_event_fn(event) {\n",
       "        if (pass_mouse_events)\n",
       "            return fig.mouse_event(event, event['data']);\n",
       "    }\n",
       "\n",
       "    rubberband.mousedown('button_press', mouse_event_fn);\n",
       "    rubberband.mouseup('button_release', mouse_event_fn);\n",
       "    // Throttle sequential mouse events to 1 every 20ms.\n",
       "    rubberband.mousemove('motion_notify', mouse_event_fn);\n",
       "\n",
       "    rubberband.mouseenter('figure_enter', mouse_event_fn);\n",
       "    rubberband.mouseleave('figure_leave', mouse_event_fn);\n",
       "\n",
       "    canvas_div.on(\"wheel\", function (event) {\n",
       "        event = event.originalEvent;\n",
       "        event['data'] = 'scroll'\n",
       "        if (event.deltaY < 0) {\n",
       "            event.step = 1;\n",
       "        } else {\n",
       "            event.step = -1;\n",
       "        }\n",
       "        mouse_event_fn(event);\n",
       "    });\n",
       "\n",
       "    canvas_div.append(canvas);\n",
       "    canvas_div.append(rubberband);\n",
       "\n",
       "    this.rubberband = rubberband;\n",
       "    this.rubberband_canvas = rubberband[0];\n",
       "    this.rubberband_context = rubberband[0].getContext(\"2d\");\n",
       "    this.rubberband_context.strokeStyle = \"#000000\";\n",
       "\n",
       "    this._resize_canvas = function(width, height) {\n",
       "        // Keep the size of the canvas, canvas container, and rubber band\n",
       "        // canvas in synch.\n",
       "        canvas_div.css('width', width)\n",
       "        canvas_div.css('height', height)\n",
       "\n",
       "        canvas.attr('width', width * mpl.ratio);\n",
       "        canvas.attr('height', height * mpl.ratio);\n",
       "        canvas.attr('style', 'width: ' + width + 'px; height: ' + height + 'px;');\n",
       "\n",
       "        rubberband.attr('width', width);\n",
       "        rubberband.attr('height', height);\n",
       "    }\n",
       "\n",
       "    // Set the figure to an initial 600x600px, this will subsequently be updated\n",
       "    // upon first draw.\n",
       "    this._resize_canvas(600, 600);\n",
       "\n",
       "    // Disable right mouse context menu.\n",
       "    $(this.rubberband_canvas).bind(\"contextmenu\",function(e){\n",
       "        return false;\n",
       "    });\n",
       "\n",
       "    function set_focus () {\n",
       "        canvas.focus();\n",
       "        canvas_div.focus();\n",
       "    }\n",
       "\n",
       "    window.setTimeout(set_focus, 100);\n",
       "}\n",
       "\n",
       "mpl.figure.prototype._init_toolbar = function() {\n",
       "    var fig = this;\n",
       "\n",
       "    var nav_element = $('<div/>');\n",
       "    nav_element.attr('style', 'width: 100%');\n",
       "    this.root.append(nav_element);\n",
       "\n",
       "    // Define a callback function for later on.\n",
       "    function toolbar_event(event) {\n",
       "        return fig.toolbar_button_onclick(event['data']);\n",
       "    }\n",
       "    function toolbar_mouse_event(event) {\n",
       "        return fig.toolbar_button_onmouseover(event['data']);\n",
       "    }\n",
       "\n",
       "    for(var toolbar_ind in mpl.toolbar_items) {\n",
       "        var name = mpl.toolbar_items[toolbar_ind][0];\n",
       "        var tooltip = mpl.toolbar_items[toolbar_ind][1];\n",
       "        var image = mpl.toolbar_items[toolbar_ind][2];\n",
       "        var method_name = mpl.toolbar_items[toolbar_ind][3];\n",
       "\n",
       "        if (!name) {\n",
       "            // put a spacer in here.\n",
       "            continue;\n",
       "        }\n",
       "        var button = $('<button/>');\n",
       "        button.addClass('ui-button ui-widget ui-state-default ui-corner-all ' +\n",
       "                        'ui-button-icon-only');\n",
       "        button.attr('role', 'button');\n",
       "        button.attr('aria-disabled', 'false');\n",
       "        button.click(method_name, toolbar_event);\n",
       "        button.mouseover(tooltip, toolbar_mouse_event);\n",
       "\n",
       "        var icon_img = $('<span/>');\n",
       "        icon_img.addClass('ui-button-icon-primary ui-icon');\n",
       "        icon_img.addClass(image);\n",
       "        icon_img.addClass('ui-corner-all');\n",
       "\n",
       "        var tooltip_span = $('<span/>');\n",
       "        tooltip_span.addClass('ui-button-text');\n",
       "        tooltip_span.html(tooltip);\n",
       "\n",
       "        button.append(icon_img);\n",
       "        button.append(tooltip_span);\n",
       "\n",
       "        nav_element.append(button);\n",
       "    }\n",
       "\n",
       "    var fmt_picker_span = $('<span/>');\n",
       "\n",
       "    var fmt_picker = $('<select/>');\n",
       "    fmt_picker.addClass('mpl-toolbar-option ui-widget ui-widget-content');\n",
       "    fmt_picker_span.append(fmt_picker);\n",
       "    nav_element.append(fmt_picker_span);\n",
       "    this.format_dropdown = fmt_picker[0];\n",
       "\n",
       "    for (var ind in mpl.extensions) {\n",
       "        var fmt = mpl.extensions[ind];\n",
       "        var option = $(\n",
       "            '<option/>', {selected: fmt === mpl.default_extension}).html(fmt);\n",
       "        fmt_picker.append(option);\n",
       "    }\n",
       "\n",
       "    // Add hover states to the ui-buttons\n",
       "    $( \".ui-button\" ).hover(\n",
       "        function() { $(this).addClass(\"ui-state-hover\");},\n",
       "        function() { $(this).removeClass(\"ui-state-hover\");}\n",
       "    );\n",
       "\n",
       "    var status_bar = $('<span class=\"mpl-message\"/>');\n",
       "    nav_element.append(status_bar);\n",
       "    this.message = status_bar[0];\n",
       "}\n",
       "\n",
       "mpl.figure.prototype.request_resize = function(x_pixels, y_pixels) {\n",
       "    // Request matplotlib to resize the figure. Matplotlib will then trigger a resize in the client,\n",
       "    // which will in turn request a refresh of the image.\n",
       "    this.send_message('resize', {'width': x_pixels, 'height': y_pixels});\n",
       "}\n",
       "\n",
       "mpl.figure.prototype.send_message = function(type, properties) {\n",
       "    properties['type'] = type;\n",
       "    properties['figure_id'] = this.id;\n",
       "    this.ws.send(JSON.stringify(properties));\n",
       "}\n",
       "\n",
       "mpl.figure.prototype.send_draw_message = function() {\n",
       "    if (!this.waiting) {\n",
       "        this.waiting = true;\n",
       "        this.ws.send(JSON.stringify({type: \"draw\", figure_id: this.id}));\n",
       "    }\n",
       "}\n",
       "\n",
       "\n",
       "mpl.figure.prototype.handle_save = function(fig, msg) {\n",
       "    var format_dropdown = fig.format_dropdown;\n",
       "    var format = format_dropdown.options[format_dropdown.selectedIndex].value;\n",
       "    fig.ondownload(fig, format);\n",
       "}\n",
       "\n",
       "\n",
       "mpl.figure.prototype.handle_resize = function(fig, msg) {\n",
       "    var size = msg['size'];\n",
       "    if (size[0] != fig.canvas.width || size[1] != fig.canvas.height) {\n",
       "        fig._resize_canvas(size[0], size[1]);\n",
       "        fig.send_message(\"refresh\", {});\n",
       "    };\n",
       "}\n",
       "\n",
       "mpl.figure.prototype.handle_rubberband = function(fig, msg) {\n",
       "    var x0 = msg['x0'] / mpl.ratio;\n",
       "    var y0 = (fig.canvas.height - msg['y0']) / mpl.ratio;\n",
       "    var x1 = msg['x1'] / mpl.ratio;\n",
       "    var y1 = (fig.canvas.height - msg['y1']) / mpl.ratio;\n",
       "    x0 = Math.floor(x0) + 0.5;\n",
       "    y0 = Math.floor(y0) + 0.5;\n",
       "    x1 = Math.floor(x1) + 0.5;\n",
       "    y1 = Math.floor(y1) + 0.5;\n",
       "    var min_x = Math.min(x0, x1);\n",
       "    var min_y = Math.min(y0, y1);\n",
       "    var width = Math.abs(x1 - x0);\n",
       "    var height = Math.abs(y1 - y0);\n",
       "\n",
       "    fig.rubberband_context.clearRect(\n",
       "        0, 0, fig.canvas.width, fig.canvas.height);\n",
       "\n",
       "    fig.rubberband_context.strokeRect(min_x, min_y, width, height);\n",
       "}\n",
       "\n",
       "mpl.figure.prototype.handle_figure_label = function(fig, msg) {\n",
       "    // Updates the figure title.\n",
       "    fig.header.textContent = msg['label'];\n",
       "}\n",
       "\n",
       "mpl.figure.prototype.handle_cursor = function(fig, msg) {\n",
       "    var cursor = msg['cursor'];\n",
       "    switch(cursor)\n",
       "    {\n",
       "    case 0:\n",
       "        cursor = 'pointer';\n",
       "        break;\n",
       "    case 1:\n",
       "        cursor = 'default';\n",
       "        break;\n",
       "    case 2:\n",
       "        cursor = 'crosshair';\n",
       "        break;\n",
       "    case 3:\n",
       "        cursor = 'move';\n",
       "        break;\n",
       "    }\n",
       "    fig.rubberband_canvas.style.cursor = cursor;\n",
       "}\n",
       "\n",
       "mpl.figure.prototype.handle_message = function(fig, msg) {\n",
       "    fig.message.textContent = msg['message'];\n",
       "}\n",
       "\n",
       "mpl.figure.prototype.handle_draw = function(fig, msg) {\n",
       "    // Request the server to send over a new figure.\n",
       "    fig.send_draw_message();\n",
       "}\n",
       "\n",
       "mpl.figure.prototype.handle_image_mode = function(fig, msg) {\n",
       "    fig.image_mode = msg['mode'];\n",
       "}\n",
       "\n",
       "mpl.figure.prototype.updated_canvas_event = function() {\n",
       "    // Called whenever the canvas gets updated.\n",
       "    this.send_message(\"ack\", {});\n",
       "}\n",
       "\n",
       "// A function to construct a web socket function for onmessage handling.\n",
       "// Called in the figure constructor.\n",
       "mpl.figure.prototype._make_on_message_function = function(fig) {\n",
       "    return function socket_on_message(evt) {\n",
       "        if (evt.data instanceof Blob) {\n",
       "            /* FIXME: We get \"Resource interpreted as Image but\n",
       "             * transferred with MIME type text/plain:\" errors on\n",
       "             * Chrome.  But how to set the MIME type?  It doesn't seem\n",
       "             * to be part of the websocket stream */\n",
       "            evt.data.type = \"image/png\";\n",
       "\n",
       "            /* Free the memory for the previous frames */\n",
       "            if (fig.imageObj.src) {\n",
       "                (window.URL || window.webkitURL).revokeObjectURL(\n",
       "                    fig.imageObj.src);\n",
       "            }\n",
       "\n",
       "            fig.imageObj.src = (window.URL || window.webkitURL).createObjectURL(\n",
       "                evt.data);\n",
       "            fig.updated_canvas_event();\n",
       "            fig.waiting = false;\n",
       "            return;\n",
       "        }\n",
       "        else if (typeof evt.data === 'string' && evt.data.slice(0, 21) == \"data:image/png;base64\") {\n",
       "            fig.imageObj.src = evt.data;\n",
       "            fig.updated_canvas_event();\n",
       "            fig.waiting = false;\n",
       "            return;\n",
       "        }\n",
       "\n",
       "        var msg = JSON.parse(evt.data);\n",
       "        var msg_type = msg['type'];\n",
       "\n",
       "        // Call the  \"handle_{type}\" callback, which takes\n",
       "        // the figure and JSON message as its only arguments.\n",
       "        try {\n",
       "            var callback = fig[\"handle_\" + msg_type];\n",
       "        } catch (e) {\n",
       "            console.log(\"No handler for the '\" + msg_type + \"' message type: \", msg);\n",
       "            return;\n",
       "        }\n",
       "\n",
       "        if (callback) {\n",
       "            try {\n",
       "                // console.log(\"Handling '\" + msg_type + \"' message: \", msg);\n",
       "                callback(fig, msg);\n",
       "            } catch (e) {\n",
       "                console.log(\"Exception inside the 'handler_\" + msg_type + \"' callback:\", e, e.stack, msg);\n",
       "            }\n",
       "        }\n",
       "    };\n",
       "}\n",
       "\n",
       "// from http://stackoverflow.com/questions/1114465/getting-mouse-location-in-canvas\n",
       "mpl.findpos = function(e) {\n",
       "    //this section is from http://www.quirksmode.org/js/events_properties.html\n",
       "    var targ;\n",
       "    if (!e)\n",
       "        e = window.event;\n",
       "    if (e.target)\n",
       "        targ = e.target;\n",
       "    else if (e.srcElement)\n",
       "        targ = e.srcElement;\n",
       "    if (targ.nodeType == 3) // defeat Safari bug\n",
       "        targ = targ.parentNode;\n",
       "\n",
       "    // jQuery normalizes the pageX and pageY\n",
       "    // pageX,Y are the mouse positions relative to the document\n",
       "    // offset() returns the position of the element relative to the document\n",
       "    var x = e.pageX - $(targ).offset().left;\n",
       "    var y = e.pageY - $(targ).offset().top;\n",
       "\n",
       "    return {\"x\": x, \"y\": y};\n",
       "};\n",
       "\n",
       "/*\n",
       " * return a copy of an object with only non-object keys\n",
       " * we need this to avoid circular references\n",
       " * http://stackoverflow.com/a/24161582/3208463\n",
       " */\n",
       "function simpleKeys (original) {\n",
       "  return Object.keys(original).reduce(function (obj, key) {\n",
       "    if (typeof original[key] !== 'object')\n",
       "        obj[key] = original[key]\n",
       "    return obj;\n",
       "  }, {});\n",
       "}\n",
       "\n",
       "mpl.figure.prototype.mouse_event = function(event, name) {\n",
       "    var canvas_pos = mpl.findpos(event)\n",
       "\n",
       "    if (name === 'button_press')\n",
       "    {\n",
       "        this.canvas.focus();\n",
       "        this.canvas_div.focus();\n",
       "    }\n",
       "\n",
       "    var x = canvas_pos.x * mpl.ratio;\n",
       "    var y = canvas_pos.y * mpl.ratio;\n",
       "\n",
       "    this.send_message(name, {x: x, y: y, button: event.button,\n",
       "                             step: event.step,\n",
       "                             guiEvent: simpleKeys(event)});\n",
       "\n",
       "    /* This prevents the web browser from automatically changing to\n",
       "     * the text insertion cursor when the button is pressed.  We want\n",
       "     * to control all of the cursor setting manually through the\n",
       "     * 'cursor' event from matplotlib */\n",
       "    event.preventDefault();\n",
       "    return false;\n",
       "}\n",
       "\n",
       "mpl.figure.prototype._key_event_extra = function(event, name) {\n",
       "    // Handle any extra behaviour associated with a key event\n",
       "}\n",
       "\n",
       "mpl.figure.prototype.key_event = function(event, name) {\n",
       "\n",
       "    // Prevent repeat events\n",
       "    if (name == 'key_press')\n",
       "    {\n",
       "        if (event.which === this._key)\n",
       "            return;\n",
       "        else\n",
       "            this._key = event.which;\n",
       "    }\n",
       "    if (name == 'key_release')\n",
       "        this._key = null;\n",
       "\n",
       "    var value = '';\n",
       "    if (event.ctrlKey && event.which != 17)\n",
       "        value += \"ctrl+\";\n",
       "    if (event.altKey && event.which != 18)\n",
       "        value += \"alt+\";\n",
       "    if (event.shiftKey && event.which != 16)\n",
       "        value += \"shift+\";\n",
       "\n",
       "    value += 'k';\n",
       "    value += event.which.toString();\n",
       "\n",
       "    this._key_event_extra(event, name);\n",
       "\n",
       "    this.send_message(name, {key: value,\n",
       "                             guiEvent: simpleKeys(event)});\n",
       "    return false;\n",
       "}\n",
       "\n",
       "mpl.figure.prototype.toolbar_button_onclick = function(name) {\n",
       "    if (name == 'download') {\n",
       "        this.handle_save(this, null);\n",
       "    } else {\n",
       "        this.send_message(\"toolbar_button\", {name: name});\n",
       "    }\n",
       "};\n",
       "\n",
       "mpl.figure.prototype.toolbar_button_onmouseover = function(tooltip) {\n",
       "    this.message.textContent = tooltip;\n",
       "};\n",
       "mpl.toolbar_items = [[\"Home\", \"Reset original view\", \"fa fa-home icon-home\", \"home\"], [\"Back\", \"Back to previous view\", \"fa fa-arrow-left icon-arrow-left\", \"back\"], [\"Forward\", \"Forward to next view\", \"fa fa-arrow-right icon-arrow-right\", \"forward\"], [\"\", \"\", \"\", \"\"], [\"Pan\", \"Pan axes with left mouse, zoom with right\", \"fa fa-arrows icon-move\", \"pan\"], [\"Zoom\", \"Zoom to rectangle\", \"fa fa-square-o icon-check-empty\", \"zoom\"], [\"\", \"\", \"\", \"\"], [\"Download\", \"Download plot\", \"fa fa-floppy-o icon-save\", \"download\"]];\n",
       "\n",
       "mpl.extensions = [\"eps\", \"jpeg\", \"pdf\", \"png\", \"ps\", \"raw\", \"svg\", \"tif\"];\n",
       "\n",
       "mpl.default_extension = \"png\";var comm_websocket_adapter = function(comm) {\n",
       "    // Create a \"websocket\"-like object which calls the given IPython comm\n",
       "    // object with the appropriate methods. Currently this is a non binary\n",
       "    // socket, so there is still some room for performance tuning.\n",
       "    var ws = {};\n",
       "\n",
       "    ws.close = function() {\n",
       "        comm.close()\n",
       "    };\n",
       "    ws.send = function(m) {\n",
       "        //console.log('sending', m);\n",
       "        comm.send(m);\n",
       "    };\n",
       "    // Register the callback with on_msg.\n",
       "    comm.on_msg(function(msg) {\n",
       "        //console.log('receiving', msg['content']['data'], msg);\n",
       "        // Pass the mpl event to the overridden (by mpl) onmessage function.\n",
       "        ws.onmessage(msg['content']['data'])\n",
       "    });\n",
       "    return ws;\n",
       "}\n",
       "\n",
       "mpl.mpl_figure_comm = function(comm, msg) {\n",
       "    // This is the function which gets called when the mpl process\n",
       "    // starts-up an IPython Comm through the \"matplotlib\" channel.\n",
       "\n",
       "    var id = msg.content.data.id;\n",
       "    // Get hold of the div created by the display call when the Comm\n",
       "    // socket was opened in Python.\n",
       "    var element = $(\"#\" + id);\n",
       "    var ws_proxy = comm_websocket_adapter(comm)\n",
       "\n",
       "    function ondownload(figure, format) {\n",
       "        window.open(figure.imageObj.src);\n",
       "    }\n",
       "\n",
       "    var fig = new mpl.figure(id, ws_proxy,\n",
       "                           ondownload,\n",
       "                           element.get(0));\n",
       "\n",
       "    // Call onopen now - mpl needs it, as it is assuming we've passed it a real\n",
       "    // web socket which is closed, not our websocket->open comm proxy.\n",
       "    ws_proxy.onopen();\n",
       "\n",
       "    fig.parent_element = element.get(0);\n",
       "    fig.cell_info = mpl.find_output_cell(\"<div id='\" + id + \"'></div>\");\n",
       "    if (!fig.cell_info) {\n",
       "        console.error(\"Failed to find cell for figure\", id, fig);\n",
       "        return;\n",
       "    }\n",
       "\n",
       "    var output_index = fig.cell_info[2]\n",
       "    var cell = fig.cell_info[0];\n",
       "\n",
       "};\n",
       "\n",
       "mpl.figure.prototype.handle_close = function(fig, msg) {\n",
       "    var width = fig.canvas.width/mpl.ratio\n",
       "    fig.root.unbind('remove')\n",
       "\n",
       "    // Update the output cell to use the data from the current canvas.\n",
       "    fig.push_to_output();\n",
       "    var dataURL = fig.canvas.toDataURL();\n",
       "    // Re-enable the keyboard manager in IPython - without this line, in FF,\n",
       "    // the notebook keyboard shortcuts fail.\n",
       "    IPython.keyboard_manager.enable()\n",
       "    $(fig.parent_element).html('<img src=\"' + dataURL + '\" width=\"' + width + '\">');\n",
       "    fig.close_ws(fig, msg);\n",
       "}\n",
       "\n",
       "mpl.figure.prototype.close_ws = function(fig, msg){\n",
       "    fig.send_message('closing', msg);\n",
       "    // fig.ws.close()\n",
       "}\n",
       "\n",
       "mpl.figure.prototype.push_to_output = function(remove_interactive) {\n",
       "    // Turn the data on the canvas into data in the output cell.\n",
       "    var width = this.canvas.width/mpl.ratio\n",
       "    var dataURL = this.canvas.toDataURL();\n",
       "    this.cell_info[1]['text/html'] = '<img src=\"' + dataURL + '\" width=\"' + width + '\">';\n",
       "}\n",
       "\n",
       "mpl.figure.prototype.updated_canvas_event = function() {\n",
       "    // Tell IPython that the notebook contents must change.\n",
       "    IPython.notebook.set_dirty(true);\n",
       "    this.send_message(\"ack\", {});\n",
       "    var fig = this;\n",
       "    // Wait a second, then push the new image to the DOM so\n",
       "    // that it is saved nicely (might be nice to debounce this).\n",
       "    setTimeout(function () { fig.push_to_output() }, 1000);\n",
       "}\n",
       "\n",
       "mpl.figure.prototype._init_toolbar = function() {\n",
       "    var fig = this;\n",
       "\n",
       "    var nav_element = $('<div/>');\n",
       "    nav_element.attr('style', 'width: 100%');\n",
       "    this.root.append(nav_element);\n",
       "\n",
       "    // Define a callback function for later on.\n",
       "    function toolbar_event(event) {\n",
       "        return fig.toolbar_button_onclick(event['data']);\n",
       "    }\n",
       "    function toolbar_mouse_event(event) {\n",
       "        return fig.toolbar_button_onmouseover(event['data']);\n",
       "    }\n",
       "\n",
       "    for(var toolbar_ind in mpl.toolbar_items){\n",
       "        var name = mpl.toolbar_items[toolbar_ind][0];\n",
       "        var tooltip = mpl.toolbar_items[toolbar_ind][1];\n",
       "        var image = mpl.toolbar_items[toolbar_ind][2];\n",
       "        var method_name = mpl.toolbar_items[toolbar_ind][3];\n",
       "\n",
       "        if (!name) { continue; };\n",
       "\n",
       "        var button = $('<button class=\"btn btn-default\" href=\"#\" title=\"' + name + '\"><i class=\"fa ' + image + ' fa-lg\"></i></button>');\n",
       "        button.click(method_name, toolbar_event);\n",
       "        button.mouseover(tooltip, toolbar_mouse_event);\n",
       "        nav_element.append(button);\n",
       "    }\n",
       "\n",
       "    // Add the status bar.\n",
       "    var status_bar = $('<span class=\"mpl-message\" style=\"text-align:right; float: right;\"/>');\n",
       "    nav_element.append(status_bar);\n",
       "    this.message = status_bar[0];\n",
       "\n",
       "    // Add the close button to the window.\n",
       "    var buttongrp = $('<div class=\"btn-group inline pull-right\"></div>');\n",
       "    var button = $('<button class=\"btn btn-mini btn-primary\" href=\"#\" title=\"Stop Interaction\"><i class=\"fa fa-power-off icon-remove icon-large\"></i></button>');\n",
       "    button.click(function (evt) { fig.handle_close(fig, {}); } );\n",
       "    button.mouseover('Stop Interaction', toolbar_mouse_event);\n",
       "    buttongrp.append(button);\n",
       "    var titlebar = this.root.find($('.ui-dialog-titlebar'));\n",
       "    titlebar.prepend(buttongrp);\n",
       "}\n",
       "\n",
       "mpl.figure.prototype._root_extra_style = function(el){\n",
       "    var fig = this\n",
       "    el.on(\"remove\", function(){\n",
       "\tfig.close_ws(fig, {});\n",
       "    });\n",
       "}\n",
       "\n",
       "mpl.figure.prototype._canvas_extra_style = function(el){\n",
       "    // this is important to make the div 'focusable\n",
       "    el.attr('tabindex', 0)\n",
       "    // reach out to IPython and tell the keyboard manager to turn it's self\n",
       "    // off when our div gets focus\n",
       "\n",
       "    // location in version 3\n",
       "    if (IPython.notebook.keyboard_manager) {\n",
       "        IPython.notebook.keyboard_manager.register_events(el);\n",
       "    }\n",
       "    else {\n",
       "        // location in version 2\n",
       "        IPython.keyboard_manager.register_events(el);\n",
       "    }\n",
       "\n",
       "}\n",
       "\n",
       "mpl.figure.prototype._key_event_extra = function(event, name) {\n",
       "    var manager = IPython.notebook.keyboard_manager;\n",
       "    if (!manager)\n",
       "        manager = IPython.keyboard_manager;\n",
       "\n",
       "    // Check for shift+enter\n",
       "    if (event.shiftKey && event.which == 13) {\n",
       "        this.canvas_div.blur();\n",
       "        event.shiftKey = false;\n",
       "        // Send a \"J\" for go to next cell\n",
       "        event.which = 74;\n",
       "        event.keyCode = 74;\n",
       "        manager.command_mode();\n",
       "        manager.handle_keydown(event);\n",
       "    }\n",
       "}\n",
       "\n",
       "mpl.figure.prototype.handle_save = function(fig, msg) {\n",
       "    fig.ondownload(fig, null);\n",
       "}\n",
       "\n",
       "\n",
       "mpl.find_output_cell = function(html_output) {\n",
       "    // Return the cell and output element which can be found *uniquely* in the notebook.\n",
       "    // Note - this is a bit hacky, but it is done because the \"notebook_saving.Notebook\"\n",
       "    // IPython event is triggered only after the cells have been serialised, which for\n",
       "    // our purposes (turning an active figure into a static one), is too late.\n",
       "    var cells = IPython.notebook.get_cells();\n",
       "    var ncells = cells.length;\n",
       "    for (var i=0; i<ncells; i++) {\n",
       "        var cell = cells[i];\n",
       "        if (cell.cell_type === 'code'){\n",
       "            for (var j=0; j<cell.output_area.outputs.length; j++) {\n",
       "                var data = cell.output_area.outputs[j];\n",
       "                if (data.data) {\n",
       "                    // IPython >= 3 moved mimebundle to data attribute of output\n",
       "                    data = data.data;\n",
       "                }\n",
       "                if (data['text/html'] == html_output) {\n",
       "                    return [cell, data, j];\n",
       "                }\n",
       "            }\n",
       "        }\n",
       "    }\n",
       "}\n",
       "\n",
       "// Register the function which deals with the matplotlib target/channel.\n",
       "// The kernel may be null if the page has been refreshed.\n",
       "if (IPython.notebook.kernel != null) {\n",
       "    IPython.notebook.kernel.comm_manager.register_target('matplotlib', mpl.mpl_figure_comm);\n",
       "}\n"
      ],
      "text/plain": [
       "<IPython.core.display.Javascript object>"
      ]
     },
     "metadata": {},
     "output_type": "display_data"
    },
    {
     "data": {
      "text/html": [
       "<img src=\"data:image/png;base64,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\" width=\"640\">"
      ],
      "text/plain": [
       "<IPython.core.display.HTML object>"
      ]
     },
     "metadata": {},
     "output_type": "display_data"
    },
    {
     "data": {
      "text/plain": [
       "Text(0.5, 0, 'imag')"
      ]
     },
     "execution_count": 29,
     "metadata": {},
     "output_type": "execute_result"
    }
   ],
   "source": [
    "fig = plt.figure()\n",
    "ax = fig.add_subplot(111, projection='3d')\n",
    "ax.plot(t[0:1000], c.real[0:1000], c.imag[0:1000], '.')\n",
    "ax.set_xlabel('time (s)')\n",
    "ax.set_ylabel('real')\n",
    "ax.set_zlabel('imag')"
   ]
  },
  {
   "cell_type": "code",
   "execution_count": 30,
   "metadata": {},
   "outputs": [],
   "source": [
    "#3차원 벡터 (1000개의 점)\n",
    "#    c.real -> 실수 범위만 받아옴\n",
    "#    c.imag -> 복소수 범위를 받아옴\n",
    "#그래프를 위에서 봤을 때 -> time과 real만 보임 (cosx 그래프)\n",
    "#그래프를 옆쪽에서 봤을 때 -> time 과 imaginary 만 보임 (sinx 그래프)"
   ]
  }
 ],
 "metadata": {
  "kernelspec": {
   "display_name": "Python 3",
   "language": "python",
   "name": "python3"
  },
  "language_info": {
   "codemirror_mode": {
    "name": "ipython",
    "version": 3
   },
   "file_extension": ".py",
   "mimetype": "text/x-python",
   "name": "python",
   "nbconvert_exporter": "python",
   "pygments_lexer": "ipython3",
   "version": "3.7.3"
  }
 },
 "nbformat": 4,
 "nbformat_minor": 2
}
